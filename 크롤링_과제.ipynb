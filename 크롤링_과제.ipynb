{
  "cells": [
    {
      "cell_type": "markdown",
      "source": [
        "### 과제 url\n",
        "\n",
        "url => https://movie.naver.com/movie/sdb/rank/rmovie.naver \n",
        "\n",
        "평점은 관람객 평점만 하셔도 괜찮습니다!"
      ],
      "metadata": {
        "id": "KjhQLQiSabny"
      }
    },
    {
      "cell_type": "code",
      "source": [
        "url = 'https://movie.naver.com/movie/sdb/rank/rmovie.naver'\n",
        "res = requests.get(url)\n",
        "soup = BeautifulSoup(res.text, 'html.parser')\n"
      ],
      "metadata": {
        "id": "OrE3_rMylpKf"
      },
      "execution_count": 139,
      "outputs": []
    },
    {
      "cell_type": "code",
      "source": [
        "movies = soup.select('table.list_ranking tbody div.tit3')\n",
        "for index, actor in enumerate(movies[0:10]):\n",
        "    # actor_name = re.sub('\\(\\w*\\)', '', actor.text)\n",
        "    # actor_info_dict['이름'] = actor_name\n",
        "    \n",
        "    movie_link = 'https://movie.naver.com/movie' + actor.select_one('a')['href']\n",
        "    response_movie = requests.get(movie_link)\n",
        "    movie_soup = BeautifulSoup(response_movie.text, 'html.parser')\n",
        "    \n",
        "    information = []\n",
        "    \n",
        "    title = movie_soup.find('div', attrs={\"class\": 'mv_info_area'}).find('div', attrs={\"class\" : 'mv_info'}).find('h3', attrs={\"class\" : 'h_movie'}).find('a').text\n",
        "    information.append(title)\n",
        "    \n",
        "    try:\n",
        "          rating = movie_soup.find('div', class_ = \"mv_info_area\").find('div', class_='mv_info').find('div', class_='main_score').find('div', class_='star_score').find('span', class_='st_on').text\n",
        "          information.append(rating)\n",
        "            \n",
        "    except:\n",
        "          pass\n",
        "\n",
        "    summary = movie_soup.find('div', class_ = \"mv_info_area\").find('div', class_='mv_info').find('dl', class_ = \"info_spec\").find_all('dd')\n",
        "    # summary=summary.sub('<.+?>', '', str(summary), 0).strip()\n",
        "    info = summary[0].find_all('span')\n",
        "    for infos in info: \n",
        "      infos = infos.text.split()\n",
        "      information.append(infos)\n",
        "    \n",
        "    info2 = summary[1].find('p')\n",
        "    info2 = info2.text\n",
        "    information.append(info2)\n",
        "\n",
        "    info3 = summary[2].find('p')\n",
        "    info3 = info3.text\n",
        "    information.append(info3)\n",
        "\n",
        "    try:\n",
        "      info4 = summary[3].find('a')\n",
        "      info4 = info4.text\n",
        "      information.append(info4)\n",
        "    except:\n",
        "      pass\n",
        "   \n",
        "    try:\n",
        "      info5 = summary[4].find('p')\n",
        "      info5 = info5.text\n",
        "      information.append(info5)\n",
        "    except:\n",
        "      pass\n",
        "\n",
        "\n",
        "\n",
        "\n",
        "\n",
        "\n",
        "\n",
        "    print(information)"
      ],
      "metadata": {
        "colab": {
          "base_uri": "https://localhost:8080/"
        },
        "id": "2TbnMML5vjPy",
        "outputId": "92603af8-3cde-49f8-8c7d-9ba876d0aba5"
      },
      "execution_count": 140,
      "outputs": [
        {
          "output_type": "stream",
          "name": "stdout",
          "text": [
            "['비상선언', '관람객 평점 6.75점', ['드라마'], ['한국'], ['140분'], ['2022', '.08.03', '개봉'], '한재림', '송강호, 이병헌, 전도연', '12세 관람가', '1,495,336명(08.08 기준)']\n",
            "['한산: 용의 출현', '관람객 평점 8.51점', ['액션,', '드라마'], ['한국'], ['129분'], ['2022', '.07.27', '개봉'], '김한민', '박해일, 변요한, 안성기', '12세 관람가', '4,760,152명(08.08 기준)']\n",
            "['외계+인 1부', '관람객 평점 6.88점', ['액션,', '판타지,', 'SF'], ['한국'], ['142분'], ['2022', '.07.20', '개봉'], '최동훈', '류준열, 김우빈, 김태리', '12세 관람가', '1,501,779명(08.08 기준)']\n",
            "['탑건: 매버릭', '관람객 평점 9.59점', ['액션'], ['미국'], ['130분'], ['2022', '.06.22', '개봉'], '조셉 코신스키', '톰 크루즈(매버릭), 마일즈 텔러(루스터), 제니퍼 코넬리(페니)', '12세 관람가', '7,477,721명(08.08 기준)']\n",
            "['헤어질 결심', '관람객 평점 8.92점', ['멜로/로맨스,', '드라마,', '서스펜스'], ['한국'], ['138분'], ['2022', '.06.29', '개봉'], '박찬욱', '박해일(해준), 탕웨이(서래), 이정현(정안)', '15세 관람가', '1,783,308명(08.08 기준)']\n",
            "['헌트', ['액션,', '드라마'], ['한국'], ['125분'], ['2022', '.08.10', '개봉'], '이정재', '이정재(박평호), 정우성(김정도)', '15세 관람가']\n",
            "['카터', '관람객 평점 없음', ['액션,', '모험'], ['한국'], '정병길', '주원']\n",
            "['미니언즈2', '관람객 평점 7.86점', ['애니메이션,', '모험,', '코미디'], ['미국'], ['87분'], ['2022', '.07.20', '개봉'], '카일 발다', '스티브 카렐(그루 목소리), 타라지 P. 헨슨(벨 바텀 목소리), 양자경', '전체 관람가', '1,995,389명(08.08 기준)']\n",
            "['프레이', '관람객 평점 없음', ['액션,', '스릴러,', '드라마,', '공포,', 'SF'], ['미국'], ['99분'], '댄 트라첸버그', '엠버 미드썬더', '청소년 관람불가']\n",
            "['토르: 러브 앤 썬더', '관람객 평점 6.73점', ['액션,', '모험,', '판타지'], ['미국'], ['119분'], ['2022', '.07.06', '개봉'], '타이카 와이티티', '크리스 헴스워스(토르), 나탈리 포트만(제인 포스터), 테사 톰슨(발키리)', '12세 관람가', '2,714,787명(08.08 기준)']\n"
          ]
        }
      ]
    }
  ],
  "metadata": {
    "colab": {
      "collapsed_sections": [],
      "name": "크롤링 실습.ipynb",
      "provenance": []
    },
    "kernelspec": {
      "display_name": "Python 3",
      "language": "python",
      "name": "python3"
    },
    "language_info": {
      "codemirror_mode": {
        "name": "ipython",
        "version": 3
      },
      "file_extension": ".py",
      "mimetype": "text/x-python",
      "name": "python",
      "nbconvert_exporter": "python",
      "pygments_lexer": "ipython3",
      "version": "3.8.8"
    }
  },
  "nbformat": 4,
  "nbformat_minor": 0
}