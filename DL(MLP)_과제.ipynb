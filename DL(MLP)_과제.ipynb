{
  "nbformat": 4,
  "nbformat_minor": 0,
  "metadata": {
    "kernelspec": {
      "display_name": "Python 3",
      "language": "python",
      "name": "python3"
    },
    "language_info": {
      "codemirror_mode": {
        "name": "ipython",
        "version": 3
      },
      "file_extension": ".py",
      "mimetype": "text/x-python",
      "name": "python",
      "nbconvert_exporter": "python",
      "pygments_lexer": "ipython3",
      "version": "3.7.1"
    },
    "colab": {
      "name": "DL(MLP)_과제.ipynb",
      "provenance": []
    },
    "accelerator": "GPU"
  },
  "cells": [
    {
      "cell_type": "markdown",
      "metadata": {
        "id": "MN_pVd5cU2QQ"
      },
      "source": [
        "# 과제: MNIST 데이터를 나만의 NN model로 95 % 이상의 성능으로 training 시켜보자!\n",
        "\n",
        "\n",
        "## Loading MNIST training data\n",
        "\n",
        "출처: 19기 DS 정은서님"
      ]
    },
    {
      "cell_type": "code",
      "metadata": {
        "id": "hwZNV5MFU2QQ"
      },
      "source": [
        "import tensorflow as tf\n",
        "from tensorflow import keras\n",
        "\n",
        "# import matplotlib\n",
        "import matplotlib.pyplot as plt\n",
        "%matplotlib inline\n",
        "\n",
        "# Loading the data\n",
        "(x_train, y_train), (x_test, y_test) = tf.keras.datasets.mnist.load_data()\n",
        "\n",
        "# Scaling(image data는 min-max scaling 주로 사용)\n",
        "x_train = x_train/255.0\n",
        "x_test = x_test/255.0"
      ],
      "execution_count": 20,
      "outputs": []
    },
    {
      "cell_type": "markdown",
      "metadata": {
        "id": "RDU8J2xRU2QQ"
      },
      "source": [
        "## Training Data\n",
        "28 * 28 pixel 값을 가진 총 60000개의 이미지 데이터"
      ]
    },
    {
      "cell_type": "code",
      "metadata": {
        "id": "jVvXmjQSU2QQ",
        "colab": {
          "base_uri": "https://localhost:8080/"
        },
        "outputId": "df665812-aff2-4826-ea15-e997490a61a8"
      },
      "source": [
        "x_train.shape "
      ],
      "execution_count": 21,
      "outputs": [
        {
          "output_type": "execute_result",
          "data": {
            "text/plain": [
              "(60000, 28, 28)"
            ]
          },
          "metadata": {},
          "execution_count": 21
        }
      ]
    },
    {
      "cell_type": "markdown",
      "metadata": {
        "id": "-VTAAYKSU2QQ"
      },
      "source": [
        "Neural network 모델에 맞게 이미지 데이터를 벡터 형태로 데이터를 reshape 합니다.  \n",
        "(Model을 만들 때 *keras.layers.Flatten(input_shape=(28, 28)) 이용해도 됨)"
      ]
    },
    {
      "cell_type": "code",
      "metadata": {
        "id": "dq36yUX8U2QR",
        "colab": {
          "base_uri": "https://localhost:8080/"
        },
        "outputId": "c3a742ea-ed5f-4e34-dbda-a43f5c2344c0"
      },
      "source": [
        "x_train, x_test = x_train.reshape((-1, 28*28)), x_test.reshape((-1, 28*28))\n",
        "x_train.shape"
      ],
      "execution_count": 22,
      "outputs": [
        {
          "output_type": "execute_result",
          "data": {
            "text/plain": [
              "(60000, 784)"
            ]
          },
          "metadata": {},
          "execution_count": 22
        }
      ]
    },
    {
      "cell_type": "code",
      "source": [
        "x_test.shape"
      ],
      "metadata": {
        "colab": {
          "base_uri": "https://localhost:8080/"
        },
        "id": "6JMrCYcU7hE4",
        "outputId": "056e8095-5d6c-478c-9018-63f2846ef8dc"
      },
      "execution_count": 23,
      "outputs": [
        {
          "output_type": "execute_result",
          "data": {
            "text/plain": [
              "(10000, 784)"
            ]
          },
          "metadata": {},
          "execution_count": 23
        }
      ]
    },
    {
      "cell_type": "code",
      "metadata": {
        "id": "zrQLH9iXU2QR",
        "colab": {
          "base_uri": "https://localhost:8080/",
          "height": 265
        },
        "outputId": "ef5d7816-9a19-4da1-bd11-5d425add1248"
      },
      "source": [
        "# Hint: x_train[0].reshape()\n",
        "plt.imshow(x_train[0].reshape(28,28)).set_cmap('Greys')"
      ],
      "execution_count": 24,
      "outputs": [
        {
          "output_type": "display_data",
          "data": {
            "text/plain": [
              "<Figure size 432x288 with 1 Axes>"
            ],
            "image/png": "[encoded data removed]"
          },
          "metadata": {
            "needs_background": "light"
          }
        }
      ]
    },
    {
      "cell_type": "markdown",
      "metadata": {
        "id": "0YZXzr-AU2QR"
      },
      "source": [
        "## Training Labels\n",
        "이미지 데이터가 나타내는 숫자값을 label로 가지고 있고, 0부터 9까지의 값을 나타냄  \n",
        "마찬가지로, 60000개의 label이 존재"
      ]
    },
    {
      "cell_type": "code",
      "metadata": {
        "id": "V-JVvQcJU2QR",
        "colab": {
          "base_uri": "https://localhost:8080/"
        },
        "outputId": "fbe1a94f-2fa1-486f-ab66-11a8fd46b37e"
      },
      "source": [
        "y_train.shape"
      ],
      "execution_count": 25,
      "outputs": [
        {
          "output_type": "execute_result",
          "data": {
            "text/plain": [
              "(60000,)"
            ]
          },
          "metadata": {},
          "execution_count": 25
        }
      ]
    },
    {
      "cell_type": "code",
      "metadata": {
        "id": "PgAkJK6yU2QR",
        "colab": {
          "base_uri": "https://localhost:8080/"
        },
        "outputId": "839d47c4-3c54-49d1-8405-4d8e1c177427"
      },
      "source": [
        "# show MNIST label for above data\n",
        "y_train[0]"
      ],
      "execution_count": 26,
      "outputs": [
        {
          "output_type": "execute_result",
          "data": {
            "text/plain": [
              "5"
            ]
          },
          "metadata": {},
          "execution_count": 26
        }
      ]
    },
    {
      "cell_type": "markdown",
      "metadata": {
        "id": "qaI3Kv_GU2QR"
      },
      "source": [
        "## 나만의 모델을 tensorflow keras API 를 이용해 만들어 봅시다~"
      ]
    },
    {
      "cell_type": "markdown",
      "metadata": {
        "id": "gSshVnt2U2QS"
      },
      "source": [
        "* parameters for model"
      ]
    },
    {
      "cell_type": "code",
      "metadata": {
        "id": "coUZ53nKU2QS"
      },
      "source": [
        "activation_list = [\"sigmoid\", \"relu\", \"softmax\", \"tanh\"]\n",
        "\n",
        "loss_list = [\"sparse_categorical_crossentropy\",\n",
        "             \"categorical_crossentropy\", \n",
        "             \"binary_crossentropy\"]\n",
        "\n",
        "optimizer_list = [\"sgd\", \"adam\", \"rmsprop\", \"adagrad\"]\n",
        "\n",
        "initializer_list = [tf.keras.initializers.RandomNormal(), \n",
        "                    tf.keras.initializers.RandomUniform(), \n",
        "                    tf.keras.initializers.he_normal(), \n",
        "                    tf.keras.initializers.he_uniform(), \n",
        "                    tf.keras.initializers.GlorotUniform(),\n",
        "                    tf.keras.initializers.GlorotNormal()]\n",
        "\n",
        "# dropout\n",
        "dropout_rate = 0.3\n",
        "model = tf.keras.Sequential([\n",
        "    tf.keras.layers.Dense(256, input_dim=784, activation = \"sigmoid\"),\n",
        "    tf.keras.layers.Dense(2, activation = \"sigmoid\"),\n",
        "    tf.keras.layers.Dropout(dropout_rate)\n",
        "])\n",
        "\n",
        "\n",
        "# regularizer\n",
        "regularizer = tf.keras.regularizers.l1(1e-3)\n",
        "regularizer = tf.keras.regularizers.l2(1e-3)\n",
        "model = tf.keras.Sequential([\n",
        "    tf.keras.layers.Dense(256, input_dim=784, activation=\"sigmoid\",\n",
        "                          activity_regularizer=regularizer)\n",
        "])\n",
        "\n",
        "# weight initialization\n",
        "model = tf.keras.Sequential([\n",
        "    tf.keras.layers.Dense(256, input_dim=784, activation=\"sigmoid\",\n",
        "                          kernel_initializer=initializer_list[0])\n",
        "])"
      ],
      "execution_count": 27,
      "outputs": []
    },
    {
      "cell_type": "markdown",
      "source": [
        ""
      ],
      "metadata": {
        "id": "OdxVRpfudzbi"
      }
    },
    {
      "cell_type": "markdown",
      "metadata": {
        "id": "d-6ZTz4AU2QS"
      },
      "source": [
        "#### My Own Model "
      ]
    },
    {
      "cell_type": "code",
      "metadata": {
        "id": "ziVbGe6sU2QS"
      },
      "source": [
        "#### 자유롭게 Model을 만들고 compile 해봅시다 ####\n",
        "from tensorflow.keras import layers\n",
        "model =  keras.Sequential(\n",
        "    [   \n",
        "        # layers.Dense(512, activation=\"relu\", name=\"layer1\",),\n",
        "        # layers.Dense(256, activation=\"relu\", name=\"layer2\"),\n",
        "        layers.Dense(128, activation=\"relu\", name=\"layer1\", input_shape=(784,)),\n",
        "        layers.Dense(64, activation=\"relu\", name=\"layer2\"),\n",
        "        layers.Dense(32, activation=\"relu\", name = \"layer3\"),\n",
        "        layers.Dense(16, activation=\"relu\", name=\"layer4\"),\n",
        "        layers.Dense(10, activation=\"Softmax\", name=\"layer5\")\n",
        "        # layers.Dense(4, activation=\"relu\", name=\"layer6\"),\n",
        "        # layers.Dense(2, activation=\"relu\", name=\"layer7\"),\n",
        "        # layers.Dense(1, activation = \"Softmax\",name=\"layer8\")\n",
        "      \n",
        "\n",
        "    ]\n",
        ")\n",
        "\n",
        "model.compile(optimizer='adam', loss=\"sparse_categorical_crossentropy\", metrics = [\"accuracy\"])"
      ],
      "execution_count": 43,
      "outputs": []
    },
    {
      "cell_type": "markdown",
      "metadata": {
        "id": "PVhLJHJ9U2QT"
      },
      "source": [
        "내가 만든 모델을 확인해 봅시다."
      ]
    },
    {
      "cell_type": "code",
      "metadata": {
        "id": "GChgw-8sU2QT",
        "colab": {
          "base_uri": "https://localhost:8080/"
        },
        "outputId": "743b5bfe-ac9f-45f6-e2f7-d2c893863ce8"
      },
      "source": [
        "model.summary()"
      ],
      "execution_count": 44,
      "outputs": [
        {
          "output_type": "stream",
          "name": "stdout",
          "text": [
            "Model: \"sequential_11\"\n",
            "_________________________________________________________________\n",
            " Layer (type)                Output Shape              Param #   \n",
            "=================================================================\n",
            " layer1 (Dense)              (None, 128)               100480    \n",
            "                                                                 \n",
            " layer2 (Dense)              (None, 64)                8256      \n",
            "                                                                 \n",
            " layer3 (Dense)              (None, 32)                2080      \n",
            "                                                                 \n",
            " layer4 (Dense)              (None, 16)                528       \n",
            "                                                                 \n",
            " layer5 (Dense)              (None, 10)                170       \n",
            "                                                                 \n",
            "=================================================================\n",
            "Total params: 111,514\n",
            "Trainable params: 111,514\n",
            "Non-trainable params: 0\n",
            "_________________________________________________________________\n"
          ]
        }
      ]
    },
    {
      "cell_type": "markdown",
      "metadata": {
        "id": "f9zWRRHIU2QT"
      },
      "source": [
        "model을 자유롭게 train 해봅시다.  "
      ]
    },
    {
      "cell_type": "code",
      "metadata": {
        "id": "6uygJ19gU2QT",
        "colab": {
          "base_uri": "https://localhost:8080/"
        },
        "outputId": "bddb3585-1113-4c83-a806-c21c37bc68f2"
      },
      "source": [
        "model.fit(x_train,y_train,epochs =20)"
      ],
      "execution_count": 45,
      "outputs": [
        {
          "output_type": "stream",
          "name": "stdout",
          "text": [
            "Epoch 1/20\n",
            "1875/1875 [==============================] - 5s 3ms/step - loss: 0.2767 - accuracy: 0.9193\n",
            "Epoch 2/20\n",
            "1875/1875 [==============================] - 6s 3ms/step - loss: 0.1131 - accuracy: 0.9657\n",
            "Epoch 3/20\n",
            "1875/1875 [==============================] - 5s 3ms/step - loss: 0.0768 - accuracy: 0.9765\n",
            "Epoch 4/20\n",
            "1875/1875 [==============================] - 5s 3ms/step - loss: 0.0616 - accuracy: 0.9806\n",
            "Epoch 5/20\n",
            "1875/1875 [==============================] - 5s 3ms/step - loss: 0.0508 - accuracy: 0.9841\n",
            "Epoch 6/20\n",
            "1875/1875 [==============================] - 5s 3ms/step - loss: 0.0408 - accuracy: 0.9869\n",
            "Epoch 7/20\n",
            "1875/1875 [==============================] - 5s 3ms/step - loss: 0.0341 - accuracy: 0.9893\n",
            "Epoch 8/20\n",
            "1875/1875 [==============================] - 5s 3ms/step - loss: 0.0315 - accuracy: 0.9899\n",
            "Epoch 9/20\n",
            "1875/1875 [==============================] - 5s 3ms/step - loss: 0.0274 - accuracy: 0.9909\n",
            "Epoch 10/20\n",
            "1875/1875 [==============================] - 5s 3ms/step - loss: 0.0257 - accuracy: 0.9912\n",
            "Epoch 11/20\n",
            "1875/1875 [==============================] - 5s 3ms/step - loss: 0.0211 - accuracy: 0.9928\n",
            "Epoch 12/20\n",
            "1875/1875 [==============================] - 5s 3ms/step - loss: 0.0200 - accuracy: 0.9932\n",
            "Epoch 13/20\n",
            "1875/1875 [==============================] - 5s 3ms/step - loss: 0.0184 - accuracy: 0.9936\n",
            "Epoch 14/20\n",
            "1875/1875 [==============================] - 5s 3ms/step - loss: 0.0151 - accuracy: 0.9951\n",
            "Epoch 15/20\n",
            "1875/1875 [==============================] - 5s 3ms/step - loss: 0.0180 - accuracy: 0.9944\n",
            "Epoch 16/20\n",
            "1875/1875 [==============================] - 5s 3ms/step - loss: 0.0141 - accuracy: 0.9955\n",
            "Epoch 17/20\n",
            "1875/1875 [==============================] - 5s 3ms/step - loss: 0.0151 - accuracy: 0.9954\n",
            "Epoch 18/20\n",
            "1875/1875 [==============================] - 5s 3ms/step - loss: 0.0167 - accuracy: 0.9946\n",
            "Epoch 19/20\n",
            "1875/1875 [==============================] - 5s 3ms/step - loss: 0.0110 - accuracy: 0.9966\n",
            "Epoch 20/20\n",
            "1875/1875 [==============================] - 5s 3ms/step - loss: 0.0127 - accuracy: 0.9960\n"
          ]
        },
        {
          "output_type": "execute_result",
          "data": {
            "text/plain": [
              "<keras.callbacks.History at 0x7fe3928ba750>"
            ]
          },
          "metadata": {},
          "execution_count": 45
        }
      ]
    },
    {
      "cell_type": "markdown",
      "metadata": {
        "id": "U8A4zKnEU2QT"
      },
      "source": [
        "95%이상의 성능을 가진 모델을 만들면 완성!"
      ]
    },
    {
      "cell_type": "code",
      "metadata": {
        "id": "9Xz0qGifU2QU",
        "colab": {
          "base_uri": "https://localhost:8080/"
        },
        "outputId": "5cc7321a-7724-484c-fabe-6884a94ceeb4"
      },
      "source": [
        "test_loss, test_acc = model.evaluate(x_test,y_test, verbose=2)\n",
        "\n",
        "print('\\nAccuracy:', test_acc)"
      ],
      "execution_count": 47,
      "outputs": [
        {
          "output_type": "stream",
          "name": "stdout",
          "text": [
            "313/313 - 1s - loss: 0.1057 - accuracy: 0.9770 - 595ms/epoch - 2ms/step\n",
            "\n",
            "Accuracy: 0.9769999980926514\n"
          ]
        }
      ]
    },
    {
      "cell_type": "markdown",
      "metadata": {
        "collapsed": true,
        "id": "EbcuzK_PU2QU"
      },
      "source": [
        "![](https://www.tensorflow.org/versions/master/images/mnist_tensorboard.png)"
      ]
    }
  ]
}