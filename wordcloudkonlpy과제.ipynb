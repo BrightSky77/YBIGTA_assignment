{
  "cells": [
    {
      "cell_type": "markdown",
      "source": [
        "<h1> 데이콘 영화리뷰 감성분석 경진대회 </h1>\n",
        "\n",
        "어렵지 않으니 스스로 # To do 부분을 채워보시고 고민해봐도 모르겠다면 코드공유를 참고해주세요! 아니면 과제를 다 하시고 설명이 자세히 적혀있는 코드공유로 리뷰를 하셔도 좋습니다"
      ],
      "metadata": {
        "id": "g90kUrOX_P53"
      }
    },
    {
      "cell_type": "markdown",
      "metadata": {
        "id": "n1QU5sygxzX5"
      },
      "source": [
        "# train.csv 학습/검증"
      ]
    },
    {
      "cell_type": "markdown",
      "metadata": {
        "id": "AAcvJqY7xzX8"
      },
      "source": [
        "### 필요한 패키지 불러오기\n"
      ]
    },
    {
      "cell_type": "code",
      "source": [
        "from google.colab import drive\n",
        "drive.mount('/content/drive')"
      ],
      "metadata": {
        "colab": {
          "base_uri": "https://localhost:8080/"
        },
        "id": "dAVQLrGB0gW_",
        "outputId": "a8d9d009-9a08-44c0-d8ad-5ea8f4c05507"
      },
      "execution_count": 58,
      "outputs": [
        {
          "output_type": "stream",
          "name": "stdout",
          "text": [
            "Drive already mounted at /content/drive; to attempt to forcibly remount, call drive.mount(\"/content/drive\", force_remount=True).\n"
          ]
        }
      ]
    },
    {
      "cell_type": "code",
      "execution_count": 59,
      "metadata": {
        "id": "CNZo3SKtxzX_"
      },
      "outputs": [],
      "source": [
        "import pandas as pd\n",
        "import numpy as np\n",
        "import re\n",
        "import warnings\n",
        "warnings.filterwarnings(action='ignore')\n",
        "import nltk\n",
        "#nltk.download('all') # 처음 실행 시 주석을 제거하고 실행해주세요!"
      ]
    },
    {
      "cell_type": "code",
      "source": [
        "!pip install konlpy"
      ],
      "metadata": {
        "colab": {
          "base_uri": "https://localhost:8080/"
        },
        "id": "3HOca6Yz1FK5",
        "outputId": "113d40e9-4585-4faf-87ce-360384f73af3"
      },
      "execution_count": 60,
      "outputs": [
        {
          "output_type": "stream",
          "name": "stdout",
          "text": [
            "Looking in indexes: https://pypi.org/simple, https://us-python.pkg.dev/colab-wheels/public/simple/\n",
            "Requirement already satisfied: konlpy in /usr/local/lib/python3.7/dist-packages (0.6.0)\n",
            "Requirement already satisfied: numpy>=1.6 in /usr/local/lib/python3.7/dist-packages (from konlpy) (1.21.6)\n",
            "Requirement already satisfied: JPype1>=0.7.0 in /usr/local/lib/python3.7/dist-packages (from konlpy) (1.4.0)\n",
            "Requirement already satisfied: lxml>=4.1.0 in /usr/local/lib/python3.7/dist-packages (from konlpy) (4.9.1)\n",
            "Requirement already satisfied: typing-extensions in /usr/local/lib/python3.7/dist-packages (from JPype1>=0.7.0->konlpy) (4.1.1)\n"
          ]
        }
      ]
    },
    {
      "cell_type": "markdown",
      "metadata": {
        "id": "9G_ACS_lxzYE"
      },
      "source": [
        "### train 데이터 불러오기"
      ]
    },
    {
      "cell_type": "code",
      "execution_count": 61,
      "metadata": {
        "id": "eReIcP8OxzYG",
        "colab": {
          "base_uri": "https://localhost:8080/",
          "height": 206
        },
        "outputId": "311ca03b-df1b-4ed3-ccf8-f1fe45bd84b7"
      },
      "outputs": [
        {
          "output_type": "execute_result",
          "data": {
            "text/plain": [
              "   id                                 document  label\n",
              "0   1                영상이나 음악이 이쁘다 해도 미화시킨 불륜일뿐      0\n",
              "1   2             히치콕이 이 영화를 봤다면 분명 박수를 쳤을듯...      1\n",
              "2   3     괜찮은 음악영화가 또 나왔군요!!! 따뜻한 겨울이 될 것 같아요~      1\n",
              "3   4              아무래도 20년도지난작품이라 지금보기는너무유치하다      0\n",
              "4   5  지금까지의 영화들이 그랬듯. 이 영화역시 일본에 대한 미화는 여전하다.      0"
            ],
            "text/html": [
              "\n",
              "  <div id=\"df-c54467e9-3939-427c-a8f1-131ee8439d10\">\n",
              "    <div class=\"colab-df-container\">\n",
              "      <div>\n",
              "<style scoped>\n",
              "    .dataframe tbody tr th:only-of-type {\n",
              "        vertical-align: middle;\n",
              "    }\n",
              "\n",
              "    .dataframe tbody tr th {\n",
              "        vertical-align: top;\n",
              "    }\n",
              "\n",
              "    .dataframe thead th {\n",
              "        text-align: right;\n",
              "    }\n",
              "</style>\n",
              "<table border=\"1\" class=\"dataframe\">\n",
              "  <thead>\n",
              "    <tr style=\"text-align: right;\">\n",
              "      <th></th>\n",
              "      <th>id</th>\n",
              "      <th>document</th>\n",
              "      <th>label</th>\n",
              "    </tr>\n",
              "  </thead>\n",
              "  <tbody>\n",
              "    <tr>\n",
              "      <th>0</th>\n",
              "      <td>1</td>\n",
              "      <td>영상이나 음악이 이쁘다 해도 미화시킨 불륜일뿐</td>\n",
              "      <td>0</td>\n",
              "    </tr>\n",
              "    <tr>\n",
              "      <th>1</th>\n",
              "      <td>2</td>\n",
              "      <td>히치콕이 이 영화를 봤다면 분명 박수를 쳤을듯...</td>\n",
              "      <td>1</td>\n",
              "    </tr>\n",
              "    <tr>\n",
              "      <th>2</th>\n",
              "      <td>3</td>\n",
              "      <td>괜찮은 음악영화가 또 나왔군요!!! 따뜻한 겨울이 될 것 같아요~</td>\n",
              "      <td>1</td>\n",
              "    </tr>\n",
              "    <tr>\n",
              "      <th>3</th>\n",
              "      <td>4</td>\n",
              "      <td>아무래도 20년도지난작품이라 지금보기는너무유치하다</td>\n",
              "      <td>0</td>\n",
              "    </tr>\n",
              "    <tr>\n",
              "      <th>4</th>\n",
              "      <td>5</td>\n",
              "      <td>지금까지의 영화들이 그랬듯. 이 영화역시 일본에 대한 미화는 여전하다.</td>\n",
              "      <td>0</td>\n",
              "    </tr>\n",
              "  </tbody>\n",
              "</table>\n",
              "</div>\n",
              "      <button class=\"colab-df-convert\" onclick=\"convertToInteractive('df-c54467e9-3939-427c-a8f1-131ee8439d10')\"\n",
              "              title=\"Convert this dataframe to an interactive table.\"\n",
              "              style=\"display:none;\">\n",
              "        \n",
              "  <svg xmlns=\"http://www.w3.org/2000/svg\" height=\"24px\"viewBox=\"0 0 24 24\"\n",
              "       width=\"24px\">\n",
              "    <path d=\"M0 0h24v24H0V0z\" fill=\"none\"/>\n",
              "    <path d=\"M18.56 5.44l.94 2.06.94-2.06 2.06-.94-2.06-.94-.94-2.06-.94 2.06-2.06.94zm-11 1L8.5 8.5l.94-2.06 2.06-.94-2.06-.94L8.5 2.5l-.94 2.06-2.06.94zm10 10l.94 2.06.94-2.06 2.06-.94-2.06-.94-.94-2.06-.94 2.06-2.06.94z\"/><path d=\"M17.41 7.96l-1.37-1.37c-.4-.4-.92-.59-1.43-.59-.52 0-1.04.2-1.43.59L10.3 9.45l-7.72 7.72c-.78.78-.78 2.05 0 2.83L4 21.41c.39.39.9.59 1.41.59.51 0 1.02-.2 1.41-.59l7.78-7.78 2.81-2.81c.8-.78.8-2.07 0-2.86zM5.41 20L4 18.59l7.72-7.72 1.47 1.35L5.41 20z\"/>\n",
              "  </svg>\n",
              "      </button>\n",
              "      \n",
              "  <style>\n",
              "    .colab-df-container {\n",
              "      display:flex;\n",
              "      flex-wrap:wrap;\n",
              "      gap: 12px;\n",
              "    }\n",
              "\n",
              "    .colab-df-convert {\n",
              "      background-color: #E8F0FE;\n",
              "      border: none;\n",
              "      border-radius: 50%;\n",
              "      cursor: pointer;\n",
              "      display: none;\n",
              "      fill: #1967D2;\n",
              "      height: 32px;\n",
              "      padding: 0 0 0 0;\n",
              "      width: 32px;\n",
              "    }\n",
              "\n",
              "    .colab-df-convert:hover {\n",
              "      background-color: #E2EBFA;\n",
              "      box-shadow: 0px 1px 2px rgba(60, 64, 67, 0.3), 0px 1px 3px 1px rgba(60, 64, 67, 0.15);\n",
              "      fill: #174EA6;\n",
              "    }\n",
              "\n",
              "    [theme=dark] .colab-df-convert {\n",
              "      background-color: #3B4455;\n",
              "      fill: #D2E3FC;\n",
              "    }\n",
              "\n",
              "    [theme=dark] .colab-df-convert:hover {\n",
              "      background-color: #434B5C;\n",
              "      box-shadow: 0px 1px 3px 1px rgba(0, 0, 0, 0.15);\n",
              "      filter: drop-shadow(0px 1px 2px rgba(0, 0, 0, 0.3));\n",
              "      fill: #FFFFFF;\n",
              "    }\n",
              "  </style>\n",
              "\n",
              "      <script>\n",
              "        const buttonEl =\n",
              "          document.querySelector('#df-c54467e9-3939-427c-a8f1-131ee8439d10 button.colab-df-convert');\n",
              "        buttonEl.style.display =\n",
              "          google.colab.kernel.accessAllowed ? 'block' : 'none';\n",
              "\n",
              "        async function convertToInteractive(key) {\n",
              "          const element = document.querySelector('#df-c54467e9-3939-427c-a8f1-131ee8439d10');\n",
              "          const dataTable =\n",
              "            await google.colab.kernel.invokeFunction('convertToInteractive',\n",
              "                                                     [key], {});\n",
              "          if (!dataTable) return;\n",
              "\n",
              "          const docLinkHtml = 'Like what you see? Visit the ' +\n",
              "            '<a target=\"_blank\" href=https://colab.research.google.com/notebooks/data_table.ipynb>data table notebook</a>'\n",
              "            + ' to learn more about interactive tables.';\n",
              "          element.innerHTML = '';\n",
              "          dataTable['output_type'] = 'display_data';\n",
              "          await google.colab.output.renderOutput(dataTable, element);\n",
              "          const docLink = document.createElement('div');\n",
              "          docLink.innerHTML = docLinkHtml;\n",
              "          element.appendChild(docLink);\n",
              "        }\n",
              "      </script>\n",
              "    </div>\n",
              "  </div>\n",
              "  "
            ]
          },
          "metadata": {},
          "execution_count": 61
        }
      ],
      "source": [
        "data = pd.read_csv('/content/drive/MyDrive/YBIGTA/과제/word/데이터/train.csv') # train 데이터 불러오기\n",
        "data.head() # 데이터 확인하기: 긍정인지 부정인지 label이 되어 있음"
      ]
    },
    {
      "cell_type": "code",
      "execution_count": 62,
      "metadata": {
        "id": "bGlSZrSRxzYI",
        "colab": {
          "base_uri": "https://localhost:8080/"
        },
        "outputId": "5cc2449f-7e7b-496b-eab6-1dfc94ca6ff7"
      },
      "outputs": [
        {
          "output_type": "execute_result",
          "data": {
            "text/plain": [
              "id          0\n",
              "document    0\n",
              "label       0\n",
              "dtype: int64"
            ]
          },
          "metadata": {},
          "execution_count": 62
        }
      ],
      "source": [
        "data.isna().sum() # 결측치 확인"
      ]
    },
    {
      "cell_type": "markdown",
      "metadata": {
        "id": "rbSsR-e8xzYO"
      },
      "source": [
        "### 학습/검증셋 분리하기\n",
        "\n",
        "모델링 후 성능을 검증하기 위해 학습셋과 검증셋으로 train 데이터를 나눠줍니다."
      ]
    },
    {
      "cell_type": "code",
      "execution_count": 63,
      "metadata": {
        "id": "rQ-PrYtXxzYR"
      },
      "outputs": [],
      "source": [
        "from sklearn.model_selection import train_test_split\n",
        "\n",
        "train, val = train_test_split(data)\n",
        "train.reset_index(inplace=True) # 전처리 과정에서 데이터가 뒤섞이지 않도록 인덱스를 초기화해주었습니다.\n",
        "val.reset_index(inplace=True)"
      ]
    },
    {
      "cell_type": "code",
      "execution_count": 64,
      "metadata": {
        "id": "6yoxgB2CxzYT",
        "colab": {
          "base_uri": "https://localhost:8080/",
          "height": 424
        },
        "outputId": "bd1f1ac0-a2f5-40e4-d8b1-a88350c61674"
      },
      "outputs": [
        {
          "output_type": "execute_result",
          "data": {
            "text/plain": [
              "      index    id                                    document  label\n",
              "0      1758  1759                 인어공주역시 감동이였는데 같은 감독님이셨군요...      1\n",
              "1       464   465  갈수록 웃기네이수정 착한척하믄서 이남자저남자..아휴 짜잉나첨엔 잼났는데욕나옴      0\n",
              "2      1432  1433                        시도는 좋았지만 아쉬움이 많은 영화.      0\n",
              "3      3276  3277                 투모로우 후속작인줄 알고봤드만... 전혀 딴판이네      0\n",
              "4      3000  3001   워낙어릴때봐서 기억도 안난다. 지금 다시 볼라겨 다운 받았다. 무조건 만점      1\n",
              "...     ...   ...                                         ...    ...\n",
              "3745   4511  4512             좋았던것 같다.....약간의 아쉬움을 남기기는 했지만..      1\n",
              "3746   1726  1727  깨방정 속에 진심이 묻어나는 ㅎㅎ참 잘했어요최고임 이제...다음주부턴 어쩜?      1\n",
              "3747   2943  2944                      초반에 긴장감있게 잘 나가다가 개판됐다.      0\n",
              "3748   1435  1436  책과는 너무 다른 느낌...특히 spencer와 alice에대한 묘사는 실망      0\n",
              "3749   4407  4408                     옜날 기억이 날듯..말듯..추억의 작품..      1\n",
              "\n",
              "[3750 rows x 4 columns]"
            ],
            "text/html": [
              "\n",
              "  <div id=\"df-d55167a4-1d27-41c4-ab64-d3069b627589\">\n",
              "    <div class=\"colab-df-container\">\n",
              "      <div>\n",
              "<style scoped>\n",
              "    .dataframe tbody tr th:only-of-type {\n",
              "        vertical-align: middle;\n",
              "    }\n",
              "\n",
              "    .dataframe tbody tr th {\n",
              "        vertical-align: top;\n",
              "    }\n",
              "\n",
              "    .dataframe thead th {\n",
              "        text-align: right;\n",
              "    }\n",
              "</style>\n",
              "<table border=\"1\" class=\"dataframe\">\n",
              "  <thead>\n",
              "    <tr style=\"text-align: right;\">\n",
              "      <th></th>\n",
              "      <th>index</th>\n",
              "      <th>id</th>\n",
              "      <th>document</th>\n",
              "      <th>label</th>\n",
              "    </tr>\n",
              "  </thead>\n",
              "  <tbody>\n",
              "    <tr>\n",
              "      <th>0</th>\n",
              "      <td>1758</td>\n",
              "      <td>1759</td>\n",
              "      <td>인어공주역시 감동이였는데 같은 감독님이셨군요...</td>\n",
              "      <td>1</td>\n",
              "    </tr>\n",
              "    <tr>\n",
              "      <th>1</th>\n",
              "      <td>464</td>\n",
              "      <td>465</td>\n",
              "      <td>갈수록 웃기네이수정 착한척하믄서 이남자저남자..아휴 짜잉나첨엔 잼났는데욕나옴</td>\n",
              "      <td>0</td>\n",
              "    </tr>\n",
              "    <tr>\n",
              "      <th>2</th>\n",
              "      <td>1432</td>\n",
              "      <td>1433</td>\n",
              "      <td>시도는 좋았지만 아쉬움이 많은 영화.</td>\n",
              "      <td>0</td>\n",
              "    </tr>\n",
              "    <tr>\n",
              "      <th>3</th>\n",
              "      <td>3276</td>\n",
              "      <td>3277</td>\n",
              "      <td>투모로우 후속작인줄 알고봤드만... 전혀 딴판이네</td>\n",
              "      <td>0</td>\n",
              "    </tr>\n",
              "    <tr>\n",
              "      <th>4</th>\n",
              "      <td>3000</td>\n",
              "      <td>3001</td>\n",
              "      <td>워낙어릴때봐서 기억도 안난다. 지금 다시 볼라겨 다운 받았다. 무조건 만점</td>\n",
              "      <td>1</td>\n",
              "    </tr>\n",
              "    <tr>\n",
              "      <th>...</th>\n",
              "      <td>...</td>\n",
              "      <td>...</td>\n",
              "      <td>...</td>\n",
              "      <td>...</td>\n",
              "    </tr>\n",
              "    <tr>\n",
              "      <th>3745</th>\n",
              "      <td>4511</td>\n",
              "      <td>4512</td>\n",
              "      <td>좋았던것 같다.....약간의 아쉬움을 남기기는 했지만..</td>\n",
              "      <td>1</td>\n",
              "    </tr>\n",
              "    <tr>\n",
              "      <th>3746</th>\n",
              "      <td>1726</td>\n",
              "      <td>1727</td>\n",
              "      <td>깨방정 속에 진심이 묻어나는 ㅎㅎ참 잘했어요최고임 이제...다음주부턴 어쩜?</td>\n",
              "      <td>1</td>\n",
              "    </tr>\n",
              "    <tr>\n",
              "      <th>3747</th>\n",
              "      <td>2943</td>\n",
              "      <td>2944</td>\n",
              "      <td>초반에 긴장감있게 잘 나가다가 개판됐다.</td>\n",
              "      <td>0</td>\n",
              "    </tr>\n",
              "    <tr>\n",
              "      <th>3748</th>\n",
              "      <td>1435</td>\n",
              "      <td>1436</td>\n",
              "      <td>책과는 너무 다른 느낌...특히 spencer와 alice에대한 묘사는 실망</td>\n",
              "      <td>0</td>\n",
              "    </tr>\n",
              "    <tr>\n",
              "      <th>3749</th>\n",
              "      <td>4407</td>\n",
              "      <td>4408</td>\n",
              "      <td>옜날 기억이 날듯..말듯..추억의 작품..</td>\n",
              "      <td>1</td>\n",
              "    </tr>\n",
              "  </tbody>\n",
              "</table>\n",
              "<p>3750 rows × 4 columns</p>\n",
              "</div>\n",
              "      <button class=\"colab-df-convert\" onclick=\"convertToInteractive('df-d55167a4-1d27-41c4-ab64-d3069b627589')\"\n",
              "              title=\"Convert this dataframe to an interactive table.\"\n",
              "              style=\"display:none;\">\n",
              "        \n",
              "  <svg xmlns=\"http://www.w3.org/2000/svg\" height=\"24px\"viewBox=\"0 0 24 24\"\n",
              "       width=\"24px\">\n",
              "    <path d=\"M0 0h24v24H0V0z\" fill=\"none\"/>\n",
              "    <path d=\"M18.56 5.44l.94 2.06.94-2.06 2.06-.94-2.06-.94-.94-2.06-.94 2.06-2.06.94zm-11 1L8.5 8.5l.94-2.06 2.06-.94-2.06-.94L8.5 2.5l-.94 2.06-2.06.94zm10 10l.94 2.06.94-2.06 2.06-.94-2.06-.94-.94-2.06-.94 2.06-2.06.94z\"/><path d=\"M17.41 7.96l-1.37-1.37c-.4-.4-.92-.59-1.43-.59-.52 0-1.04.2-1.43.59L10.3 9.45l-7.72 7.72c-.78.78-.78 2.05 0 2.83L4 21.41c.39.39.9.59 1.41.59.51 0 1.02-.2 1.41-.59l7.78-7.78 2.81-2.81c.8-.78.8-2.07 0-2.86zM5.41 20L4 18.59l7.72-7.72 1.47 1.35L5.41 20z\"/>\n",
              "  </svg>\n",
              "      </button>\n",
              "      \n",
              "  <style>\n",
              "    .colab-df-container {\n",
              "      display:flex;\n",
              "      flex-wrap:wrap;\n",
              "      gap: 12px;\n",
              "    }\n",
              "\n",
              "    .colab-df-convert {\n",
              "      background-color: #E8F0FE;\n",
              "      border: none;\n",
              "      border-radius: 50%;\n",
              "      cursor: pointer;\n",
              "      display: none;\n",
              "      fill: #1967D2;\n",
              "      height: 32px;\n",
              "      padding: 0 0 0 0;\n",
              "      width: 32px;\n",
              "    }\n",
              "\n",
              "    .colab-df-convert:hover {\n",
              "      background-color: #E2EBFA;\n",
              "      box-shadow: 0px 1px 2px rgba(60, 64, 67, 0.3), 0px 1px 3px 1px rgba(60, 64, 67, 0.15);\n",
              "      fill: #174EA6;\n",
              "    }\n",
              "\n",
              "    [theme=dark] .colab-df-convert {\n",
              "      background-color: #3B4455;\n",
              "      fill: #D2E3FC;\n",
              "    }\n",
              "\n",
              "    [theme=dark] .colab-df-convert:hover {\n",
              "      background-color: #434B5C;\n",
              "      box-shadow: 0px 1px 3px 1px rgba(0, 0, 0, 0.15);\n",
              "      filter: drop-shadow(0px 1px 2px rgba(0, 0, 0, 0.3));\n",
              "      fill: #FFFFFF;\n",
              "    }\n",
              "  </style>\n",
              "\n",
              "      <script>\n",
              "        const buttonEl =\n",
              "          document.querySelector('#df-d55167a4-1d27-41c4-ab64-d3069b627589 button.colab-df-convert');\n",
              "        buttonEl.style.display =\n",
              "          google.colab.kernel.accessAllowed ? 'block' : 'none';\n",
              "\n",
              "        async function convertToInteractive(key) {\n",
              "          const element = document.querySelector('#df-d55167a4-1d27-41c4-ab64-d3069b627589');\n",
              "          const dataTable =\n",
              "            await google.colab.kernel.invokeFunction('convertToInteractive',\n",
              "                                                     [key], {});\n",
              "          if (!dataTable) return;\n",
              "\n",
              "          const docLinkHtml = 'Like what you see? Visit the ' +\n",
              "            '<a target=\"_blank\" href=https://colab.research.google.com/notebooks/data_table.ipynb>data table notebook</a>'\n",
              "            + ' to learn more about interactive tables.';\n",
              "          element.innerHTML = '';\n",
              "          dataTable['output_type'] = 'display_data';\n",
              "          await google.colab.output.renderOutput(dataTable, element);\n",
              "          const docLink = document.createElement('div');\n",
              "          docLink.innerHTML = docLinkHtml;\n",
              "          element.appendChild(docLink);\n",
              "        }\n",
              "      </script>\n",
              "    </div>\n",
              "  </div>\n",
              "  "
            ]
          },
          "metadata": {},
          "execution_count": 64
        }
      ],
      "source": [
        "train # train 셋 확인"
      ]
    },
    {
      "cell_type": "markdown",
      "metadata": {
        "id": "KdPHRQ5NxzYU"
      },
      "source": [
        "### 데이터 정제하기\n",
        "\n",
        "\n",
        "가장 먼저 한글과 공백만 남긴 뒤 preprocessed라는 컬럼으로 저장하겠습니다."
      ]
    },
    {
      "cell_type": "code",
      "execution_count": 65,
      "metadata": {
        "id": "GugwWi7bxzYV",
        "outputId": "eaf9d6f0-9564-4bfd-cad9-1c8a2c365835",
        "colab": {
          "base_uri": "https://localhost:8080/",
          "height": 285
        }
      },
      "outputs": [
        {
          "output_type": "execute_result",
          "data": {
            "text/plain": [
              "   index    id                                    document  label  \\\n",
              "0   1758  1759                 인어공주역시 감동이였는데 같은 감독님이셨군요...      1   \n",
              "1    464   465  갈수록 웃기네이수정 착한척하믄서 이남자저남자..아휴 짜잉나첨엔 잼났는데욕나옴      0   \n",
              "2   1432  1433                        시도는 좋았지만 아쉬움이 많은 영화.      0   \n",
              "3   3276  3277                 투모로우 후속작인줄 알고봤드만... 전혀 딴판이네      0   \n",
              "4   3000  3001   워낙어릴때봐서 기억도 안난다. 지금 다시 볼라겨 다운 받았다. 무조건 만점      1   \n",
              "\n",
              "                               preprocessed  \n",
              "0                  인어공주역시 감동이였는데 같은 감독님이셨군요  \n",
              "1  갈수록 웃기네이수정 착한척하믄서 이남자저남자아휴 짜잉나첨엔 잼났는데욕나옴  \n",
              "2                       시도는 좋았지만 아쉬움이 많은 영화  \n",
              "3                  투모로우 후속작인줄 알고봤드만 전혀 딴판이네  \n",
              "4   워낙어릴때봐서 기억도 안난다 지금 다시 볼라겨 다운 받았다 무조건 만점  "
            ],
            "text/html": [
              "\n",
              "  <div id=\"df-56c152df-b732-4745-baba-c2319da1c416\">\n",
              "    <div class=\"colab-df-container\">\n",
              "      <div>\n",
              "<style scoped>\n",
              "    .dataframe tbody tr th:only-of-type {\n",
              "        vertical-align: middle;\n",
              "    }\n",
              "\n",
              "    .dataframe tbody tr th {\n",
              "        vertical-align: top;\n",
              "    }\n",
              "\n",
              "    .dataframe thead th {\n",
              "        text-align: right;\n",
              "    }\n",
              "</style>\n",
              "<table border=\"1\" class=\"dataframe\">\n",
              "  <thead>\n",
              "    <tr style=\"text-align: right;\">\n",
              "      <th></th>\n",
              "      <th>index</th>\n",
              "      <th>id</th>\n",
              "      <th>document</th>\n",
              "      <th>label</th>\n",
              "      <th>preprocessed</th>\n",
              "    </tr>\n",
              "  </thead>\n",
              "  <tbody>\n",
              "    <tr>\n",
              "      <th>0</th>\n",
              "      <td>1758</td>\n",
              "      <td>1759</td>\n",
              "      <td>인어공주역시 감동이였는데 같은 감독님이셨군요...</td>\n",
              "      <td>1</td>\n",
              "      <td>인어공주역시 감동이였는데 같은 감독님이셨군요</td>\n",
              "    </tr>\n",
              "    <tr>\n",
              "      <th>1</th>\n",
              "      <td>464</td>\n",
              "      <td>465</td>\n",
              "      <td>갈수록 웃기네이수정 착한척하믄서 이남자저남자..아휴 짜잉나첨엔 잼났는데욕나옴</td>\n",
              "      <td>0</td>\n",
              "      <td>갈수록 웃기네이수정 착한척하믄서 이남자저남자아휴 짜잉나첨엔 잼났는데욕나옴</td>\n",
              "    </tr>\n",
              "    <tr>\n",
              "      <th>2</th>\n",
              "      <td>1432</td>\n",
              "      <td>1433</td>\n",
              "      <td>시도는 좋았지만 아쉬움이 많은 영화.</td>\n",
              "      <td>0</td>\n",
              "      <td>시도는 좋았지만 아쉬움이 많은 영화</td>\n",
              "    </tr>\n",
              "    <tr>\n",
              "      <th>3</th>\n",
              "      <td>3276</td>\n",
              "      <td>3277</td>\n",
              "      <td>투모로우 후속작인줄 알고봤드만... 전혀 딴판이네</td>\n",
              "      <td>0</td>\n",
              "      <td>투모로우 후속작인줄 알고봤드만 전혀 딴판이네</td>\n",
              "    </tr>\n",
              "    <tr>\n",
              "      <th>4</th>\n",
              "      <td>3000</td>\n",
              "      <td>3001</td>\n",
              "      <td>워낙어릴때봐서 기억도 안난다. 지금 다시 볼라겨 다운 받았다. 무조건 만점</td>\n",
              "      <td>1</td>\n",
              "      <td>워낙어릴때봐서 기억도 안난다 지금 다시 볼라겨 다운 받았다 무조건 만점</td>\n",
              "    </tr>\n",
              "  </tbody>\n",
              "</table>\n",
              "</div>\n",
              "      <button class=\"colab-df-convert\" onclick=\"convertToInteractive('df-56c152df-b732-4745-baba-c2319da1c416')\"\n",
              "              title=\"Convert this dataframe to an interactive table.\"\n",
              "              style=\"display:none;\">\n",
              "        \n",
              "  <svg xmlns=\"http://www.w3.org/2000/svg\" height=\"24px\"viewBox=\"0 0 24 24\"\n",
              "       width=\"24px\">\n",
              "    <path d=\"M0 0h24v24H0V0z\" fill=\"none\"/>\n",
              "    <path d=\"M18.56 5.44l.94 2.06.94-2.06 2.06-.94-2.06-.94-.94-2.06-.94 2.06-2.06.94zm-11 1L8.5 8.5l.94-2.06 2.06-.94-2.06-.94L8.5 2.5l-.94 2.06-2.06.94zm10 10l.94 2.06.94-2.06 2.06-.94-2.06-.94-.94-2.06-.94 2.06-2.06.94z\"/><path d=\"M17.41 7.96l-1.37-1.37c-.4-.4-.92-.59-1.43-.59-.52 0-1.04.2-1.43.59L10.3 9.45l-7.72 7.72c-.78.78-.78 2.05 0 2.83L4 21.41c.39.39.9.59 1.41.59.51 0 1.02-.2 1.41-.59l7.78-7.78 2.81-2.81c.8-.78.8-2.07 0-2.86zM5.41 20L4 18.59l7.72-7.72 1.47 1.35L5.41 20z\"/>\n",
              "  </svg>\n",
              "      </button>\n",
              "      \n",
              "  <style>\n",
              "    .colab-df-container {\n",
              "      display:flex;\n",
              "      flex-wrap:wrap;\n",
              "      gap: 12px;\n",
              "    }\n",
              "\n",
              "    .colab-df-convert {\n",
              "      background-color: #E8F0FE;\n",
              "      border: none;\n",
              "      border-radius: 50%;\n",
              "      cursor: pointer;\n",
              "      display: none;\n",
              "      fill: #1967D2;\n",
              "      height: 32px;\n",
              "      padding: 0 0 0 0;\n",
              "      width: 32px;\n",
              "    }\n",
              "\n",
              "    .colab-df-convert:hover {\n",
              "      background-color: #E2EBFA;\n",
              "      box-shadow: 0px 1px 2px rgba(60, 64, 67, 0.3), 0px 1px 3px 1px rgba(60, 64, 67, 0.15);\n",
              "      fill: #174EA6;\n",
              "    }\n",
              "\n",
              "    [theme=dark] .colab-df-convert {\n",
              "      background-color: #3B4455;\n",
              "      fill: #D2E3FC;\n",
              "    }\n",
              "\n",
              "    [theme=dark] .colab-df-convert:hover {\n",
              "      background-color: #434B5C;\n",
              "      box-shadow: 0px 1px 3px 1px rgba(0, 0, 0, 0.15);\n",
              "      filter: drop-shadow(0px 1px 2px rgba(0, 0, 0, 0.3));\n",
              "      fill: #FFFFFF;\n",
              "    }\n",
              "  </style>\n",
              "\n",
              "      <script>\n",
              "        const buttonEl =\n",
              "          document.querySelector('#df-56c152df-b732-4745-baba-c2319da1c416 button.colab-df-convert');\n",
              "        buttonEl.style.display =\n",
              "          google.colab.kernel.accessAllowed ? 'block' : 'none';\n",
              "\n",
              "        async function convertToInteractive(key) {\n",
              "          const element = document.querySelector('#df-56c152df-b732-4745-baba-c2319da1c416');\n",
              "          const dataTable =\n",
              "            await google.colab.kernel.invokeFunction('convertToInteractive',\n",
              "                                                     [key], {});\n",
              "          if (!dataTable) return;\n",
              "\n",
              "          const docLinkHtml = 'Like what you see? Visit the ' +\n",
              "            '<a target=\"_blank\" href=https://colab.research.google.com/notebooks/data_table.ipynb>data table notebook</a>'\n",
              "            + ' to learn more about interactive tables.';\n",
              "          element.innerHTML = '';\n",
              "          dataTable['output_type'] = 'display_data';\n",
              "          await google.colab.output.renderOutput(dataTable, element);\n",
              "          const docLink = document.createElement('div');\n",
              "          docLink.innerHTML = docLinkHtml;\n",
              "          element.appendChild(docLink);\n",
              "        }\n",
              "      </script>\n",
              "    </div>\n",
              "  </div>\n",
              "  "
            ]
          },
          "metadata": {},
          "execution_count": 65
        }
      ],
      "source": [
        "train['preprocessed'] = train['document'].str.replace(\"[^ㄱ-ㅎㅏ-ㅣ가-힣 ]\",\"\") # 한글과 공백을 제외(^)하고 모두 제거\n",
        "train[:5] # 데이터 확인"
      ]
    },
    {
      "cell_type": "markdown",
      "metadata": {
        "id": "kkXkev1txzYX"
      },
      "source": [
        "추가적으로 혹시 모를 다중공백도 제거해줍니다."
      ]
    },
    {
      "cell_type": "code",
      "execution_count": 66,
      "metadata": {
        "id": "8dSULak6xzYY",
        "outputId": "6cc30bd4-5eae-44cf-f2cd-b6ac17fe6ad9",
        "colab": {
          "base_uri": "https://localhost:8080/",
          "height": 285
        }
      },
      "outputs": [
        {
          "output_type": "execute_result",
          "data": {
            "text/plain": [
              "   index    id                                    document  label  \\\n",
              "0   1758  1759                 인어공주역시 감동이였는데 같은 감독님이셨군요...      1   \n",
              "1    464   465  갈수록 웃기네이수정 착한척하믄서 이남자저남자..아휴 짜잉나첨엔 잼났는데욕나옴      0   \n",
              "2   1432  1433                        시도는 좋았지만 아쉬움이 많은 영화.      0   \n",
              "3   3276  3277                 투모로우 후속작인줄 알고봤드만... 전혀 딴판이네      0   \n",
              "4   3000  3001   워낙어릴때봐서 기억도 안난다. 지금 다시 볼라겨 다운 받았다. 무조건 만점      1   \n",
              "\n",
              "                               preprocessed  \n",
              "0                  인어공주역시 감동이였는데 같은 감독님이셨군요  \n",
              "1  갈수록 웃기네이수정 착한척하믄서 이남자저남자아휴 짜잉나첨엔 잼났는데욕나옴  \n",
              "2                       시도는 좋았지만 아쉬움이 많은 영화  \n",
              "3                  투모로우 후속작인줄 알고봤드만 전혀 딴판이네  \n",
              "4   워낙어릴때봐서 기억도 안난다 지금 다시 볼라겨 다운 받았다 무조건 만점  "
            ],
            "text/html": [
              "\n",
              "  <div id=\"df-c41a5d2c-375d-44f9-90c8-243c3971360f\">\n",
              "    <div class=\"colab-df-container\">\n",
              "      <div>\n",
              "<style scoped>\n",
              "    .dataframe tbody tr th:only-of-type {\n",
              "        vertical-align: middle;\n",
              "    }\n",
              "\n",
              "    .dataframe tbody tr th {\n",
              "        vertical-align: top;\n",
              "    }\n",
              "\n",
              "    .dataframe thead th {\n",
              "        text-align: right;\n",
              "    }\n",
              "</style>\n",
              "<table border=\"1\" class=\"dataframe\">\n",
              "  <thead>\n",
              "    <tr style=\"text-align: right;\">\n",
              "      <th></th>\n",
              "      <th>index</th>\n",
              "      <th>id</th>\n",
              "      <th>document</th>\n",
              "      <th>label</th>\n",
              "      <th>preprocessed</th>\n",
              "    </tr>\n",
              "  </thead>\n",
              "  <tbody>\n",
              "    <tr>\n",
              "      <th>0</th>\n",
              "      <td>1758</td>\n",
              "      <td>1759</td>\n",
              "      <td>인어공주역시 감동이였는데 같은 감독님이셨군요...</td>\n",
              "      <td>1</td>\n",
              "      <td>인어공주역시 감동이였는데 같은 감독님이셨군요</td>\n",
              "    </tr>\n",
              "    <tr>\n",
              "      <th>1</th>\n",
              "      <td>464</td>\n",
              "      <td>465</td>\n",
              "      <td>갈수록 웃기네이수정 착한척하믄서 이남자저남자..아휴 짜잉나첨엔 잼났는데욕나옴</td>\n",
              "      <td>0</td>\n",
              "      <td>갈수록 웃기네이수정 착한척하믄서 이남자저남자아휴 짜잉나첨엔 잼났는데욕나옴</td>\n",
              "    </tr>\n",
              "    <tr>\n",
              "      <th>2</th>\n",
              "      <td>1432</td>\n",
              "      <td>1433</td>\n",
              "      <td>시도는 좋았지만 아쉬움이 많은 영화.</td>\n",
              "      <td>0</td>\n",
              "      <td>시도는 좋았지만 아쉬움이 많은 영화</td>\n",
              "    </tr>\n",
              "    <tr>\n",
              "      <th>3</th>\n",
              "      <td>3276</td>\n",
              "      <td>3277</td>\n",
              "      <td>투모로우 후속작인줄 알고봤드만... 전혀 딴판이네</td>\n",
              "      <td>0</td>\n",
              "      <td>투모로우 후속작인줄 알고봤드만 전혀 딴판이네</td>\n",
              "    </tr>\n",
              "    <tr>\n",
              "      <th>4</th>\n",
              "      <td>3000</td>\n",
              "      <td>3001</td>\n",
              "      <td>워낙어릴때봐서 기억도 안난다. 지금 다시 볼라겨 다운 받았다. 무조건 만점</td>\n",
              "      <td>1</td>\n",
              "      <td>워낙어릴때봐서 기억도 안난다 지금 다시 볼라겨 다운 받았다 무조건 만점</td>\n",
              "    </tr>\n",
              "  </tbody>\n",
              "</table>\n",
              "</div>\n",
              "      <button class=\"colab-df-convert\" onclick=\"convertToInteractive('df-c41a5d2c-375d-44f9-90c8-243c3971360f')\"\n",
              "              title=\"Convert this dataframe to an interactive table.\"\n",
              "              style=\"display:none;\">\n",
              "        \n",
              "  <svg xmlns=\"http://www.w3.org/2000/svg\" height=\"24px\"viewBox=\"0 0 24 24\"\n",
              "       width=\"24px\">\n",
              "    <path d=\"M0 0h24v24H0V0z\" fill=\"none\"/>\n",
              "    <path d=\"M18.56 5.44l.94 2.06.94-2.06 2.06-.94-2.06-.94-.94-2.06-.94 2.06-2.06.94zm-11 1L8.5 8.5l.94-2.06 2.06-.94-2.06-.94L8.5 2.5l-.94 2.06-2.06.94zm10 10l.94 2.06.94-2.06 2.06-.94-2.06-.94-.94-2.06-.94 2.06-2.06.94z\"/><path d=\"M17.41 7.96l-1.37-1.37c-.4-.4-.92-.59-1.43-.59-.52 0-1.04.2-1.43.59L10.3 9.45l-7.72 7.72c-.78.78-.78 2.05 0 2.83L4 21.41c.39.39.9.59 1.41.59.51 0 1.02-.2 1.41-.59l7.78-7.78 2.81-2.81c.8-.78.8-2.07 0-2.86zM5.41 20L4 18.59l7.72-7.72 1.47 1.35L5.41 20z\"/>\n",
              "  </svg>\n",
              "      </button>\n",
              "      \n",
              "  <style>\n",
              "    .colab-df-container {\n",
              "      display:flex;\n",
              "      flex-wrap:wrap;\n",
              "      gap: 12px;\n",
              "    }\n",
              "\n",
              "    .colab-df-convert {\n",
              "      background-color: #E8F0FE;\n",
              "      border: none;\n",
              "      border-radius: 50%;\n",
              "      cursor: pointer;\n",
              "      display: none;\n",
              "      fill: #1967D2;\n",
              "      height: 32px;\n",
              "      padding: 0 0 0 0;\n",
              "      width: 32px;\n",
              "    }\n",
              "\n",
              "    .colab-df-convert:hover {\n",
              "      background-color: #E2EBFA;\n",
              "      box-shadow: 0px 1px 2px rgba(60, 64, 67, 0.3), 0px 1px 3px 1px rgba(60, 64, 67, 0.15);\n",
              "      fill: #174EA6;\n",
              "    }\n",
              "\n",
              "    [theme=dark] .colab-df-convert {\n",
              "      background-color: #3B4455;\n",
              "      fill: #D2E3FC;\n",
              "    }\n",
              "\n",
              "    [theme=dark] .colab-df-convert:hover {\n",
              "      background-color: #434B5C;\n",
              "      box-shadow: 0px 1px 3px 1px rgba(0, 0, 0, 0.15);\n",
              "      filter: drop-shadow(0px 1px 2px rgba(0, 0, 0, 0.3));\n",
              "      fill: #FFFFFF;\n",
              "    }\n",
              "  </style>\n",
              "\n",
              "      <script>\n",
              "        const buttonEl =\n",
              "          document.querySelector('#df-c41a5d2c-375d-44f9-90c8-243c3971360f button.colab-df-convert');\n",
              "        buttonEl.style.display =\n",
              "          google.colab.kernel.accessAllowed ? 'block' : 'none';\n",
              "\n",
              "        async function convertToInteractive(key) {\n",
              "          const element = document.querySelector('#df-c41a5d2c-375d-44f9-90c8-243c3971360f');\n",
              "          const dataTable =\n",
              "            await google.colab.kernel.invokeFunction('convertToInteractive',\n",
              "                                                     [key], {});\n",
              "          if (!dataTable) return;\n",
              "\n",
              "          const docLinkHtml = 'Like what you see? Visit the ' +\n",
              "            '<a target=\"_blank\" href=https://colab.research.google.com/notebooks/data_table.ipynb>data table notebook</a>'\n",
              "            + ' to learn more about interactive tables.';\n",
              "          element.innerHTML = '';\n",
              "          dataTable['output_type'] = 'display_data';\n",
              "          await google.colab.output.renderOutput(dataTable, element);\n",
              "          const docLink = document.createElement('div');\n",
              "          docLink.innerHTML = docLinkHtml;\n",
              "          element.appendChild(docLink);\n",
              "        }\n",
              "      </script>\n",
              "    </div>\n",
              "  </div>\n",
              "  "
            ]
          },
          "metadata": {},
          "execution_count": 66
        }
      ],
      "source": [
        "train['preprocessed'] = train['preprocessed'].str.replace(\" +\", \" \") # 다중 공백 제거\n",
        "train[:5] # 데이터 확인"
      ]
    },
    {
      "cell_type": "markdown",
      "metadata": {
        "id": "lC08EGCIxzYZ"
      },
      "source": [
        "### 토큰화"
      ]
    },
    {
      "cell_type": "markdown",
      "metadata": {
        "id": "GXUOomhpxzYe"
      },
      "source": [
        "#### 한국어에서의 토큰화\n",
        "\n",
        "한국어는 영어와 달리 형태소(뜻을 가진 말의 최소 단위)간의 결합으로 어절이 이루어집니다. ex) 철수 -가 책 -을 읽- -었- -다\n",
        "\n",
        "따라서 한국어 전용 형태소 분석기가 많이 존재하는데요, 이번에는 koNLPy라는 패키지의 Okt라는 형태소 분석기를 사용해보겠습니다."
      ]
    },
    {
      "cell_type": "markdown",
      "metadata": {
        "id": "4pTwnP67xzYg"
      },
      "source": [
        "이제 영화 리뷰 데이터에서 같은 방법으로 형태소 분석을 해볼까요?"
      ]
    },
    {
      "cell_type": "code",
      "source": [
        "from konlpy.tag import Okt\n",
        "okt = Okt()"
      ],
      "metadata": {
        "id": "ppx0qFvibpBu"
      },
      "execution_count": 67,
      "outputs": []
    },
    {
      "cell_type": "code",
      "execution_count": 68,
      "metadata": {
        "id": "naE0N0cIxzYg",
        "outputId": "46d11529-196e-49a7-fc7d-708023f92f13",
        "colab": {
          "base_uri": "https://localhost:8080/",
          "height": 354
        }
      },
      "outputs": [
        {
          "output_type": "execute_result",
          "data": {
            "text/plain": [
              "   index    id                                    document  label  \\\n",
              "0   1758  1759                 인어공주역시 감동이였는데 같은 감독님이셨군요...      1   \n",
              "1    464   465  갈수록 웃기네이수정 착한척하믄서 이남자저남자..아휴 짜잉나첨엔 잼났는데욕나옴      0   \n",
              "2   1432  1433                        시도는 좋았지만 아쉬움이 많은 영화.      0   \n",
              "3   3276  3277                 투모로우 후속작인줄 알고봤드만... 전혀 딴판이네      0   \n",
              "4   3000  3001   워낙어릴때봐서 기억도 안난다. 지금 다시 볼라겨 다운 받았다. 무조건 만점      1   \n",
              "\n",
              "                               preprocessed  \\\n",
              "0                  인어공주역시 감동이였는데 같은 감독님이셨군요   \n",
              "1  갈수록 웃기네이수정 착한척하믄서 이남자저남자아휴 짜잉나첨엔 잼났는데욕나옴   \n",
              "2                       시도는 좋았지만 아쉬움이 많은 영화   \n",
              "3                  투모로우 후속작인줄 알고봤드만 전혀 딴판이네   \n",
              "4   워낙어릴때봐서 기억도 안난다 지금 다시 볼라겨 다운 받았다 무조건 만점   \n",
              "\n",
              "                                      tokenized_stem  \n",
              "0                         인어공주 역시 감동 이 이다 같다 감독 님 이다  \n",
              "1  갈수록 웃기 네 이수정 착하다 척 하므다 이 남자 저 남자 아 휴 짜잉나첨 엔 잼 ...  \n",
              "2                                시도 는 좋다 아쉬움 이 많다 영화  \n",
              "3                       투모로우 후속작 인 줄 알고봤드 만 전혀 딴판 이네  \n",
              "4      워낙 어리다 때 보다 기억 도 안 나다 지금 다시 볼라 겨 다운 받다 무조건 만점  "
            ],
            "text/html": [
              "\n",
              "  <div id=\"df-489af116-4128-42d4-8c12-ca91b078f68f\">\n",
              "    <div class=\"colab-df-container\">\n",
              "      <div>\n",
              "<style scoped>\n",
              "    .dataframe tbody tr th:only-of-type {\n",
              "        vertical-align: middle;\n",
              "    }\n",
              "\n",
              "    .dataframe tbody tr th {\n",
              "        vertical-align: top;\n",
              "    }\n",
              "\n",
              "    .dataframe thead th {\n",
              "        text-align: right;\n",
              "    }\n",
              "</style>\n",
              "<table border=\"1\" class=\"dataframe\">\n",
              "  <thead>\n",
              "    <tr style=\"text-align: right;\">\n",
              "      <th></th>\n",
              "      <th>index</th>\n",
              "      <th>id</th>\n",
              "      <th>document</th>\n",
              "      <th>label</th>\n",
              "      <th>preprocessed</th>\n",
              "      <th>tokenized_stem</th>\n",
              "    </tr>\n",
              "  </thead>\n",
              "  <tbody>\n",
              "    <tr>\n",
              "      <th>0</th>\n",
              "      <td>1758</td>\n",
              "      <td>1759</td>\n",
              "      <td>인어공주역시 감동이였는데 같은 감독님이셨군요...</td>\n",
              "      <td>1</td>\n",
              "      <td>인어공주역시 감동이였는데 같은 감독님이셨군요</td>\n",
              "      <td>인어공주 역시 감동 이 이다 같다 감독 님 이다</td>\n",
              "    </tr>\n",
              "    <tr>\n",
              "      <th>1</th>\n",
              "      <td>464</td>\n",
              "      <td>465</td>\n",
              "      <td>갈수록 웃기네이수정 착한척하믄서 이남자저남자..아휴 짜잉나첨엔 잼났는데욕나옴</td>\n",
              "      <td>0</td>\n",
              "      <td>갈수록 웃기네이수정 착한척하믄서 이남자저남자아휴 짜잉나첨엔 잼났는데욕나옴</td>\n",
              "      <td>갈수록 웃기 네 이수정 착하다 척 하므다 이 남자 저 남자 아 휴 짜잉나첨 엔 잼 ...</td>\n",
              "    </tr>\n",
              "    <tr>\n",
              "      <th>2</th>\n",
              "      <td>1432</td>\n",
              "      <td>1433</td>\n",
              "      <td>시도는 좋았지만 아쉬움이 많은 영화.</td>\n",
              "      <td>0</td>\n",
              "      <td>시도는 좋았지만 아쉬움이 많은 영화</td>\n",
              "      <td>시도 는 좋다 아쉬움 이 많다 영화</td>\n",
              "    </tr>\n",
              "    <tr>\n",
              "      <th>3</th>\n",
              "      <td>3276</td>\n",
              "      <td>3277</td>\n",
              "      <td>투모로우 후속작인줄 알고봤드만... 전혀 딴판이네</td>\n",
              "      <td>0</td>\n",
              "      <td>투모로우 후속작인줄 알고봤드만 전혀 딴판이네</td>\n",
              "      <td>투모로우 후속작 인 줄 알고봤드 만 전혀 딴판 이네</td>\n",
              "    </tr>\n",
              "    <tr>\n",
              "      <th>4</th>\n",
              "      <td>3000</td>\n",
              "      <td>3001</td>\n",
              "      <td>워낙어릴때봐서 기억도 안난다. 지금 다시 볼라겨 다운 받았다. 무조건 만점</td>\n",
              "      <td>1</td>\n",
              "      <td>워낙어릴때봐서 기억도 안난다 지금 다시 볼라겨 다운 받았다 무조건 만점</td>\n",
              "      <td>워낙 어리다 때 보다 기억 도 안 나다 지금 다시 볼라 겨 다운 받다 무조건 만점</td>\n",
              "    </tr>\n",
              "  </tbody>\n",
              "</table>\n",
              "</div>\n",
              "      <button class=\"colab-df-convert\" onclick=\"convertToInteractive('df-489af116-4128-42d4-8c12-ca91b078f68f')\"\n",
              "              title=\"Convert this dataframe to an interactive table.\"\n",
              "              style=\"display:none;\">\n",
              "        \n",
              "  <svg xmlns=\"http://www.w3.org/2000/svg\" height=\"24px\"viewBox=\"0 0 24 24\"\n",
              "       width=\"24px\">\n",
              "    <path d=\"M0 0h24v24H0V0z\" fill=\"none\"/>\n",
              "    <path d=\"M18.56 5.44l.94 2.06.94-2.06 2.06-.94-2.06-.94-.94-2.06-.94 2.06-2.06.94zm-11 1L8.5 8.5l.94-2.06 2.06-.94-2.06-.94L8.5 2.5l-.94 2.06-2.06.94zm10 10l.94 2.06.94-2.06 2.06-.94-2.06-.94-.94-2.06-.94 2.06-2.06.94z\"/><path d=\"M17.41 7.96l-1.37-1.37c-.4-.4-.92-.59-1.43-.59-.52 0-1.04.2-1.43.59L10.3 9.45l-7.72 7.72c-.78.78-.78 2.05 0 2.83L4 21.41c.39.39.9.59 1.41.59.51 0 1.02-.2 1.41-.59l7.78-7.78 2.81-2.81c.8-.78.8-2.07 0-2.86zM5.41 20L4 18.59l7.72-7.72 1.47 1.35L5.41 20z\"/>\n",
              "  </svg>\n",
              "      </button>\n",
              "      \n",
              "  <style>\n",
              "    .colab-df-container {\n",
              "      display:flex;\n",
              "      flex-wrap:wrap;\n",
              "      gap: 12px;\n",
              "    }\n",
              "\n",
              "    .colab-df-convert {\n",
              "      background-color: #E8F0FE;\n",
              "      border: none;\n",
              "      border-radius: 50%;\n",
              "      cursor: pointer;\n",
              "      display: none;\n",
              "      fill: #1967D2;\n",
              "      height: 32px;\n",
              "      padding: 0 0 0 0;\n",
              "      width: 32px;\n",
              "    }\n",
              "\n",
              "    .colab-df-convert:hover {\n",
              "      background-color: #E2EBFA;\n",
              "      box-shadow: 0px 1px 2px rgba(60, 64, 67, 0.3), 0px 1px 3px 1px rgba(60, 64, 67, 0.15);\n",
              "      fill: #174EA6;\n",
              "    }\n",
              "\n",
              "    [theme=dark] .colab-df-convert {\n",
              "      background-color: #3B4455;\n",
              "      fill: #D2E3FC;\n",
              "    }\n",
              "\n",
              "    [theme=dark] .colab-df-convert:hover {\n",
              "      background-color: #434B5C;\n",
              "      box-shadow: 0px 1px 3px 1px rgba(0, 0, 0, 0.15);\n",
              "      filter: drop-shadow(0px 1px 2px rgba(0, 0, 0, 0.3));\n",
              "      fill: #FFFFFF;\n",
              "    }\n",
              "  </style>\n",
              "\n",
              "      <script>\n",
              "        const buttonEl =\n",
              "          document.querySelector('#df-489af116-4128-42d4-8c12-ca91b078f68f button.colab-df-convert');\n",
              "        buttonEl.style.display =\n",
              "          google.colab.kernel.accessAllowed ? 'block' : 'none';\n",
              "\n",
              "        async function convertToInteractive(key) {\n",
              "          const element = document.querySelector('#df-489af116-4128-42d4-8c12-ca91b078f68f');\n",
              "          const dataTable =\n",
              "            await google.colab.kernel.invokeFunction('convertToInteractive',\n",
              "                                                     [key], {});\n",
              "          if (!dataTable) return;\n",
              "\n",
              "          const docLinkHtml = 'Like what you see? Visit the ' +\n",
              "            '<a target=\"_blank\" href=https://colab.research.google.com/notebooks/data_table.ipynb>data table notebook</a>'\n",
              "            + ' to learn more about interactive tables.';\n",
              "          element.innerHTML = '';\n",
              "          dataTable['output_type'] = 'display_data';\n",
              "          await google.colab.output.renderOutput(dataTable, element);\n",
              "          const docLink = document.createElement('div');\n",
              "          docLink.innerHTML = docLinkHtml;\n",
              "          element.appendChild(docLink);\n",
              "        }\n",
              "      </script>\n",
              "    </div>\n",
              "  </div>\n",
              "  "
            ]
          },
          "metadata": {},
          "execution_count": 68
        }
      ],
      "source": [
        "tokenized = [] # 데이터프레임의 한 컬럼으로 추가할 리스트\n",
        "for sentence in train['preprocessed']: # 전처리된 리뷰들을 하나씩 꺼내옵니다\n",
        "    # To do\n",
        "    tokens = okt.morphs(sentence, stem = True) # 어간추출(형태소 분석)\n",
        "    tokenize = \" \".join(tokens) # tokens라는 리스트 안의 형태소들을 띄어쓰기로 분리된 하나의 문자열로 join시켜줍니다.\n",
        "    tokenized.append(tokenize) # 형태소 단위로 띄어쓰기된 문자열을 최종 리스트에 추가해줍니다\n",
        "train[\"tokenized_stem\"] = pd.DataFrame(tokenized) # 리스트를 데이터프레임으로 변환해 tokenized_stem라는 컬럼명으로 추가해줍니다.\n",
        "\n",
        "train.head() # 데이터 확인"
      ]
    },
    {
      "cell_type": "markdown",
      "metadata": {
        "id": "d4O8ZttGxzYh"
      },
      "source": [
        "형태소 분석 및 어간 추출을 완료한 \"tokenized\" 컬럼이 추가되었습니다!"
      ]
    },
    {
      "cell_type": "markdown",
      "metadata": {
        "id": "CCFNmsj7xzYh"
      },
      "source": [
        "### 품사 태깅(POS Tagging)\n",
        "\n",
        "자 이제 다음 단계인 품사 태깅에 대해 알아봅시다.\n",
        "\n",
        "품사 태깅이란 주어진 텍스트를 형태소 단위로 나눈 뒤, 각 형태소에 해당 품사를 태깅하여 리스트화 하는 것입니다."
      ]
    },
    {
      "cell_type": "markdown",
      "metadata": {
        "id": "gQaS_U04xzYj"
      },
      "source": [
        "한 예시를 살펴보니 Noun, Josa, Adverb, Adjective, Verb, Suffix, Punctuation, KoreanParticle 등으로 품사가 태깅되어 하나의 리스트 형태로 반환됩니다\n",
        "\n",
        "태그되는 품사의 종류는 더 다양하니 직접 다양한 문장을 이용해 공부해보세요!\n",
        "\n",
        "okt의 pos 함수만을 이용해 토큰화와 품사 태깅을 한번에 할 수 있습니다.\n",
        "\n",
        "품사 태깅은 꼭 필요한 품사(ex. 명사)를 추출할 때 유용하게 쓰일 수 있겠네요.\n",
        "\n",
        "바로 명사를 추출해볼까요?"
      ]
    },
    {
      "cell_type": "code",
      "execution_count": 69,
      "metadata": {
        "id": "yEWOrDafxzYj",
        "outputId": "9d2ee71b-31a2-45e1-9cc0-8106198b5272",
        "colab": {
          "base_uri": "https://localhost:8080/"
        }
      },
      "outputs": [
        {
          "output_type": "stream",
          "name": "stdout",
          "text": [
            "['오늘', '코딩', '자연어', '처리', '고수']\n"
          ]
        }
      ],
      "source": [
        "print(okt.nouns(\"오늘도 열심히 재밌는 코딩을 해볼까? 같이 힘내서 자연어 처리 고수들이 됩시다! ㅎㅎ\"))"
      ]
    },
    {
      "cell_type": "markdown",
      "metadata": {
        "id": "fYpUkWnExzYk"
      },
      "source": [
        "okt의 nouns 함수를 사용해 간편하게 명사만을 추출하였습니다!\n",
        "\n",
        "이렇게 간단하게 명사만을 추출할수도 있지만, 영화 리뷰는 명사만으로 긍/부정을 판단하기 어렵기 때문에 \n",
        "\n",
        "우선 임의로 명사, 동사, 형용사, 부사를 추출하여 사용해보겠습니다. (이 부분은 직접 고민하고 수정해보세요!)"
      ]
    },
    {
      "cell_type": "code",
      "execution_count": 70,
      "metadata": {
        "id": "Y5NeznawxzYk",
        "outputId": "3e7fd84b-17af-4130-ad3a-da04c7802853",
        "colab": {
          "base_uri": "https://localhost:8080/",
          "height": 389
        }
      },
      "outputs": [
        {
          "output_type": "execute_result",
          "data": {
            "text/plain": [
              "   index    id                                    document  label  \\\n",
              "0   1758  1759                 인어공주역시 감동이였는데 같은 감독님이셨군요...      1   \n",
              "1    464   465  갈수록 웃기네이수정 착한척하믄서 이남자저남자..아휴 짜잉나첨엔 잼났는데욕나옴      0   \n",
              "2   1432  1433                        시도는 좋았지만 아쉬움이 많은 영화.      0   \n",
              "3   3276  3277                 투모로우 후속작인줄 알고봤드만... 전혀 딴판이네      0   \n",
              "4   3000  3001   워낙어릴때봐서 기억도 안난다. 지금 다시 볼라겨 다운 받았다. 무조건 만점      1   \n",
              "\n",
              "                               preprocessed  \\\n",
              "0                  인어공주역시 감동이였는데 같은 감독님이셨군요   \n",
              "1  갈수록 웃기네이수정 착한척하믄서 이남자저남자아휴 짜잉나첨엔 잼났는데욕나옴   \n",
              "2                       시도는 좋았지만 아쉬움이 많은 영화   \n",
              "3                  투모로우 후속작인줄 알고봤드만 전혀 딴판이네   \n",
              "4   워낙어릴때봐서 기억도 안난다 지금 다시 볼라겨 다운 받았다 무조건 만점   \n",
              "\n",
              "                                      tokenized_stem  \\\n",
              "0                         인어공주 역시 감동 이 이다 같다 감독 님 이다   \n",
              "1  갈수록 웃기 네 이수정 착하다 척 하므다 이 남자 저 남자 아 휴 짜잉나첨 엔 잼 ...   \n",
              "2                                시도 는 좋다 아쉬움 이 많다 영화   \n",
              "3                       투모로우 후속작 인 줄 알고봤드 만 전혀 딴판 이네   \n",
              "4      워낙 어리다 때 보다 기억 도 안 나다 지금 다시 볼라 겨 다운 받다 무조건 만점   \n",
              "\n",
              "                                    main_pos  \n",
              "0                  인어공주 역시 감동 였는데 같은 감독 이셨군요  \n",
              "1  갈수록 웃기 이수정 착한 척 하믄서 남자 남자 짜잉나첨 잼 났는데 욕 나옴  \n",
              "2                          시도 좋았지만 아쉬움 많은 영화  \n",
              "3                      투모로우 후속작 줄 알고봤드 전혀 딴판  \n",
              "4  워낙 어릴 때 봐서 기억 난다 지금 다시 볼라 겨 다운 받았다 무조건 만점  "
            ],
            "text/html": [
              "\n",
              "  <div id=\"df-976e20de-4b6f-470f-b3e9-91b14173f2f5\">\n",
              "    <div class=\"colab-df-container\">\n",
              "      <div>\n",
              "<style scoped>\n",
              "    .dataframe tbody tr th:only-of-type {\n",
              "        vertical-align: middle;\n",
              "    }\n",
              "\n",
              "    .dataframe tbody tr th {\n",
              "        vertical-align: top;\n",
              "    }\n",
              "\n",
              "    .dataframe thead th {\n",
              "        text-align: right;\n",
              "    }\n",
              "</style>\n",
              "<table border=\"1\" class=\"dataframe\">\n",
              "  <thead>\n",
              "    <tr style=\"text-align: right;\">\n",
              "      <th></th>\n",
              "      <th>index</th>\n",
              "      <th>id</th>\n",
              "      <th>document</th>\n",
              "      <th>label</th>\n",
              "      <th>preprocessed</th>\n",
              "      <th>tokenized_stem</th>\n",
              "      <th>main_pos</th>\n",
              "    </tr>\n",
              "  </thead>\n",
              "  <tbody>\n",
              "    <tr>\n",
              "      <th>0</th>\n",
              "      <td>1758</td>\n",
              "      <td>1759</td>\n",
              "      <td>인어공주역시 감동이였는데 같은 감독님이셨군요...</td>\n",
              "      <td>1</td>\n",
              "      <td>인어공주역시 감동이였는데 같은 감독님이셨군요</td>\n",
              "      <td>인어공주 역시 감동 이 이다 같다 감독 님 이다</td>\n",
              "      <td>인어공주 역시 감동 였는데 같은 감독 이셨군요</td>\n",
              "    </tr>\n",
              "    <tr>\n",
              "      <th>1</th>\n",
              "      <td>464</td>\n",
              "      <td>465</td>\n",
              "      <td>갈수록 웃기네이수정 착한척하믄서 이남자저남자..아휴 짜잉나첨엔 잼났는데욕나옴</td>\n",
              "      <td>0</td>\n",
              "      <td>갈수록 웃기네이수정 착한척하믄서 이남자저남자아휴 짜잉나첨엔 잼났는데욕나옴</td>\n",
              "      <td>갈수록 웃기 네 이수정 착하다 척 하므다 이 남자 저 남자 아 휴 짜잉나첨 엔 잼 ...</td>\n",
              "      <td>갈수록 웃기 이수정 착한 척 하믄서 남자 남자 짜잉나첨 잼 났는데 욕 나옴</td>\n",
              "    </tr>\n",
              "    <tr>\n",
              "      <th>2</th>\n",
              "      <td>1432</td>\n",
              "      <td>1433</td>\n",
              "      <td>시도는 좋았지만 아쉬움이 많은 영화.</td>\n",
              "      <td>0</td>\n",
              "      <td>시도는 좋았지만 아쉬움이 많은 영화</td>\n",
              "      <td>시도 는 좋다 아쉬움 이 많다 영화</td>\n",
              "      <td>시도 좋았지만 아쉬움 많은 영화</td>\n",
              "    </tr>\n",
              "    <tr>\n",
              "      <th>3</th>\n",
              "      <td>3276</td>\n",
              "      <td>3277</td>\n",
              "      <td>투모로우 후속작인줄 알고봤드만... 전혀 딴판이네</td>\n",
              "      <td>0</td>\n",
              "      <td>투모로우 후속작인줄 알고봤드만 전혀 딴판이네</td>\n",
              "      <td>투모로우 후속작 인 줄 알고봤드 만 전혀 딴판 이네</td>\n",
              "      <td>투모로우 후속작 줄 알고봤드 전혀 딴판</td>\n",
              "    </tr>\n",
              "    <tr>\n",
              "      <th>4</th>\n",
              "      <td>3000</td>\n",
              "      <td>3001</td>\n",
              "      <td>워낙어릴때봐서 기억도 안난다. 지금 다시 볼라겨 다운 받았다. 무조건 만점</td>\n",
              "      <td>1</td>\n",
              "      <td>워낙어릴때봐서 기억도 안난다 지금 다시 볼라겨 다운 받았다 무조건 만점</td>\n",
              "      <td>워낙 어리다 때 보다 기억 도 안 나다 지금 다시 볼라 겨 다운 받다 무조건 만점</td>\n",
              "      <td>워낙 어릴 때 봐서 기억 난다 지금 다시 볼라 겨 다운 받았다 무조건 만점</td>\n",
              "    </tr>\n",
              "  </tbody>\n",
              "</table>\n",
              "</div>\n",
              "      <button class=\"colab-df-convert\" onclick=\"convertToInteractive('df-976e20de-4b6f-470f-b3e9-91b14173f2f5')\"\n",
              "              title=\"Convert this dataframe to an interactive table.\"\n",
              "              style=\"display:none;\">\n",
              "        \n",
              "  <svg xmlns=\"http://www.w3.org/2000/svg\" height=\"24px\"viewBox=\"0 0 24 24\"\n",
              "       width=\"24px\">\n",
              "    <path d=\"M0 0h24v24H0V0z\" fill=\"none\"/>\n",
              "    <path d=\"M18.56 5.44l.94 2.06.94-2.06 2.06-.94-2.06-.94-.94-2.06-.94 2.06-2.06.94zm-11 1L8.5 8.5l.94-2.06 2.06-.94-2.06-.94L8.5 2.5l-.94 2.06-2.06.94zm10 10l.94 2.06.94-2.06 2.06-.94-2.06-.94-.94-2.06-.94 2.06-2.06.94z\"/><path d=\"M17.41 7.96l-1.37-1.37c-.4-.4-.92-.59-1.43-.59-.52 0-1.04.2-1.43.59L10.3 9.45l-7.72 7.72c-.78.78-.78 2.05 0 2.83L4 21.41c.39.39.9.59 1.41.59.51 0 1.02-.2 1.41-.59l7.78-7.78 2.81-2.81c.8-.78.8-2.07 0-2.86zM5.41 20L4 18.59l7.72-7.72 1.47 1.35L5.41 20z\"/>\n",
              "  </svg>\n",
              "      </button>\n",
              "      \n",
              "  <style>\n",
              "    .colab-df-container {\n",
              "      display:flex;\n",
              "      flex-wrap:wrap;\n",
              "      gap: 12px;\n",
              "    }\n",
              "\n",
              "    .colab-df-convert {\n",
              "      background-color: #E8F0FE;\n",
              "      border: none;\n",
              "      border-radius: 50%;\n",
              "      cursor: pointer;\n",
              "      display: none;\n",
              "      fill: #1967D2;\n",
              "      height: 32px;\n",
              "      padding: 0 0 0 0;\n",
              "      width: 32px;\n",
              "    }\n",
              "\n",
              "    .colab-df-convert:hover {\n",
              "      background-color: #E2EBFA;\n",
              "      box-shadow: 0px 1px 2px rgba(60, 64, 67, 0.3), 0px 1px 3px 1px rgba(60, 64, 67, 0.15);\n",
              "      fill: #174EA6;\n",
              "    }\n",
              "\n",
              "    [theme=dark] .colab-df-convert {\n",
              "      background-color: #3B4455;\n",
              "      fill: #D2E3FC;\n",
              "    }\n",
              "\n",
              "    [theme=dark] .colab-df-convert:hover {\n",
              "      background-color: #434B5C;\n",
              "      box-shadow: 0px 1px 3px 1px rgba(0, 0, 0, 0.15);\n",
              "      filter: drop-shadow(0px 1px 2px rgba(0, 0, 0, 0.3));\n",
              "      fill: #FFFFFF;\n",
              "    }\n",
              "  </style>\n",
              "\n",
              "      <script>\n",
              "        const buttonEl =\n",
              "          document.querySelector('#df-976e20de-4b6f-470f-b3e9-91b14173f2f5 button.colab-df-convert');\n",
              "        buttonEl.style.display =\n",
              "          google.colab.kernel.accessAllowed ? 'block' : 'none';\n",
              "\n",
              "        async function convertToInteractive(key) {\n",
              "          const element = document.querySelector('#df-976e20de-4b6f-470f-b3e9-91b14173f2f5');\n",
              "          const dataTable =\n",
              "            await google.colab.kernel.invokeFunction('convertToInteractive',\n",
              "                                                     [key], {});\n",
              "          if (!dataTable) return;\n",
              "\n",
              "          const docLinkHtml = 'Like what you see? Visit the ' +\n",
              "            '<a target=\"_blank\" href=https://colab.research.google.com/notebooks/data_table.ipynb>data table notebook</a>'\n",
              "            + ' to learn more about interactive tables.';\n",
              "          element.innerHTML = '';\n",
              "          dataTable['output_type'] = 'display_data';\n",
              "          await google.colab.output.renderOutput(dataTable, element);\n",
              "          const docLink = document.createElement('div');\n",
              "          docLink.innerHTML = docLinkHtml;\n",
              "          element.appendChild(docLink);\n",
              "        }\n",
              "      </script>\n",
              "    </div>\n",
              "  </div>\n",
              "  "
            ]
          },
          "metadata": {},
          "execution_count": 70
        }
      ],
      "source": [
        "main_pos = [] # 데이터프레임의 새 컬럼이 될 리스트\n",
        "for sentence in train['document']: # 리뷰들을 하나씩 가져옵니다\n",
        "    # To do\n",
        "    pos = okt.pos(sentence)#품사 태깅으로 형태소 분석을 진행하고 해당 리스트를 pos라는 변수로 받습니다\n",
        "    # print(pos)\n",
        "    main_words = [word_pos[0] for word_pos in pos if word_pos[1] in (\"Noun\", \"Adverb\", \"Adjective\", \"Verb\")] # 가져오고자 하는 품사에 해당하면 해당 형태소를 main_words 리스트에 추가합니다.\n",
        "    main_words_str = \" \".join(main_words) # main_words 리스트 안의 형태소들을 띄어쓰기로 분리된 하나의 문자열로 join시켜줍니다.\n",
        "    main_pos.append(main_words_str) # 선택한 형태소들로 이루어진 문자열을 최종 리스트에 추가해줍니다\n",
        "train[\"main_pos\"] = pd.DataFrame(main_pos) # 리스트를 데이터프레임으로 변환해 main_pos라는 컬럼명으로 추가해줍니다.\n",
        "\n",
        "train.head() # 데이터 확인"
      ]
    },
    {
      "cell_type": "markdown",
      "metadata": {
        "id": "0rC48SZmxzYl"
      },
      "source": [
        "자 이제 총 세 개의 전처리된 컬럼이 생성되었습니다!\n",
        "\n",
        "어떤 전처리 과정이 성능이 가장 잘 나올지는 미지수입니다. 직접 다양한 시도를 통해 최적의 전처리 프로세스를 찾아보세요~\n",
        "\n",
        "이번 베이스라인에서는 마지막에 생성한 main_pos 컬럼을 이용해 모델 학습을 진행하겠습니다."
      ]
    },
    {
      "cell_type": "markdown",
      "metadata": {
        "id": "csQKUqYNxzYl"
      },
      "source": [
        "### 벡터화\n",
        "\n",
        "CountVectorizer를 사용하였습니다. "
      ]
    },
    {
      "cell_type": "code",
      "execution_count": 71,
      "metadata": {
        "id": "FgLiiwwrxzYl"
      },
      "outputs": [],
      "source": [
        "X_train = train.main_pos #training 데이터에서 문서 추출\n",
        "y_train = train.label #training 데이터에서 라벨 추출"
      ]
    },
    {
      "cell_type": "code",
      "execution_count": 72,
      "metadata": {
        "id": "s8i5bjQpxzYm"
      },
      "outputs": [],
      "source": [
        "from sklearn.feature_extraction.text import CountVectorizer\n",
        "# To do\n",
        "vectorizer = CountVectorizer()#countvectorizer 생성\n",
        "# countvectorizer 학습\n",
        "vectorizer.fit(X_train)\n",
        "X_train_vec = vectorizer.transform(X_train) # transform"
      ]
    },
    {
      "cell_type": "markdown",
      "metadata": {
        "id": "rGt6dzjVxzYm"
      },
      "source": [
        "### 모델 학습"
      ]
    },
    {
      "cell_type": "code",
      "execution_count": 73,
      "metadata": {
        "id": "zYcjr36dxzYm",
        "outputId": "cc1524ce-4490-420c-cfb9-ac882354ffca",
        "colab": {
          "base_uri": "https://localhost:8080/"
        }
      },
      "outputs": [
        {
          "output_type": "execute_result",
          "data": {
            "text/plain": [
              "LogisticRegression()"
            ]
          },
          "metadata": {},
          "execution_count": 73
        }
      ],
      "source": [
        "from sklearn.linear_model import LogisticRegression #모델 불러오기\n",
        "model = LogisticRegression() #객체에 모델 할당\n",
        "model.fit(X_train_vec, y_train) #모델 학습"
      ]
    },
    {
      "cell_type": "markdown",
      "metadata": {
        "id": "F_jE_ICnxzYn"
      },
      "source": [
        "### 검증셋으로 모델 성능 검증"
      ]
    },
    {
      "cell_type": "markdown",
      "metadata": {
        "id": "Ch_s74HHxzYn"
      },
      "source": [
        "먼저 검증 셋 val에 train 셋과 동일한 전처리 과정을 거쳐줍니다."
      ]
    },
    {
      "cell_type": "code",
      "execution_count": 74,
      "metadata": {
        "id": "rlS82zKBxzYn",
        "outputId": "92678013-4ed5-42bd-e558-cdb0c7824d4a",
        "colab": {
          "base_uri": "https://localhost:8080/",
          "height": 372
        }
      },
      "outputs": [
        {
          "output_type": "execute_result",
          "data": {
            "text/plain": [
              "   index    id                             document  label  \\\n",
              "0   4588  4589                     제시카 알바때문에 그나마 3점      0   \n",
              "1   3018  3019  시즌4는 최고다!!!! 진짜 미친 드라마. 영화보다 더 멋지다.      1   \n",
              "2   3784  3785                    I'm Sam 의 한국식 신파극      0   \n",
              "3   4806  4807  이 작가는 무속인이 아닐까 의심되는. 완전 상상의 나래를 펴다.      0   \n",
              "4   3444  3445  이정도로 지루함... 몹시도 굼벵이 같은 주인공..빨리감기 추천      0   \n",
              "\n",
              "                        preprocessed                          tokenized_stem  \\\n",
              "0                    제시카 알바때문에 그나마 점                       제시카 알바 때문 에 그나마 점   \n",
              "1       시즌는 최고다 진짜 미친 드라마 영화보다 더 멋지다        시즌 늘다 최고다 진짜 미치다 드라마 영화 보다 더 멋지다   \n",
              "2                          의 한국식 신파극                              의 한국 식 신파극   \n",
              "3  이 작가는 무속인이 아닐까 의심되는 완전 상상의 나래를 펴다  이 작가 는 무속인 이 아니다 의심 되다 완전 상상 의 나래 를 펴다   \n",
              "4     이정도로 지루함 몹시도 굼벵이 같은 주인공빨리감기 추천     이 정도 로 지루함 몹시 도 굼벵이 같다 주인공 빨리 감기 추천   \n",
              "\n",
              "                         main_pos  \n",
              "0                     제시카 알바 때문 점  \n",
              "1     시즌 는 최고다 진짜 미친 드라마 영화 더 멋지다  \n",
              "2                        의 한국 신파극  \n",
              "3  이 작가 무속인 아닐까 의심 되는 완전 상상 나래 펴다  \n",
              "4      정도 지루함 몹시 굼벵이 같은 주인공 감기 추천  "
            ],
            "text/html": [
              "\n",
              "  <div id=\"df-a8209030-c5f3-4bfe-813f-b80950248388\">\n",
              "    <div class=\"colab-df-container\">\n",
              "      <div>\n",
              "<style scoped>\n",
              "    .dataframe tbody tr th:only-of-type {\n",
              "        vertical-align: middle;\n",
              "    }\n",
              "\n",
              "    .dataframe tbody tr th {\n",
              "        vertical-align: top;\n",
              "    }\n",
              "\n",
              "    .dataframe thead th {\n",
              "        text-align: right;\n",
              "    }\n",
              "</style>\n",
              "<table border=\"1\" class=\"dataframe\">\n",
              "  <thead>\n",
              "    <tr style=\"text-align: right;\">\n",
              "      <th></th>\n",
              "      <th>index</th>\n",
              "      <th>id</th>\n",
              "      <th>document</th>\n",
              "      <th>label</th>\n",
              "      <th>preprocessed</th>\n",
              "      <th>tokenized_stem</th>\n",
              "      <th>main_pos</th>\n",
              "    </tr>\n",
              "  </thead>\n",
              "  <tbody>\n",
              "    <tr>\n",
              "      <th>0</th>\n",
              "      <td>4588</td>\n",
              "      <td>4589</td>\n",
              "      <td>제시카 알바때문에 그나마 3점</td>\n",
              "      <td>0</td>\n",
              "      <td>제시카 알바때문에 그나마 점</td>\n",
              "      <td>제시카 알바 때문 에 그나마 점</td>\n",
              "      <td>제시카 알바 때문 점</td>\n",
              "    </tr>\n",
              "    <tr>\n",
              "      <th>1</th>\n",
              "      <td>3018</td>\n",
              "      <td>3019</td>\n",
              "      <td>시즌4는 최고다!!!! 진짜 미친 드라마. 영화보다 더 멋지다.</td>\n",
              "      <td>1</td>\n",
              "      <td>시즌는 최고다 진짜 미친 드라마 영화보다 더 멋지다</td>\n",
              "      <td>시즌 늘다 최고다 진짜 미치다 드라마 영화 보다 더 멋지다</td>\n",
              "      <td>시즌 는 최고다 진짜 미친 드라마 영화 더 멋지다</td>\n",
              "    </tr>\n",
              "    <tr>\n",
              "      <th>2</th>\n",
              "      <td>3784</td>\n",
              "      <td>3785</td>\n",
              "      <td>I'm Sam 의 한국식 신파극</td>\n",
              "      <td>0</td>\n",
              "      <td>의 한국식 신파극</td>\n",
              "      <td>의 한국 식 신파극</td>\n",
              "      <td>의 한국 신파극</td>\n",
              "    </tr>\n",
              "    <tr>\n",
              "      <th>3</th>\n",
              "      <td>4806</td>\n",
              "      <td>4807</td>\n",
              "      <td>이 작가는 무속인이 아닐까 의심되는. 완전 상상의 나래를 펴다.</td>\n",
              "      <td>0</td>\n",
              "      <td>이 작가는 무속인이 아닐까 의심되는 완전 상상의 나래를 펴다</td>\n",
              "      <td>이 작가 는 무속인 이 아니다 의심 되다 완전 상상 의 나래 를 펴다</td>\n",
              "      <td>이 작가 무속인 아닐까 의심 되는 완전 상상 나래 펴다</td>\n",
              "    </tr>\n",
              "    <tr>\n",
              "      <th>4</th>\n",
              "      <td>3444</td>\n",
              "      <td>3445</td>\n",
              "      <td>이정도로 지루함... 몹시도 굼벵이 같은 주인공..빨리감기 추천</td>\n",
              "      <td>0</td>\n",
              "      <td>이정도로 지루함 몹시도 굼벵이 같은 주인공빨리감기 추천</td>\n",
              "      <td>이 정도 로 지루함 몹시 도 굼벵이 같다 주인공 빨리 감기 추천</td>\n",
              "      <td>정도 지루함 몹시 굼벵이 같은 주인공 감기 추천</td>\n",
              "    </tr>\n",
              "  </tbody>\n",
              "</table>\n",
              "</div>\n",
              "      <button class=\"colab-df-convert\" onclick=\"convertToInteractive('df-a8209030-c5f3-4bfe-813f-b80950248388')\"\n",
              "              title=\"Convert this dataframe to an interactive table.\"\n",
              "              style=\"display:none;\">\n",
              "        \n",
              "  <svg xmlns=\"http://www.w3.org/2000/svg\" height=\"24px\"viewBox=\"0 0 24 24\"\n",
              "       width=\"24px\">\n",
              "    <path d=\"M0 0h24v24H0V0z\" fill=\"none\"/>\n",
              "    <path d=\"M18.56 5.44l.94 2.06.94-2.06 2.06-.94-2.06-.94-.94-2.06-.94 2.06-2.06.94zm-11 1L8.5 8.5l.94-2.06 2.06-.94-2.06-.94L8.5 2.5l-.94 2.06-2.06.94zm10 10l.94 2.06.94-2.06 2.06-.94-2.06-.94-.94-2.06-.94 2.06-2.06.94z\"/><path d=\"M17.41 7.96l-1.37-1.37c-.4-.4-.92-.59-1.43-.59-.52 0-1.04.2-1.43.59L10.3 9.45l-7.72 7.72c-.78.78-.78 2.05 0 2.83L4 21.41c.39.39.9.59 1.41.59.51 0 1.02-.2 1.41-.59l7.78-7.78 2.81-2.81c.8-.78.8-2.07 0-2.86zM5.41 20L4 18.59l7.72-7.72 1.47 1.35L5.41 20z\"/>\n",
              "  </svg>\n",
              "      </button>\n",
              "      \n",
              "  <style>\n",
              "    .colab-df-container {\n",
              "      display:flex;\n",
              "      flex-wrap:wrap;\n",
              "      gap: 12px;\n",
              "    }\n",
              "\n",
              "    .colab-df-convert {\n",
              "      background-color: #E8F0FE;\n",
              "      border: none;\n",
              "      border-radius: 50%;\n",
              "      cursor: pointer;\n",
              "      display: none;\n",
              "      fill: #1967D2;\n",
              "      height: 32px;\n",
              "      padding: 0 0 0 0;\n",
              "      width: 32px;\n",
              "    }\n",
              "\n",
              "    .colab-df-convert:hover {\n",
              "      background-color: #E2EBFA;\n",
              "      box-shadow: 0px 1px 2px rgba(60, 64, 67, 0.3), 0px 1px 3px 1px rgba(60, 64, 67, 0.15);\n",
              "      fill: #174EA6;\n",
              "    }\n",
              "\n",
              "    [theme=dark] .colab-df-convert {\n",
              "      background-color: #3B4455;\n",
              "      fill: #D2E3FC;\n",
              "    }\n",
              "\n",
              "    [theme=dark] .colab-df-convert:hover {\n",
              "      background-color: #434B5C;\n",
              "      box-shadow: 0px 1px 3px 1px rgba(0, 0, 0, 0.15);\n",
              "      filter: drop-shadow(0px 1px 2px rgba(0, 0, 0, 0.3));\n",
              "      fill: #FFFFFF;\n",
              "    }\n",
              "  </style>\n",
              "\n",
              "      <script>\n",
              "        const buttonEl =\n",
              "          document.querySelector('#df-a8209030-c5f3-4bfe-813f-b80950248388 button.colab-df-convert');\n",
              "        buttonEl.style.display =\n",
              "          google.colab.kernel.accessAllowed ? 'block' : 'none';\n",
              "\n",
              "        async function convertToInteractive(key) {\n",
              "          const element = document.querySelector('#df-a8209030-c5f3-4bfe-813f-b80950248388');\n",
              "          const dataTable =\n",
              "            await google.colab.kernel.invokeFunction('convertToInteractive',\n",
              "                                                     [key], {});\n",
              "          if (!dataTable) return;\n",
              "\n",
              "          const docLinkHtml = 'Like what you see? Visit the ' +\n",
              "            '<a target=\"_blank\" href=https://colab.research.google.com/notebooks/data_table.ipynb>data table notebook</a>'\n",
              "            + ' to learn more about interactive tables.';\n",
              "          element.innerHTML = '';\n",
              "          dataTable['output_type'] = 'display_data';\n",
              "          await google.colab.output.renderOutput(dataTable, element);\n",
              "          const docLink = document.createElement('div');\n",
              "          docLink.innerHTML = docLinkHtml;\n",
              "          element.appendChild(docLink);\n",
              "        }\n",
              "      </script>\n",
              "    </div>\n",
              "  </div>\n",
              "  "
            ]
          },
          "metadata": {},
          "execution_count": 74
        }
      ],
      "source": [
        "# preprocessed\n",
        "val['preprocessed'] = val['document'].str.replace(\"[^ㄱ-ㅎㅏ-ㅣ가-힣 ]\",\"\") # 한글과 공백을 제외하고 모두 제거\n",
        "val['preprocessed'] = val['preprocessed'].str.replace(\" +\", \" \") # 다중 공백 제거\n",
        "\n",
        "# tokenized_stem\n",
        "tokenized = []\n",
        "for sentence in val['preprocessed']:\n",
        "    # To do\n",
        "    tokens =  okt.morphs(sentence, stem = True)\n",
        "    tokenize = \" \".join(tokens)\n",
        "    tokenized.append(tokenize)\n",
        "val[\"tokenized_stem\"] = pd.DataFrame(tokenized)\n",
        "\n",
        "# main_pos\n",
        "main_pos = []\n",
        "for sentence in val['document']:\n",
        "    # To do\n",
        "    pos = okt.pos(sentence)\n",
        "    main_words = [main[0] for main in pos if main[1] in (\"Verb\", \"Noun\", \"Adjective\", )]\n",
        "    main_words_str = \" \".join(main_words)\n",
        "    main_pos.append(main_words_str)\n",
        "val[\"main_pos\"] = pd.DataFrame(main_pos)\n",
        "\n",
        "val.head()"
      ]
    },
    {
      "cell_type": "markdown",
      "metadata": {
        "id": "3OkudJa5xzYo"
      },
      "source": [
        "학습한 모델로 예측할 X를 벡터화해줍니다."
      ]
    },
    {
      "cell_type": "code",
      "execution_count": 75,
      "metadata": {
        "id": "Lqwz6CoCxzYo"
      },
      "outputs": [],
      "source": [
        "X_val = val.main_pos #validation 데이터에서 전처리된 문서 추출\n",
        "y_val = val.label #validation 데이터에서 라벨 추출\n",
        "# To do\n",
        "X_val_vec = vectorizer.transform(X_val) # train셋으로 fit한 벡터라이저 이용해 transform"
      ]
    },
    {
      "cell_type": "code",
      "execution_count": 76,
      "metadata": {
        "id": "A08sNchqxzYo",
        "outputId": "1f621df5-0c1b-45f3-8832-158ae59096dc",
        "colab": {
          "base_uri": "https://localhost:8080/"
        }
      },
      "outputs": [
        {
          "output_type": "stream",
          "name": "stdout",
          "text": [
            "[0 1 1 ... 0 0 0]\n"
          ]
        }
      ],
      "source": [
        "#run model\n",
        "y_pred = model.predict(X_val_vec)\n",
        "print(y_pred)\n",
        "#0:negative 1:positive"
      ]
    },
    {
      "cell_type": "code",
      "execution_count": 77,
      "metadata": {
        "id": "tP-UOGHaxzYp",
        "outputId": "d381f0ea-d386-4615-87ac-267a054a45f7",
        "colab": {
          "base_uri": "https://localhost:8080/"
        }
      },
      "outputs": [
        {
          "output_type": "stream",
          "name": "stdout",
          "text": [
            "accuracy = 0.82\n"
          ]
        }
      ],
      "source": [
        "from sklearn import metrics\n",
        "print('accuracy =', metrics.accuracy_score(y_val, y_pred)) # 정확도 확인"
      ]
    },
    {
      "cell_type": "markdown",
      "metadata": {
        "id": "bDieixi3xzYp"
      },
      "source": [
        "train 셋으로 학습한 모델을 사용해 validation 셋을 예측해본 결과 0.8184의 정확도를 얻었습니다!\n",
        "\n",
        "다양한 전처리 기법과 모델들을 사용하여 성능을 높여보세요~"
      ]
    },
    {
      "cell_type": "markdown",
      "metadata": {
        "id": "RfFDg9ItxzYp"
      },
      "source": [
        "# test.csv 분류하기"
      ]
    },
    {
      "cell_type": "markdown",
      "metadata": {
        "id": "5hnPNLl1xzYp"
      },
      "source": [
        "이제 본격적으로 대회에서 주어진 정답이 없는 test 데이터의 라벨을 예측해보겠습니다.\n",
        "\n",
        "전처리 모델 학습 단계에서 test 데이터를 사용하면 data leakage로 간주되니\n",
        "\n",
        "test.csv는 반드시 모델 학습이 끝난 뒤 예측시에만 등장해야 함에 주의해주세요!\n",
        "\n",
        "train.csv를 이용한 전처리/학습을 test.cvs에 적용하는 것은 허용되지만, test.csv를 전처리/모델링에 직접적으로 이용하면 실격입니다."
      ]
    },
    {
      "cell_type": "code",
      "execution_count": 78,
      "metadata": {
        "id": "DzUx56YPxzYq",
        "outputId": "4dcafbb5-8252-454d-ec7c-669cce2d0e70",
        "colab": {
          "base_uri": "https://localhost:8080/",
          "height": 424
        }
      },
      "outputs": [
        {
          "output_type": "execute_result",
          "data": {
            "text/plain": [
              "        id                             document\n",
              "0        1                     시간 때우기 좋은 영화 지루함\n",
              "1        2  훈훈한 정이 느껴지는 영화! 가족끼리 드라마 보듯이 보면 딱~!\n",
              "2        3                    Childhood fantasy\n",
              "3        4                  멋있는 영화입니다. 잊을 수 없는!\n",
              "4        5                   너무 감동적이네요 펑펑 울었습니다\n",
              "...    ...                                  ...\n",
              "4995  4996        연계도 제대로 안되고 뭔가 부족한느낌이들고 찝찝한영화\n",
              "4996  4997           내생에 최악의 영화중 하나 졸려서 미칠뻔....\n",
              "4997  4998       지금까지 나온 드라마 중 최고였습니다. 100점 만점!\n",
              "4998  4999       영화값으로 엄청난 공연을 보았다 - 이게 웬 횡재 ..\n",
              "4999  5000              올해엔 롯데 자이언츠가 꼭 우승했으면...\n",
              "\n",
              "[5000 rows x 2 columns]"
            ],
            "text/html": [
              "\n",
              "  <div id=\"df-d96bb179-d23f-4d22-a11c-b90056a474e3\">\n",
              "    <div class=\"colab-df-container\">\n",
              "      <div>\n",
              "<style scoped>\n",
              "    .dataframe tbody tr th:only-of-type {\n",
              "        vertical-align: middle;\n",
              "    }\n",
              "\n",
              "    .dataframe tbody tr th {\n",
              "        vertical-align: top;\n",
              "    }\n",
              "\n",
              "    .dataframe thead th {\n",
              "        text-align: right;\n",
              "    }\n",
              "</style>\n",
              "<table border=\"1\" class=\"dataframe\">\n",
              "  <thead>\n",
              "    <tr style=\"text-align: right;\">\n",
              "      <th></th>\n",
              "      <th>id</th>\n",
              "      <th>document</th>\n",
              "    </tr>\n",
              "  </thead>\n",
              "  <tbody>\n",
              "    <tr>\n",
              "      <th>0</th>\n",
              "      <td>1</td>\n",
              "      <td>시간 때우기 좋은 영화 지루함</td>\n",
              "    </tr>\n",
              "    <tr>\n",
              "      <th>1</th>\n",
              "      <td>2</td>\n",
              "      <td>훈훈한 정이 느껴지는 영화! 가족끼리 드라마 보듯이 보면 딱~!</td>\n",
              "    </tr>\n",
              "    <tr>\n",
              "      <th>2</th>\n",
              "      <td>3</td>\n",
              "      <td>Childhood fantasy</td>\n",
              "    </tr>\n",
              "    <tr>\n",
              "      <th>3</th>\n",
              "      <td>4</td>\n",
              "      <td>멋있는 영화입니다. 잊을 수 없는!</td>\n",
              "    </tr>\n",
              "    <tr>\n",
              "      <th>4</th>\n",
              "      <td>5</td>\n",
              "      <td>너무 감동적이네요 펑펑 울었습니다</td>\n",
              "    </tr>\n",
              "    <tr>\n",
              "      <th>...</th>\n",
              "      <td>...</td>\n",
              "      <td>...</td>\n",
              "    </tr>\n",
              "    <tr>\n",
              "      <th>4995</th>\n",
              "      <td>4996</td>\n",
              "      <td>연계도 제대로 안되고 뭔가 부족한느낌이들고 찝찝한영화</td>\n",
              "    </tr>\n",
              "    <tr>\n",
              "      <th>4996</th>\n",
              "      <td>4997</td>\n",
              "      <td>내생에 최악의 영화중 하나 졸려서 미칠뻔....</td>\n",
              "    </tr>\n",
              "    <tr>\n",
              "      <th>4997</th>\n",
              "      <td>4998</td>\n",
              "      <td>지금까지 나온 드라마 중 최고였습니다. 100점 만점!</td>\n",
              "    </tr>\n",
              "    <tr>\n",
              "      <th>4998</th>\n",
              "      <td>4999</td>\n",
              "      <td>영화값으로 엄청난 공연을 보았다 - 이게 웬 횡재 ..</td>\n",
              "    </tr>\n",
              "    <tr>\n",
              "      <th>4999</th>\n",
              "      <td>5000</td>\n",
              "      <td>올해엔 롯데 자이언츠가 꼭 우승했으면...</td>\n",
              "    </tr>\n",
              "  </tbody>\n",
              "</table>\n",
              "<p>5000 rows × 2 columns</p>\n",
              "</div>\n",
              "      <button class=\"colab-df-convert\" onclick=\"convertToInteractive('df-d96bb179-d23f-4d22-a11c-b90056a474e3')\"\n",
              "              title=\"Convert this dataframe to an interactive table.\"\n",
              "              style=\"display:none;\">\n",
              "        \n",
              "  <svg xmlns=\"http://www.w3.org/2000/svg\" height=\"24px\"viewBox=\"0 0 24 24\"\n",
              "       width=\"24px\">\n",
              "    <path d=\"M0 0h24v24H0V0z\" fill=\"none\"/>\n",
              "    <path d=\"M18.56 5.44l.94 2.06.94-2.06 2.06-.94-2.06-.94-.94-2.06-.94 2.06-2.06.94zm-11 1L8.5 8.5l.94-2.06 2.06-.94-2.06-.94L8.5 2.5l-.94 2.06-2.06.94zm10 10l.94 2.06.94-2.06 2.06-.94-2.06-.94-.94-2.06-.94 2.06-2.06.94z\"/><path d=\"M17.41 7.96l-1.37-1.37c-.4-.4-.92-.59-1.43-.59-.52 0-1.04.2-1.43.59L10.3 9.45l-7.72 7.72c-.78.78-.78 2.05 0 2.83L4 21.41c.39.39.9.59 1.41.59.51 0 1.02-.2 1.41-.59l7.78-7.78 2.81-2.81c.8-.78.8-2.07 0-2.86zM5.41 20L4 18.59l7.72-7.72 1.47 1.35L5.41 20z\"/>\n",
              "  </svg>\n",
              "      </button>\n",
              "      \n",
              "  <style>\n",
              "    .colab-df-container {\n",
              "      display:flex;\n",
              "      flex-wrap:wrap;\n",
              "      gap: 12px;\n",
              "    }\n",
              "\n",
              "    .colab-df-convert {\n",
              "      background-color: #E8F0FE;\n",
              "      border: none;\n",
              "      border-radius: 50%;\n",
              "      cursor: pointer;\n",
              "      display: none;\n",
              "      fill: #1967D2;\n",
              "      height: 32px;\n",
              "      padding: 0 0 0 0;\n",
              "      width: 32px;\n",
              "    }\n",
              "\n",
              "    .colab-df-convert:hover {\n",
              "      background-color: #E2EBFA;\n",
              "      box-shadow: 0px 1px 2px rgba(60, 64, 67, 0.3), 0px 1px 3px 1px rgba(60, 64, 67, 0.15);\n",
              "      fill: #174EA6;\n",
              "    }\n",
              "\n",
              "    [theme=dark] .colab-df-convert {\n",
              "      background-color: #3B4455;\n",
              "      fill: #D2E3FC;\n",
              "    }\n",
              "\n",
              "    [theme=dark] .colab-df-convert:hover {\n",
              "      background-color: #434B5C;\n",
              "      box-shadow: 0px 1px 3px 1px rgba(0, 0, 0, 0.15);\n",
              "      filter: drop-shadow(0px 1px 2px rgba(0, 0, 0, 0.3));\n",
              "      fill: #FFFFFF;\n",
              "    }\n",
              "  </style>\n",
              "\n",
              "      <script>\n",
              "        const buttonEl =\n",
              "          document.querySelector('#df-d96bb179-d23f-4d22-a11c-b90056a474e3 button.colab-df-convert');\n",
              "        buttonEl.style.display =\n",
              "          google.colab.kernel.accessAllowed ? 'block' : 'none';\n",
              "\n",
              "        async function convertToInteractive(key) {\n",
              "          const element = document.querySelector('#df-d96bb179-d23f-4d22-a11c-b90056a474e3');\n",
              "          const dataTable =\n",
              "            await google.colab.kernel.invokeFunction('convertToInteractive',\n",
              "                                                     [key], {});\n",
              "          if (!dataTable) return;\n",
              "\n",
              "          const docLinkHtml = 'Like what you see? Visit the ' +\n",
              "            '<a target=\"_blank\" href=https://colab.research.google.com/notebooks/data_table.ipynb>data table notebook</a>'\n",
              "            + ' to learn more about interactive tables.';\n",
              "          element.innerHTML = '';\n",
              "          dataTable['output_type'] = 'display_data';\n",
              "          await google.colab.output.renderOutput(dataTable, element);\n",
              "          const docLink = document.createElement('div');\n",
              "          docLink.innerHTML = docLinkHtml;\n",
              "          element.appendChild(docLink);\n",
              "        }\n",
              "      </script>\n",
              "    </div>\n",
              "  </div>\n",
              "  "
            ]
          },
          "metadata": {},
          "execution_count": 78
        }
      ],
      "source": [
        "test = pd.read_csv('/content/drive/MyDrive/YBIGTA/과제/word/데이터/test.csv')\n",
        "test"
      ]
    },
    {
      "cell_type": "markdown",
      "metadata": {
        "id": "98ZogJRVxzYq"
      },
      "source": [
        "동일한 전처리 과정을 거치되, data leakage가 발생하지 않도록 주의합니다."
      ]
    },
    {
      "cell_type": "code",
      "execution_count": 79,
      "metadata": {
        "id": "K1iIpmGPxzYq",
        "outputId": "7ec838a1-c071-43e2-fad9-1dc928922eb3",
        "colab": {
          "base_uri": "https://localhost:8080/"
        }
      },
      "outputs": [
        {
          "output_type": "execute_result",
          "data": {
            "text/plain": [
              "id          0\n",
              "document    0\n",
              "dtype: int64"
            ]
          },
          "metadata": {},
          "execution_count": 79
        }
      ],
      "source": [
        "test.isna().sum()"
      ]
    },
    {
      "cell_type": "code",
      "execution_count": 80,
      "metadata": {
        "id": "6dYZK_XMxzYr",
        "outputId": "8fbe7077-84a8-4855-831e-30c11c6b1ee3",
        "colab": {
          "base_uri": "https://localhost:8080/",
          "height": 302
        }
      },
      "outputs": [
        {
          "output_type": "execute_result",
          "data": {
            "text/plain": [
              "   id                             document                      preprocessed  \\\n",
              "0   1                     시간 때우기 좋은 영화 지루함                  시간 때우기 좋은 영화 지루함   \n",
              "1   2  훈훈한 정이 느껴지는 영화! 가족끼리 드라마 보듯이 보면 딱~!  훈훈한 정이 느껴지는 영화 가족끼리 드라마 보듯이 보면 딱   \n",
              "2   3                    Childhood fantasy                                     \n",
              "3   4                  멋있는 영화입니다. 잊을 수 없는!                 멋있는 영화입니다 잊을 수 없는   \n",
              "4   5                   너무 감동적이네요 펑펑 울었습니다                너무 감동적이네요 펑펑 울었습니다   \n",
              "\n",
              "                      tokenized_stem                         main_pos  \n",
              "0                   시간 때우다 좋다 영화 지루함                 시간 때우기 좋은 영화 지루함  \n",
              "1  훈훈하다 정이 느껴지다 영화 가족 끼리 드라마 보다 보다 딱  훈훈한 정이 느껴지는 영화 가족 끼리 드라마 보듯이 보면  \n",
              "2                                                                      \n",
              "3                  멋있다 영화 이다 잊다 수 없다               멋있는 영화 입니다 잊을 수 없는  \n",
              "4                     너무 감동 적다 펑펑 울다                 감동 적이네요 펑펑 울었습니다  "
            ],
            "text/html": [
              "\n",
              "  <div id=\"df-6ef1db2a-74a0-47e1-8c0c-d55575b7baf0\">\n",
              "    <div class=\"colab-df-container\">\n",
              "      <div>\n",
              "<style scoped>\n",
              "    .dataframe tbody tr th:only-of-type {\n",
              "        vertical-align: middle;\n",
              "    }\n",
              "\n",
              "    .dataframe tbody tr th {\n",
              "        vertical-align: top;\n",
              "    }\n",
              "\n",
              "    .dataframe thead th {\n",
              "        text-align: right;\n",
              "    }\n",
              "</style>\n",
              "<table border=\"1\" class=\"dataframe\">\n",
              "  <thead>\n",
              "    <tr style=\"text-align: right;\">\n",
              "      <th></th>\n",
              "      <th>id</th>\n",
              "      <th>document</th>\n",
              "      <th>preprocessed</th>\n",
              "      <th>tokenized_stem</th>\n",
              "      <th>main_pos</th>\n",
              "    </tr>\n",
              "  </thead>\n",
              "  <tbody>\n",
              "    <tr>\n",
              "      <th>0</th>\n",
              "      <td>1</td>\n",
              "      <td>시간 때우기 좋은 영화 지루함</td>\n",
              "      <td>시간 때우기 좋은 영화 지루함</td>\n",
              "      <td>시간 때우다 좋다 영화 지루함</td>\n",
              "      <td>시간 때우기 좋은 영화 지루함</td>\n",
              "    </tr>\n",
              "    <tr>\n",
              "      <th>1</th>\n",
              "      <td>2</td>\n",
              "      <td>훈훈한 정이 느껴지는 영화! 가족끼리 드라마 보듯이 보면 딱~!</td>\n",
              "      <td>훈훈한 정이 느껴지는 영화 가족끼리 드라마 보듯이 보면 딱</td>\n",
              "      <td>훈훈하다 정이 느껴지다 영화 가족 끼리 드라마 보다 보다 딱</td>\n",
              "      <td>훈훈한 정이 느껴지는 영화 가족 끼리 드라마 보듯이 보면</td>\n",
              "    </tr>\n",
              "    <tr>\n",
              "      <th>2</th>\n",
              "      <td>3</td>\n",
              "      <td>Childhood fantasy</td>\n",
              "      <td></td>\n",
              "      <td></td>\n",
              "      <td></td>\n",
              "    </tr>\n",
              "    <tr>\n",
              "      <th>3</th>\n",
              "      <td>4</td>\n",
              "      <td>멋있는 영화입니다. 잊을 수 없는!</td>\n",
              "      <td>멋있는 영화입니다 잊을 수 없는</td>\n",
              "      <td>멋있다 영화 이다 잊다 수 없다</td>\n",
              "      <td>멋있는 영화 입니다 잊을 수 없는</td>\n",
              "    </tr>\n",
              "    <tr>\n",
              "      <th>4</th>\n",
              "      <td>5</td>\n",
              "      <td>너무 감동적이네요 펑펑 울었습니다</td>\n",
              "      <td>너무 감동적이네요 펑펑 울었습니다</td>\n",
              "      <td>너무 감동 적다 펑펑 울다</td>\n",
              "      <td>감동 적이네요 펑펑 울었습니다</td>\n",
              "    </tr>\n",
              "  </tbody>\n",
              "</table>\n",
              "</div>\n",
              "      <button class=\"colab-df-convert\" onclick=\"convertToInteractive('df-6ef1db2a-74a0-47e1-8c0c-d55575b7baf0')\"\n",
              "              title=\"Convert this dataframe to an interactive table.\"\n",
              "              style=\"display:none;\">\n",
              "        \n",
              "  <svg xmlns=\"http://www.w3.org/2000/svg\" height=\"24px\"viewBox=\"0 0 24 24\"\n",
              "       width=\"24px\">\n",
              "    <path d=\"M0 0h24v24H0V0z\" fill=\"none\"/>\n",
              "    <path d=\"M18.56 5.44l.94 2.06.94-2.06 2.06-.94-2.06-.94-.94-2.06-.94 2.06-2.06.94zm-11 1L8.5 8.5l.94-2.06 2.06-.94-2.06-.94L8.5 2.5l-.94 2.06-2.06.94zm10 10l.94 2.06.94-2.06 2.06-.94-2.06-.94-.94-2.06-.94 2.06-2.06.94z\"/><path d=\"M17.41 7.96l-1.37-1.37c-.4-.4-.92-.59-1.43-.59-.52 0-1.04.2-1.43.59L10.3 9.45l-7.72 7.72c-.78.78-.78 2.05 0 2.83L4 21.41c.39.39.9.59 1.41.59.51 0 1.02-.2 1.41-.59l7.78-7.78 2.81-2.81c.8-.78.8-2.07 0-2.86zM5.41 20L4 18.59l7.72-7.72 1.47 1.35L5.41 20z\"/>\n",
              "  </svg>\n",
              "      </button>\n",
              "      \n",
              "  <style>\n",
              "    .colab-df-container {\n",
              "      display:flex;\n",
              "      flex-wrap:wrap;\n",
              "      gap: 12px;\n",
              "    }\n",
              "\n",
              "    .colab-df-convert {\n",
              "      background-color: #E8F0FE;\n",
              "      border: none;\n",
              "      border-radius: 50%;\n",
              "      cursor: pointer;\n",
              "      display: none;\n",
              "      fill: #1967D2;\n",
              "      height: 32px;\n",
              "      padding: 0 0 0 0;\n",
              "      width: 32px;\n",
              "    }\n",
              "\n",
              "    .colab-df-convert:hover {\n",
              "      background-color: #E2EBFA;\n",
              "      box-shadow: 0px 1px 2px rgba(60, 64, 67, 0.3), 0px 1px 3px 1px rgba(60, 64, 67, 0.15);\n",
              "      fill: #174EA6;\n",
              "    }\n",
              "\n",
              "    [theme=dark] .colab-df-convert {\n",
              "      background-color: #3B4455;\n",
              "      fill: #D2E3FC;\n",
              "    }\n",
              "\n",
              "    [theme=dark] .colab-df-convert:hover {\n",
              "      background-color: #434B5C;\n",
              "      box-shadow: 0px 1px 3px 1px rgba(0, 0, 0, 0.15);\n",
              "      filter: drop-shadow(0px 1px 2px rgba(0, 0, 0, 0.3));\n",
              "      fill: #FFFFFF;\n",
              "    }\n",
              "  </style>\n",
              "\n",
              "      <script>\n",
              "        const buttonEl =\n",
              "          document.querySelector('#df-6ef1db2a-74a0-47e1-8c0c-d55575b7baf0 button.colab-df-convert');\n",
              "        buttonEl.style.display =\n",
              "          google.colab.kernel.accessAllowed ? 'block' : 'none';\n",
              "\n",
              "        async function convertToInteractive(key) {\n",
              "          const element = document.querySelector('#df-6ef1db2a-74a0-47e1-8c0c-d55575b7baf0');\n",
              "          const dataTable =\n",
              "            await google.colab.kernel.invokeFunction('convertToInteractive',\n",
              "                                                     [key], {});\n",
              "          if (!dataTable) return;\n",
              "\n",
              "          const docLinkHtml = 'Like what you see? Visit the ' +\n",
              "            '<a target=\"_blank\" href=https://colab.research.google.com/notebooks/data_table.ipynb>data table notebook</a>'\n",
              "            + ' to learn more about interactive tables.';\n",
              "          element.innerHTML = '';\n",
              "          dataTable['output_type'] = 'display_data';\n",
              "          await google.colab.output.renderOutput(dataTable, element);\n",
              "          const docLink = document.createElement('div');\n",
              "          docLink.innerHTML = docLinkHtml;\n",
              "          element.appendChild(docLink);\n",
              "        }\n",
              "      </script>\n",
              "    </div>\n",
              "  </div>\n",
              "  "
            ]
          },
          "metadata": {},
          "execution_count": 80
        }
      ],
      "source": [
        "# preprocessed\n",
        "test['preprocessed'] = test['document'].str.replace(\"[^ㄱ-ㅎㅏ-ㅣ가-힣 ]\",\"\") # 한글과 공백을 제외하고 모두 제거\n",
        "test['preprocessed'] = test['preprocessed'].str.replace(\" +\", \" \") # 다중 공백 제거\n",
        "\n",
        "# tokenized_stem\n",
        "tokenized = []\n",
        "for sentence in test['preprocessed']:\n",
        "    # To do\n",
        "    tokens = okt.morphs(sentence, stem = True) #형태소 분석, 어간 추출\n",
        "    tokenize = \" \".join(tokens)\n",
        "    tokenized.append(tokenize)\n",
        "test[\"tokenized_stem\"] = pd.DataFrame(tokenized)\n",
        "\n",
        "# main_pos\n",
        "main_pos = []\n",
        "for sentence in test['document']:\n",
        "  # To do\n",
        "    pos = okt.pos(sentence)\n",
        "    main_words = [main[0] for main in pos if main[1] in (\"Verb\", \"Noun\", \"Adjective\", )]\n",
        "    main_words_str = \" \".join(main_words)\n",
        "    main_pos.append(main_words_str)\n",
        "test[\"main_pos\"] = pd.DataFrame(main_pos)\n",
        "\n",
        "test.head()"
      ]
    },
    {
      "cell_type": "code",
      "execution_count": 81,
      "metadata": {
        "id": "7OmdlKhhxzYr",
        "outputId": "53493be3-2540-4f8a-d647-878bb00e39d0",
        "colab": {
          "base_uri": "https://localhost:8080/"
        }
      },
      "outputs": [
        {
          "output_type": "stream",
          "name": "stdout",
          "text": [
            "[0 1 0 ... 1 1 0]\n"
          ]
        }
      ],
      "source": [
        "X_test = test.main_pos\n",
        "# To do\n",
        "X_test_vec = vectorizer.transform(X_test)\n",
        "pred_test = model.predict(X_test_vec)\n",
        "print(pred_test)"
      ]
    },
    {
      "cell_type": "markdown",
      "source": [
        "# 워드클라우드"
      ],
      "metadata": {
        "id": "-zhqvogvj4b3"
      }
    },
    {
      "cell_type": "code",
      "source": [
        "test['pred']=pred_test"
      ],
      "metadata": {
        "id": "K8hlO6rWfEOJ"
      },
      "execution_count": 82,
      "outputs": []
    },
    {
      "cell_type": "code",
      "source": [
        "test"
      ],
      "metadata": {
        "colab": {
          "base_uri": "https://localhost:8080/",
          "height": 659
        },
        "id": "SXQ-JDkNfKWF",
        "outputId": "23aed02d-2715-4dc5-a94b-abdb45360c89"
      },
      "execution_count": 83,
      "outputs": [
        {
          "output_type": "execute_result",
          "data": {
            "text/plain": [
              "        id                             document  \\\n",
              "0        1                     시간 때우기 좋은 영화 지루함   \n",
              "1        2  훈훈한 정이 느껴지는 영화! 가족끼리 드라마 보듯이 보면 딱~!   \n",
              "2        3                    Childhood fantasy   \n",
              "3        4                  멋있는 영화입니다. 잊을 수 없는!   \n",
              "4        5                   너무 감동적이네요 펑펑 울었습니다   \n",
              "...    ...                                  ...   \n",
              "4995  4996        연계도 제대로 안되고 뭔가 부족한느낌이들고 찝찝한영화   \n",
              "4996  4997           내생에 최악의 영화중 하나 졸려서 미칠뻔....   \n",
              "4997  4998       지금까지 나온 드라마 중 최고였습니다. 100점 만점!   \n",
              "4998  4999       영화값으로 엄청난 공연을 보았다 - 이게 웬 횡재 ..   \n",
              "4999  5000              올해엔 롯데 자이언츠가 꼭 우승했으면...   \n",
              "\n",
              "                          preprocessed                         tokenized_stem  \\\n",
              "0                     시간 때우기 좋은 영화 지루함                       시간 때우다 좋다 영화 지루함   \n",
              "1     훈훈한 정이 느껴지는 영화 가족끼리 드라마 보듯이 보면 딱      훈훈하다 정이 느껴지다 영화 가족 끼리 드라마 보다 보다 딱   \n",
              "2                                                                               \n",
              "3                    멋있는 영화입니다 잊을 수 없는                      멋있다 영화 이다 잊다 수 없다   \n",
              "4                   너무 감동적이네요 펑펑 울었습니다                         너무 감동 적다 펑펑 울다   \n",
              "...                                ...                                    ...   \n",
              "4995     연계도 제대로 안되고 뭔가 부족한느낌이들고 찝찝한영화  연 계 도 제대로 안되다 뭔가 부족하다 느낌 이 들다 찝찝하다 영화   \n",
              "4996            내생에 최악의 영화중 하나 졸려서 미칠뻔            내생 에 최악 의 영화 중 하나 졸리다 미치다 뻔   \n",
              "4997         지금까지 나온 드라마 중 최고였습니다 점 만점             지금 까지 나오다 드라마 중 최고 이다 점 만점   \n",
              "4998        영화값으로 엄청난 공연을 보았다 이게 웬 횡재           영화 값 으로 엄청나다 공연 을 보다 이 게 웬 횡재   \n",
              "4999              올해엔 롯데 자이언츠가 꼭 우승했으면                  올해 엔 롯데 자이언츠 가 꼭 우승하다   \n",
              "\n",
              "                             main_pos  pred  \n",
              "0                    시간 때우기 좋은 영화 지루함     0  \n",
              "1     훈훈한 정이 느껴지는 영화 가족 끼리 드라마 보듯이 보면     1  \n",
              "2                                         0  \n",
              "3                  멋있는 영화 입니다 잊을 수 없는     1  \n",
              "4                    감동 적이네요 펑펑 울었습니다     1  \n",
              "...                               ...   ...  \n",
              "4995    계 제대로 안되고 뭔가 부족한 느낌 들고 찝찝한 영화     0  \n",
              "4996             내생 최악 영화 하나 졸려서 미칠 뻔     0  \n",
              "4997         지금 나온 드라마 중 최고 였습니다 점 만점     1  \n",
              "4998           영화 값 엄청난 공연 보았다 이 웬 횡재     1  \n",
              "4999               올해 롯데 자이언츠 꼭 우승했으면     0  \n",
              "\n",
              "[5000 rows x 6 columns]"
            ],
            "text/html": [
              "\n",
              "  <div id=\"df-daaa2a09-036d-4556-99d5-22209f450f7a\">\n",
              "    <div class=\"colab-df-container\">\n",
              "      <div>\n",
              "<style scoped>\n",
              "    .dataframe tbody tr th:only-of-type {\n",
              "        vertical-align: middle;\n",
              "    }\n",
              "\n",
              "    .dataframe tbody tr th {\n",
              "        vertical-align: top;\n",
              "    }\n",
              "\n",
              "    .dataframe thead th {\n",
              "        text-align: right;\n",
              "    }\n",
              "</style>\n",
              "<table border=\"1\" class=\"dataframe\">\n",
              "  <thead>\n",
              "    <tr style=\"text-align: right;\">\n",
              "      <th></th>\n",
              "      <th>id</th>\n",
              "      <th>document</th>\n",
              "      <th>preprocessed</th>\n",
              "      <th>tokenized_stem</th>\n",
              "      <th>main_pos</th>\n",
              "      <th>pred</th>\n",
              "    </tr>\n",
              "  </thead>\n",
              "  <tbody>\n",
              "    <tr>\n",
              "      <th>0</th>\n",
              "      <td>1</td>\n",
              "      <td>시간 때우기 좋은 영화 지루함</td>\n",
              "      <td>시간 때우기 좋은 영화 지루함</td>\n",
              "      <td>시간 때우다 좋다 영화 지루함</td>\n",
              "      <td>시간 때우기 좋은 영화 지루함</td>\n",
              "      <td>0</td>\n",
              "    </tr>\n",
              "    <tr>\n",
              "      <th>1</th>\n",
              "      <td>2</td>\n",
              "      <td>훈훈한 정이 느껴지는 영화! 가족끼리 드라마 보듯이 보면 딱~!</td>\n",
              "      <td>훈훈한 정이 느껴지는 영화 가족끼리 드라마 보듯이 보면 딱</td>\n",
              "      <td>훈훈하다 정이 느껴지다 영화 가족 끼리 드라마 보다 보다 딱</td>\n",
              "      <td>훈훈한 정이 느껴지는 영화 가족 끼리 드라마 보듯이 보면</td>\n",
              "      <td>1</td>\n",
              "    </tr>\n",
              "    <tr>\n",
              "      <th>2</th>\n",
              "      <td>3</td>\n",
              "      <td>Childhood fantasy</td>\n",
              "      <td></td>\n",
              "      <td></td>\n",
              "      <td></td>\n",
              "      <td>0</td>\n",
              "    </tr>\n",
              "    <tr>\n",
              "      <th>3</th>\n",
              "      <td>4</td>\n",
              "      <td>멋있는 영화입니다. 잊을 수 없는!</td>\n",
              "      <td>멋있는 영화입니다 잊을 수 없는</td>\n",
              "      <td>멋있다 영화 이다 잊다 수 없다</td>\n",
              "      <td>멋있는 영화 입니다 잊을 수 없는</td>\n",
              "      <td>1</td>\n",
              "    </tr>\n",
              "    <tr>\n",
              "      <th>4</th>\n",
              "      <td>5</td>\n",
              "      <td>너무 감동적이네요 펑펑 울었습니다</td>\n",
              "      <td>너무 감동적이네요 펑펑 울었습니다</td>\n",
              "      <td>너무 감동 적다 펑펑 울다</td>\n",
              "      <td>감동 적이네요 펑펑 울었습니다</td>\n",
              "      <td>1</td>\n",
              "    </tr>\n",
              "    <tr>\n",
              "      <th>...</th>\n",
              "      <td>...</td>\n",
              "      <td>...</td>\n",
              "      <td>...</td>\n",
              "      <td>...</td>\n",
              "      <td>...</td>\n",
              "      <td>...</td>\n",
              "    </tr>\n",
              "    <tr>\n",
              "      <th>4995</th>\n",
              "      <td>4996</td>\n",
              "      <td>연계도 제대로 안되고 뭔가 부족한느낌이들고 찝찝한영화</td>\n",
              "      <td>연계도 제대로 안되고 뭔가 부족한느낌이들고 찝찝한영화</td>\n",
              "      <td>연 계 도 제대로 안되다 뭔가 부족하다 느낌 이 들다 찝찝하다 영화</td>\n",
              "      <td>계 제대로 안되고 뭔가 부족한 느낌 들고 찝찝한 영화</td>\n",
              "      <td>0</td>\n",
              "    </tr>\n",
              "    <tr>\n",
              "      <th>4996</th>\n",
              "      <td>4997</td>\n",
              "      <td>내생에 최악의 영화중 하나 졸려서 미칠뻔....</td>\n",
              "      <td>내생에 최악의 영화중 하나 졸려서 미칠뻔</td>\n",
              "      <td>내생 에 최악 의 영화 중 하나 졸리다 미치다 뻔</td>\n",
              "      <td>내생 최악 영화 하나 졸려서 미칠 뻔</td>\n",
              "      <td>0</td>\n",
              "    </tr>\n",
              "    <tr>\n",
              "      <th>4997</th>\n",
              "      <td>4998</td>\n",
              "      <td>지금까지 나온 드라마 중 최고였습니다. 100점 만점!</td>\n",
              "      <td>지금까지 나온 드라마 중 최고였습니다 점 만점</td>\n",
              "      <td>지금 까지 나오다 드라마 중 최고 이다 점 만점</td>\n",
              "      <td>지금 나온 드라마 중 최고 였습니다 점 만점</td>\n",
              "      <td>1</td>\n",
              "    </tr>\n",
              "    <tr>\n",
              "      <th>4998</th>\n",
              "      <td>4999</td>\n",
              "      <td>영화값으로 엄청난 공연을 보았다 - 이게 웬 횡재 ..</td>\n",
              "      <td>영화값으로 엄청난 공연을 보았다 이게 웬 횡재</td>\n",
              "      <td>영화 값 으로 엄청나다 공연 을 보다 이 게 웬 횡재</td>\n",
              "      <td>영화 값 엄청난 공연 보았다 이 웬 횡재</td>\n",
              "      <td>1</td>\n",
              "    </tr>\n",
              "    <tr>\n",
              "      <th>4999</th>\n",
              "      <td>5000</td>\n",
              "      <td>올해엔 롯데 자이언츠가 꼭 우승했으면...</td>\n",
              "      <td>올해엔 롯데 자이언츠가 꼭 우승했으면</td>\n",
              "      <td>올해 엔 롯데 자이언츠 가 꼭 우승하다</td>\n",
              "      <td>올해 롯데 자이언츠 꼭 우승했으면</td>\n",
              "      <td>0</td>\n",
              "    </tr>\n",
              "  </tbody>\n",
              "</table>\n",
              "<p>5000 rows × 6 columns</p>\n",
              "</div>\n",
              "      <button class=\"colab-df-convert\" onclick=\"convertToInteractive('df-daaa2a09-036d-4556-99d5-22209f450f7a')\"\n",
              "              title=\"Convert this dataframe to an interactive table.\"\n",
              "              style=\"display:none;\">\n",
              "        \n",
              "  <svg xmlns=\"http://www.w3.org/2000/svg\" height=\"24px\"viewBox=\"0 0 24 24\"\n",
              "       width=\"24px\">\n",
              "    <path d=\"M0 0h24v24H0V0z\" fill=\"none\"/>\n",
              "    <path d=\"M18.56 5.44l.94 2.06.94-2.06 2.06-.94-2.06-.94-.94-2.06-.94 2.06-2.06.94zm-11 1L8.5 8.5l.94-2.06 2.06-.94-2.06-.94L8.5 2.5l-.94 2.06-2.06.94zm10 10l.94 2.06.94-2.06 2.06-.94-2.06-.94-.94-2.06-.94 2.06-2.06.94z\"/><path d=\"M17.41 7.96l-1.37-1.37c-.4-.4-.92-.59-1.43-.59-.52 0-1.04.2-1.43.59L10.3 9.45l-7.72 7.72c-.78.78-.78 2.05 0 2.83L4 21.41c.39.39.9.59 1.41.59.51 0 1.02-.2 1.41-.59l7.78-7.78 2.81-2.81c.8-.78.8-2.07 0-2.86zM5.41 20L4 18.59l7.72-7.72 1.47 1.35L5.41 20z\"/>\n",
              "  </svg>\n",
              "      </button>\n",
              "      \n",
              "  <style>\n",
              "    .colab-df-container {\n",
              "      display:flex;\n",
              "      flex-wrap:wrap;\n",
              "      gap: 12px;\n",
              "    }\n",
              "\n",
              "    .colab-df-convert {\n",
              "      background-color: #E8F0FE;\n",
              "      border: none;\n",
              "      border-radius: 50%;\n",
              "      cursor: pointer;\n",
              "      display: none;\n",
              "      fill: #1967D2;\n",
              "      height: 32px;\n",
              "      padding: 0 0 0 0;\n",
              "      width: 32px;\n",
              "    }\n",
              "\n",
              "    .colab-df-convert:hover {\n",
              "      background-color: #E2EBFA;\n",
              "      box-shadow: 0px 1px 2px rgba(60, 64, 67, 0.3), 0px 1px 3px 1px rgba(60, 64, 67, 0.15);\n",
              "      fill: #174EA6;\n",
              "    }\n",
              "\n",
              "    [theme=dark] .colab-df-convert {\n",
              "      background-color: #3B4455;\n",
              "      fill: #D2E3FC;\n",
              "    }\n",
              "\n",
              "    [theme=dark] .colab-df-convert:hover {\n",
              "      background-color: #434B5C;\n",
              "      box-shadow: 0px 1px 3px 1px rgba(0, 0, 0, 0.15);\n",
              "      filter: drop-shadow(0px 1px 2px rgba(0, 0, 0, 0.3));\n",
              "      fill: #FFFFFF;\n",
              "    }\n",
              "  </style>\n",
              "\n",
              "      <script>\n",
              "        const buttonEl =\n",
              "          document.querySelector('#df-daaa2a09-036d-4556-99d5-22209f450f7a button.colab-df-convert');\n",
              "        buttonEl.style.display =\n",
              "          google.colab.kernel.accessAllowed ? 'block' : 'none';\n",
              "\n",
              "        async function convertToInteractive(key) {\n",
              "          const element = document.querySelector('#df-daaa2a09-036d-4556-99d5-22209f450f7a');\n",
              "          const dataTable =\n",
              "            await google.colab.kernel.invokeFunction('convertToInteractive',\n",
              "                                                     [key], {});\n",
              "          if (!dataTable) return;\n",
              "\n",
              "          const docLinkHtml = 'Like what you see? Visit the ' +\n",
              "            '<a target=\"_blank\" href=https://colab.research.google.com/notebooks/data_table.ipynb>data table notebook</a>'\n",
              "            + ' to learn more about interactive tables.';\n",
              "          element.innerHTML = '';\n",
              "          dataTable['output_type'] = 'display_data';\n",
              "          await google.colab.output.renderOutput(dataTable, element);\n",
              "          const docLink = document.createElement('div');\n",
              "          docLink.innerHTML = docLinkHtml;\n",
              "          element.appendChild(docLink);\n",
              "        }\n",
              "      </script>\n",
              "    </div>\n",
              "  </div>\n",
              "  "
            ]
          },
          "metadata": {},
          "execution_count": 83
        }
      ]
    },
    {
      "cell_type": "code",
      "source": [
        "df=test.copy()"
      ],
      "metadata": {
        "id": "3Zfud6gkfNQL"
      },
      "execution_count": 84,
      "outputs": []
    },
    {
      "cell_type": "code",
      "source": [
        "!pip install matplotlib"
      ],
      "metadata": {
        "colab": {
          "base_uri": "https://localhost:8080/"
        },
        "id": "eoI6_GOkfUiR",
        "outputId": "57b267dd-f207-49d8-964f-bb1e6ba1a7a8"
      },
      "execution_count": 85,
      "outputs": [
        {
          "output_type": "stream",
          "name": "stdout",
          "text": [
            "Looking in indexes: https://pypi.org/simple, https://us-python.pkg.dev/colab-wheels/public/simple/\n",
            "Requirement already satisfied: matplotlib in /usr/local/lib/python3.7/dist-packages (3.2.2)\n",
            "Requirement already satisfied: numpy>=1.11 in /usr/local/lib/python3.7/dist-packages (from matplotlib) (1.21.6)\n",
            "Requirement already satisfied: cycler>=0.10 in /usr/local/lib/python3.7/dist-packages (from matplotlib) (0.11.0)\n",
            "Requirement already satisfied: pyparsing!=2.0.4,!=2.1.2,!=2.1.6,>=2.0.1 in /usr/local/lib/python3.7/dist-packages (from matplotlib) (3.0.9)\n",
            "Requirement already satisfied: python-dateutil>=2.1 in /usr/local/lib/python3.7/dist-packages (from matplotlib) (2.8.2)\n",
            "Requirement already satisfied: kiwisolver>=1.0.1 in /usr/local/lib/python3.7/dist-packages (from matplotlib) (1.4.4)\n",
            "Requirement already satisfied: typing-extensions in /usr/local/lib/python3.7/dist-packages (from kiwisolver>=1.0.1->matplotlib) (4.1.1)\n",
            "Requirement already satisfied: six>=1.5 in /usr/local/lib/python3.7/dist-packages (from python-dateutil>=2.1->matplotlib) (1.15.0)\n"
          ]
        }
      ]
    },
    {
      "cell_type": "code",
      "source": [
        "!pip install wordcloud "
      ],
      "metadata": {
        "colab": {
          "base_uri": "https://localhost:8080/"
        },
        "id": "0GMjOsA_fYp1",
        "outputId": "96804006-a946-4d1d-d4f8-4d905efbdba2"
      },
      "execution_count": 86,
      "outputs": [
        {
          "output_type": "stream",
          "name": "stdout",
          "text": [
            "Looking in indexes: https://pypi.org/simple, https://us-python.pkg.dev/colab-wheels/public/simple/\n",
            "Requirement already satisfied: wordcloud in /usr/local/lib/python3.7/dist-packages (1.8.2.2)\n",
            "Requirement already satisfied: numpy>=1.6.1 in /usr/local/lib/python3.7/dist-packages (from wordcloud) (1.21.6)\n",
            "Requirement already satisfied: matplotlib in /usr/local/lib/python3.7/dist-packages (from wordcloud) (3.2.2)\n",
            "Requirement already satisfied: pillow in /usr/local/lib/python3.7/dist-packages (from wordcloud) (7.1.2)\n",
            "Requirement already satisfied: cycler>=0.10 in /usr/local/lib/python3.7/dist-packages (from matplotlib->wordcloud) (0.11.0)\n",
            "Requirement already satisfied: pyparsing!=2.0.4,!=2.1.2,!=2.1.6,>=2.0.1 in /usr/local/lib/python3.7/dist-packages (from matplotlib->wordcloud) (3.0.9)\n",
            "Requirement already satisfied: kiwisolver>=1.0.1 in /usr/local/lib/python3.7/dist-packages (from matplotlib->wordcloud) (1.4.4)\n",
            "Requirement already satisfied: python-dateutil>=2.1 in /usr/local/lib/python3.7/dist-packages (from matplotlib->wordcloud) (2.8.2)\n",
            "Requirement already satisfied: typing-extensions in /usr/local/lib/python3.7/dist-packages (from kiwisolver>=1.0.1->matplotlib->wordcloud) (4.1.1)\n",
            "Requirement already satisfied: six>=1.5 in /usr/local/lib/python3.7/dist-packages (from python-dateutil>=2.1->matplotlib->wordcloud) (1.15.0)\n"
          ]
        }
      ]
    },
    {
      "cell_type": "code",
      "source": [
        "import pandas as pd\n",
        "import re\n",
        "\n",
        "from wordcloud import WordCloud, STOPWORDS\n",
        "\n",
        "from matplotlib import font_manager, rc\n",
        "import matplotlib.pyplot as plt\n",
        "\n",
        "from konlpy.tag import Okt\n",
        "from collections import Counter\n",
        "\n",
        "import matplotlib.font_manager as fm\n",
        "\n",
        "fontpath = '/content/drive/MyDrive/NanumBarunGothic.ttf'\n",
        "font = fm.FontProperties(fname=fontpath, size=9)\n",
        "plt.rc('font', family='NanumBarunGothic')\n",
        "fm._rebuild()\n"
      ],
      "metadata": {
        "id": "1DYLKVfpfh2h"
      },
      "execution_count": 87,
      "outputs": []
    },
    {
      "cell_type": "code",
      "source": [
        "pos = df[df['pred']==1] #긍정리뷰\n",
        "neg = df[df['pred']==0] #부정리뷰"
      ],
      "metadata": {
        "id": "cKgbM9W-foVC"
      },
      "execution_count": 88,
      "outputs": []
    },
    {
      "cell_type": "code",
      "source": [
        "display(pos.head())\n",
        "display(neg.head())"
      ],
      "metadata": {
        "colab": {
          "base_uri": "https://localhost:8080/",
          "height": 648
        },
        "id": "XqDws61of_yx",
        "outputId": "4b066dea-ca17-4760-9141-b601466ea189"
      },
      "execution_count": 89,
      "outputs": [
        {
          "output_type": "display_data",
          "data": {
            "text/plain": [
              "   id                             document                       preprocessed  \\\n",
              "1   2  훈훈한 정이 느껴지는 영화! 가족끼리 드라마 보듯이 보면 딱~!   훈훈한 정이 느껴지는 영화 가족끼리 드라마 보듯이 보면 딱   \n",
              "3   4                  멋있는 영화입니다. 잊을 수 없는!                  멋있는 영화입니다 잊을 수 없는   \n",
              "4   5                   너무 감동적이네요 펑펑 울었습니다                 너무 감동적이네요 펑펑 울었습니다   \n",
              "6   7    친구한테 추천받고 본 영화이지만 내가 남들한테 추천하는 영화  친구한테 추천받고 본 영화이지만 내가 남들한테 추천하는 영화   \n",
              "8   9           강배우 엄청난데... 여군버전으로 다시 안 찍나            강배우 엄청난데 여군버전으로 다시 안 찍나   \n",
              "\n",
              "                              tokenized_stem                         main_pos  \\\n",
              "1          훈훈하다 정이 느껴지다 영화 가족 끼리 드라마 보다 보다 딱  훈훈한 정이 느껴지는 영화 가족 끼리 드라마 보듯이 보면   \n",
              "3                          멋있다 영화 이다 잊다 수 없다               멋있는 영화 입니다 잊을 수 없는   \n",
              "4                             너무 감동 적다 펑펑 울다                 감동 적이네요 펑펑 울었습니다   \n",
              "6  친구 한테 추천 받다 보다 영화 이지만 내 가 남 들 한테 추천 하다 영화       친구 추천 받고 본 영화 내 남 추천 하는 영화   \n",
              "8                강 배우 엄청나다 여군 버전 으로 다시 안 찍 나           강 배우 엄청난데 여군 버전 다시 안 찍   \n",
              "\n",
              "   pred  \n",
              "1     1  \n",
              "3     1  \n",
              "4     1  \n",
              "6     1  \n",
              "8     1  "
            ],
            "text/html": [
              "\n",
              "  <div id=\"df-30de6044-442a-4f59-adb6-16ab6b059830\">\n",
              "    <div class=\"colab-df-container\">\n",
              "      <div>\n",
              "<style scoped>\n",
              "    .dataframe tbody tr th:only-of-type {\n",
              "        vertical-align: middle;\n",
              "    }\n",
              "\n",
              "    .dataframe tbody tr th {\n",
              "        vertical-align: top;\n",
              "    }\n",
              "\n",
              "    .dataframe thead th {\n",
              "        text-align: right;\n",
              "    }\n",
              "</style>\n",
              "<table border=\"1\" class=\"dataframe\">\n",
              "  <thead>\n",
              "    <tr style=\"text-align: right;\">\n",
              "      <th></th>\n",
              "      <th>id</th>\n",
              "      <th>document</th>\n",
              "      <th>preprocessed</th>\n",
              "      <th>tokenized_stem</th>\n",
              "      <th>main_pos</th>\n",
              "      <th>pred</th>\n",
              "    </tr>\n",
              "  </thead>\n",
              "  <tbody>\n",
              "    <tr>\n",
              "      <th>1</th>\n",
              "      <td>2</td>\n",
              "      <td>훈훈한 정이 느껴지는 영화! 가족끼리 드라마 보듯이 보면 딱~!</td>\n",
              "      <td>훈훈한 정이 느껴지는 영화 가족끼리 드라마 보듯이 보면 딱</td>\n",
              "      <td>훈훈하다 정이 느껴지다 영화 가족 끼리 드라마 보다 보다 딱</td>\n",
              "      <td>훈훈한 정이 느껴지는 영화 가족 끼리 드라마 보듯이 보면</td>\n",
              "      <td>1</td>\n",
              "    </tr>\n",
              "    <tr>\n",
              "      <th>3</th>\n",
              "      <td>4</td>\n",
              "      <td>멋있는 영화입니다. 잊을 수 없는!</td>\n",
              "      <td>멋있는 영화입니다 잊을 수 없는</td>\n",
              "      <td>멋있다 영화 이다 잊다 수 없다</td>\n",
              "      <td>멋있는 영화 입니다 잊을 수 없는</td>\n",
              "      <td>1</td>\n",
              "    </tr>\n",
              "    <tr>\n",
              "      <th>4</th>\n",
              "      <td>5</td>\n",
              "      <td>너무 감동적이네요 펑펑 울었습니다</td>\n",
              "      <td>너무 감동적이네요 펑펑 울었습니다</td>\n",
              "      <td>너무 감동 적다 펑펑 울다</td>\n",
              "      <td>감동 적이네요 펑펑 울었습니다</td>\n",
              "      <td>1</td>\n",
              "    </tr>\n",
              "    <tr>\n",
              "      <th>6</th>\n",
              "      <td>7</td>\n",
              "      <td>친구한테 추천받고 본 영화이지만 내가 남들한테 추천하는 영화</td>\n",
              "      <td>친구한테 추천받고 본 영화이지만 내가 남들한테 추천하는 영화</td>\n",
              "      <td>친구 한테 추천 받다 보다 영화 이지만 내 가 남 들 한테 추천 하다 영화</td>\n",
              "      <td>친구 추천 받고 본 영화 내 남 추천 하는 영화</td>\n",
              "      <td>1</td>\n",
              "    </tr>\n",
              "    <tr>\n",
              "      <th>8</th>\n",
              "      <td>9</td>\n",
              "      <td>강배우 엄청난데... 여군버전으로 다시 안 찍나</td>\n",
              "      <td>강배우 엄청난데 여군버전으로 다시 안 찍나</td>\n",
              "      <td>강 배우 엄청나다 여군 버전 으로 다시 안 찍 나</td>\n",
              "      <td>강 배우 엄청난데 여군 버전 다시 안 찍</td>\n",
              "      <td>1</td>\n",
              "    </tr>\n",
              "  </tbody>\n",
              "</table>\n",
              "</div>\n",
              "      <button class=\"colab-df-convert\" onclick=\"convertToInteractive('df-30de6044-442a-4f59-adb6-16ab6b059830')\"\n",
              "              title=\"Convert this dataframe to an interactive table.\"\n",
              "              style=\"display:none;\">\n",
              "        \n",
              "  <svg xmlns=\"http://www.w3.org/2000/svg\" height=\"24px\"viewBox=\"0 0 24 24\"\n",
              "       width=\"24px\">\n",
              "    <path d=\"M0 0h24v24H0V0z\" fill=\"none\"/>\n",
              "    <path d=\"M18.56 5.44l.94 2.06.94-2.06 2.06-.94-2.06-.94-.94-2.06-.94 2.06-2.06.94zm-11 1L8.5 8.5l.94-2.06 2.06-.94-2.06-.94L8.5 2.5l-.94 2.06-2.06.94zm10 10l.94 2.06.94-2.06 2.06-.94-2.06-.94-.94-2.06-.94 2.06-2.06.94z\"/><path d=\"M17.41 7.96l-1.37-1.37c-.4-.4-.92-.59-1.43-.59-.52 0-1.04.2-1.43.59L10.3 9.45l-7.72 7.72c-.78.78-.78 2.05 0 2.83L4 21.41c.39.39.9.59 1.41.59.51 0 1.02-.2 1.41-.59l7.78-7.78 2.81-2.81c.8-.78.8-2.07 0-2.86zM5.41 20L4 18.59l7.72-7.72 1.47 1.35L5.41 20z\"/>\n",
              "  </svg>\n",
              "      </button>\n",
              "      \n",
              "  <style>\n",
              "    .colab-df-container {\n",
              "      display:flex;\n",
              "      flex-wrap:wrap;\n",
              "      gap: 12px;\n",
              "    }\n",
              "\n",
              "    .colab-df-convert {\n",
              "      background-color: #E8F0FE;\n",
              "      border: none;\n",
              "      border-radius: 50%;\n",
              "      cursor: pointer;\n",
              "      display: none;\n",
              "      fill: #1967D2;\n",
              "      height: 32px;\n",
              "      padding: 0 0 0 0;\n",
              "      width: 32px;\n",
              "    }\n",
              "\n",
              "    .colab-df-convert:hover {\n",
              "      background-color: #E2EBFA;\n",
              "      box-shadow: 0px 1px 2px rgba(60, 64, 67, 0.3), 0px 1px 3px 1px rgba(60, 64, 67, 0.15);\n",
              "      fill: #174EA6;\n",
              "    }\n",
              "\n",
              "    [theme=dark] .colab-df-convert {\n",
              "      background-color: #3B4455;\n",
              "      fill: #D2E3FC;\n",
              "    }\n",
              "\n",
              "    [theme=dark] .colab-df-convert:hover {\n",
              "      background-color: #434B5C;\n",
              "      box-shadow: 0px 1px 3px 1px rgba(0, 0, 0, 0.15);\n",
              "      filter: drop-shadow(0px 1px 2px rgba(0, 0, 0, 0.3));\n",
              "      fill: #FFFFFF;\n",
              "    }\n",
              "  </style>\n",
              "\n",
              "      <script>\n",
              "        const buttonEl =\n",
              "          document.querySelector('#df-30de6044-442a-4f59-adb6-16ab6b059830 button.colab-df-convert');\n",
              "        buttonEl.style.display =\n",
              "          google.colab.kernel.accessAllowed ? 'block' : 'none';\n",
              "\n",
              "        async function convertToInteractive(key) {\n",
              "          const element = document.querySelector('#df-30de6044-442a-4f59-adb6-16ab6b059830');\n",
              "          const dataTable =\n",
              "            await google.colab.kernel.invokeFunction('convertToInteractive',\n",
              "                                                     [key], {});\n",
              "          if (!dataTable) return;\n",
              "\n",
              "          const docLinkHtml = 'Like what you see? Visit the ' +\n",
              "            '<a target=\"_blank\" href=https://colab.research.google.com/notebooks/data_table.ipynb>data table notebook</a>'\n",
              "            + ' to learn more about interactive tables.';\n",
              "          element.innerHTML = '';\n",
              "          dataTable['output_type'] = 'display_data';\n",
              "          await google.colab.output.renderOutput(dataTable, element);\n",
              "          const docLink = document.createElement('div');\n",
              "          docLink.innerHTML = docLinkHtml;\n",
              "          element.appendChild(docLink);\n",
              "        }\n",
              "      </script>\n",
              "    </div>\n",
              "  </div>\n",
              "  "
            ]
          },
          "metadata": {}
        },
        {
          "output_type": "display_data",
          "data": {
            "text/plain": [
              "    id                            document  \\\n",
              "0    1                    시간 때우기 좋은 영화 지루함   \n",
              "2    3                   Childhood fantasy   \n",
              "5    6  어이 김구라 자세좀 똑바로 앉어방송마다 왜케 삐딱하게 앉는거지   \n",
              "7    8                  머 내용은 그닥... 특별하지않다   \n",
              "10  11                나가토의 나가토에 의한 나가토를 위한   \n",
              "\n",
              "                          preprocessed                        tokenized_stem  \\\n",
              "0                     시간 때우기 좋은 영화 지루함                      시간 때우다 좋다 영화 지루함   \n",
              "2                                                                              \n",
              "5   어이 김구라 자세좀 똑바로 앉어방송마다 왜케 삐딱하게 앉는거지  어이 김구라 자세 좀 똑바로 앉다 방송 마다 왜케 삐 딱하다 앉다   \n",
              "7                      머 내용은 그닥 특별하지않다                     머 내용 은 그닥 특별하다 않다   \n",
              "10                나가토의 나가토에 의한 나가토를 위한             나가토 의 나가토 에 의하다 나가토 를 위 한   \n",
              "\n",
              "                               main_pos  pred  \n",
              "0                      시간 때우기 좋은 영화 지루함     0  \n",
              "2                                           0  \n",
              "5   어이 김구라 자세 좀 똑바로 앉어 방송 왜케 삐 딱하게 앉는거지     0  \n",
              "7                       머 내용 그닥 특별하지 않다     0  \n",
              "10                     나가토 나가토 의한 나가토 위     0  "
            ],
            "text/html": [
              "\n",
              "  <div id=\"df-78c976e9-8bb0-4221-95f1-65abeaaa8a0d\">\n",
              "    <div class=\"colab-df-container\">\n",
              "      <div>\n",
              "<style scoped>\n",
              "    .dataframe tbody tr th:only-of-type {\n",
              "        vertical-align: middle;\n",
              "    }\n",
              "\n",
              "    .dataframe tbody tr th {\n",
              "        vertical-align: top;\n",
              "    }\n",
              "\n",
              "    .dataframe thead th {\n",
              "        text-align: right;\n",
              "    }\n",
              "</style>\n",
              "<table border=\"1\" class=\"dataframe\">\n",
              "  <thead>\n",
              "    <tr style=\"text-align: right;\">\n",
              "      <th></th>\n",
              "      <th>id</th>\n",
              "      <th>document</th>\n",
              "      <th>preprocessed</th>\n",
              "      <th>tokenized_stem</th>\n",
              "      <th>main_pos</th>\n",
              "      <th>pred</th>\n",
              "    </tr>\n",
              "  </thead>\n",
              "  <tbody>\n",
              "    <tr>\n",
              "      <th>0</th>\n",
              "      <td>1</td>\n",
              "      <td>시간 때우기 좋은 영화 지루함</td>\n",
              "      <td>시간 때우기 좋은 영화 지루함</td>\n",
              "      <td>시간 때우다 좋다 영화 지루함</td>\n",
              "      <td>시간 때우기 좋은 영화 지루함</td>\n",
              "      <td>0</td>\n",
              "    </tr>\n",
              "    <tr>\n",
              "      <th>2</th>\n",
              "      <td>3</td>\n",
              "      <td>Childhood fantasy</td>\n",
              "      <td></td>\n",
              "      <td></td>\n",
              "      <td></td>\n",
              "      <td>0</td>\n",
              "    </tr>\n",
              "    <tr>\n",
              "      <th>5</th>\n",
              "      <td>6</td>\n",
              "      <td>어이 김구라 자세좀 똑바로 앉어방송마다 왜케 삐딱하게 앉는거지</td>\n",
              "      <td>어이 김구라 자세좀 똑바로 앉어방송마다 왜케 삐딱하게 앉는거지</td>\n",
              "      <td>어이 김구라 자세 좀 똑바로 앉다 방송 마다 왜케 삐 딱하다 앉다</td>\n",
              "      <td>어이 김구라 자세 좀 똑바로 앉어 방송 왜케 삐 딱하게 앉는거지</td>\n",
              "      <td>0</td>\n",
              "    </tr>\n",
              "    <tr>\n",
              "      <th>7</th>\n",
              "      <td>8</td>\n",
              "      <td>머 내용은 그닥... 특별하지않다</td>\n",
              "      <td>머 내용은 그닥 특별하지않다</td>\n",
              "      <td>머 내용 은 그닥 특별하다 않다</td>\n",
              "      <td>머 내용 그닥 특별하지 않다</td>\n",
              "      <td>0</td>\n",
              "    </tr>\n",
              "    <tr>\n",
              "      <th>10</th>\n",
              "      <td>11</td>\n",
              "      <td>나가토의 나가토에 의한 나가토를 위한</td>\n",
              "      <td>나가토의 나가토에 의한 나가토를 위한</td>\n",
              "      <td>나가토 의 나가토 에 의하다 나가토 를 위 한</td>\n",
              "      <td>나가토 나가토 의한 나가토 위</td>\n",
              "      <td>0</td>\n",
              "    </tr>\n",
              "  </tbody>\n",
              "</table>\n",
              "</div>\n",
              "      <button class=\"colab-df-convert\" onclick=\"convertToInteractive('df-78c976e9-8bb0-4221-95f1-65abeaaa8a0d')\"\n",
              "              title=\"Convert this dataframe to an interactive table.\"\n",
              "              style=\"display:none;\">\n",
              "        \n",
              "  <svg xmlns=\"http://www.w3.org/2000/svg\" height=\"24px\"viewBox=\"0 0 24 24\"\n",
              "       width=\"24px\">\n",
              "    <path d=\"M0 0h24v24H0V0z\" fill=\"none\"/>\n",
              "    <path d=\"M18.56 5.44l.94 2.06.94-2.06 2.06-.94-2.06-.94-.94-2.06-.94 2.06-2.06.94zm-11 1L8.5 8.5l.94-2.06 2.06-.94-2.06-.94L8.5 2.5l-.94 2.06-2.06.94zm10 10l.94 2.06.94-2.06 2.06-.94-2.06-.94-.94-2.06-.94 2.06-2.06.94z\"/><path d=\"M17.41 7.96l-1.37-1.37c-.4-.4-.92-.59-1.43-.59-.52 0-1.04.2-1.43.59L10.3 9.45l-7.72 7.72c-.78.78-.78 2.05 0 2.83L4 21.41c.39.39.9.59 1.41.59.51 0 1.02-.2 1.41-.59l7.78-7.78 2.81-2.81c.8-.78.8-2.07 0-2.86zM5.41 20L4 18.59l7.72-7.72 1.47 1.35L5.41 20z\"/>\n",
              "  </svg>\n",
              "      </button>\n",
              "      \n",
              "  <style>\n",
              "    .colab-df-container {\n",
              "      display:flex;\n",
              "      flex-wrap:wrap;\n",
              "      gap: 12px;\n",
              "    }\n",
              "\n",
              "    .colab-df-convert {\n",
              "      background-color: #E8F0FE;\n",
              "      border: none;\n",
              "      border-radius: 50%;\n",
              "      cursor: pointer;\n",
              "      display: none;\n",
              "      fill: #1967D2;\n",
              "      height: 32px;\n",
              "      padding: 0 0 0 0;\n",
              "      width: 32px;\n",
              "    }\n",
              "\n",
              "    .colab-df-convert:hover {\n",
              "      background-color: #E2EBFA;\n",
              "      box-shadow: 0px 1px 2px rgba(60, 64, 67, 0.3), 0px 1px 3px 1px rgba(60, 64, 67, 0.15);\n",
              "      fill: #174EA6;\n",
              "    }\n",
              "\n",
              "    [theme=dark] .colab-df-convert {\n",
              "      background-color: #3B4455;\n",
              "      fill: #D2E3FC;\n",
              "    }\n",
              "\n",
              "    [theme=dark] .colab-df-convert:hover {\n",
              "      background-color: #434B5C;\n",
              "      box-shadow: 0px 1px 3px 1px rgba(0, 0, 0, 0.15);\n",
              "      filter: drop-shadow(0px 1px 2px rgba(0, 0, 0, 0.3));\n",
              "      fill: #FFFFFF;\n",
              "    }\n",
              "  </style>\n",
              "\n",
              "      <script>\n",
              "        const buttonEl =\n",
              "          document.querySelector('#df-78c976e9-8bb0-4221-95f1-65abeaaa8a0d button.colab-df-convert');\n",
              "        buttonEl.style.display =\n",
              "          google.colab.kernel.accessAllowed ? 'block' : 'none';\n",
              "\n",
              "        async function convertToInteractive(key) {\n",
              "          const element = document.querySelector('#df-78c976e9-8bb0-4221-95f1-65abeaaa8a0d');\n",
              "          const dataTable =\n",
              "            await google.colab.kernel.invokeFunction('convertToInteractive',\n",
              "                                                     [key], {});\n",
              "          if (!dataTable) return;\n",
              "\n",
              "          const docLinkHtml = 'Like what you see? Visit the ' +\n",
              "            '<a target=\"_blank\" href=https://colab.research.google.com/notebooks/data_table.ipynb>data table notebook</a>'\n",
              "            + ' to learn more about interactive tables.';\n",
              "          element.innerHTML = '';\n",
              "          dataTable['output_type'] = 'display_data';\n",
              "          await google.colab.output.renderOutput(dataTable, element);\n",
              "          const docLink = document.createElement('div');\n",
              "          docLink.innerHTML = docLinkHtml;\n",
              "          element.appendChild(docLink);\n",
              "        }\n",
              "      </script>\n",
              "    </div>\n",
              "  </div>\n",
              "  "
            ]
          },
          "metadata": {}
        }
      ]
    },
    {
      "cell_type": "markdown",
      "source": [
        "## 긍정리뷰 워드클라우드"
      ],
      "metadata": {
        "id": "84p7_YFLlcyJ"
      }
    },
    {
      "cell_type": "code",
      "source": [
        "okt = Okt()\n",
        "\n",
        "content_list = list(pos['main_pos'])\n",
        "noun_list = []\n",
        "\n",
        "for sentence in content_list:\n",
        "\n",
        "\n",
        "    sentence = re.sub('[a-zA-z0-9]','', sentence)\n",
        "    \n",
        "    for word, tag in okt.pos(sentence):\n",
        "      # 명사만 추출\n",
        "        if tag in ['Noun']:  \n",
        "\n",
        "            if len(word) == 1:\n",
        "                continue\n",
        "\n",
        "            else:\n",
        "                noun_list.append(word)\n",
        "\n",
        "count = Counter(noun_list)\n",
        "poswords = dict(count.most_common(n=50)) "
      ],
      "metadata": {
        "id": "1D0_Za7PfjXV"
      },
      "execution_count": 90,
      "outputs": []
    },
    {
      "cell_type": "code",
      "source": [
        "poswords"
      ],
      "metadata": {
        "colab": {
          "base_uri": "https://localhost:8080/"
        },
        "outputId": "96151dbb-5161-417d-daa0-9411c68dc36e",
        "id": "wV0jVm0itQW7"
      },
      "execution_count": 91,
      "outputs": [
        {
          "output_type": "execute_result",
          "data": {
            "text/plain": [
              "{'가슴': 44,\n",
              " '가장': 29,\n",
              " '가족': 23,\n",
              " '감동': 149,\n",
              " '강추': 24,\n",
              " '계속': 22,\n",
              " '기억': 30,\n",
              " '나름': 21,\n",
              " '눈물': 28,\n",
              " '다시': 91,\n",
              " '대박': 25,\n",
              " '드라마': 98,\n",
              " '마음': 47,\n",
              " '마지막': 54,\n",
              " '매력': 49,\n",
              " '명작': 79,\n",
              " '모습': 21,\n",
              " '배우': 55,\n",
              " '보고': 100,\n",
              " '분위기': 22,\n",
              " '사람': 44,\n",
              " '사랑': 83,\n",
              " '생각': 92,\n",
              " '스토리': 33,\n",
              " '시리즈': 24,\n",
              " '아이': 26,\n",
              " '액션': 24,\n",
              " '여운': 34,\n",
              " '역시': 52,\n",
              " '연기': 96,\n",
              " '영상': 22,\n",
              " '영화': 799,\n",
              " '완전': 58,\n",
              " '음악': 30,\n",
              " '이야기': 34,\n",
              " '인간': 23,\n",
              " '인생': 46,\n",
              " '작품': 51,\n",
              " '장면': 35,\n",
              " '재미': 36,\n",
              " '정말': 224,\n",
              " '주인공': 21,\n",
              " '지금': 49,\n",
              " '진짜': 134,\n",
              " '처음': 31,\n",
              " '최고': 226,\n",
              " '추천': 35,\n",
              " '평점': 50,\n",
              " '하나': 35,\n",
              " '한국': 26}"
            ]
          },
          "metadata": {},
          "execution_count": 91
        }
      ]
    },
    {
      "cell_type": "code",
      "source": [
        "poswords.items()"
      ],
      "metadata": {
        "colab": {
          "base_uri": "https://localhost:8080/"
        },
        "outputId": "59dccc99-8450-4b18-e341-96f4a78eb6d1",
        "id": "P1HzII9VtN5Z"
      },
      "execution_count": 92,
      "outputs": [
        {
          "output_type": "execute_result",
          "data": {
            "text/plain": [
              "dict_items([('영화', 799), ('최고', 226), ('정말', 224), ('감동', 149), ('진짜', 134), ('보고', 100), ('드라마', 98), ('연기', 96), ('생각', 92), ('다시', 91), ('사랑', 83), ('명작', 79), ('완전', 58), ('배우', 55), ('마지막', 54), ('역시', 52), ('작품', 51), ('평점', 50), ('지금', 49), ('매력', 49), ('마음', 47), ('인생', 46), ('사람', 44), ('가슴', 44), ('재미', 36), ('추천', 35), ('하나', 35), ('장면', 35), ('이야기', 34), ('여운', 34), ('스토리', 33), ('처음', 31), ('기억', 30), ('음악', 30), ('가장', 29), ('눈물', 28), ('아이', 26), ('한국', 26), ('대박', 25), ('시리즈', 24), ('액션', 24), ('강추', 24), ('가족', 23), ('인간', 23), ('영상', 22), ('계속', 22), ('분위기', 22), ('모습', 21), ('주인공', 21), ('나름', 21)])"
            ]
          },
          "metadata": {},
          "execution_count": 92
        }
      ]
    },
    {
      "cell_type": "code",
      "source": [
        "#특정 단어 지정해서 불용어 제거\n",
        "poswords.pop('정말')"
      ],
      "metadata": {
        "colab": {
          "base_uri": "https://localhost:8080/"
        },
        "id": "_vwFGWKQgdPK",
        "outputId": "994c5b34-f2c8-45fd-f077-44eba73cc630"
      },
      "execution_count": 93,
      "outputs": [
        {
          "output_type": "execute_result",
          "data": {
            "text/plain": [
              "224"
            ]
          },
          "metadata": {},
          "execution_count": 93
        }
      ]
    },
    {
      "cell_type": "code",
      "source": [
        "# 불용어 리스트 생성해서 제거\n",
        "stop_words = \"다시 완전 마지막 지금 역시 영화\"\n",
        "stop_words = stop_words.split(' ')\n",
        "\n",
        "\n",
        "# 불용어 제거 실시\n",
        "posword2 = [(i,j)for i,j in poswords.items()  if i not in stop_words]\n",
        "\n",
        "# 결과 출력\n",
        "posword3=dict(posword2)\n",
        "print(posword3)"
      ],
      "metadata": {
        "colab": {
          "base_uri": "https://localhost:8080/"
        },
        "outputId": "af8d49a8-c07d-4e5a-dca8-8a80a8cef87d",
        "id": "0qkyktl6lP5Q"
      },
      "execution_count": 94,
      "outputs": [
        {
          "output_type": "stream",
          "name": "stdout",
          "text": [
            "{'최고': 226, '감동': 149, '진짜': 134, '보고': 100, '드라마': 98, '연기': 96, '생각': 92, '사랑': 83, '명작': 79, '배우': 55, '작품': 51, '평점': 50, '매력': 49, '마음': 47, '인생': 46, '사람': 44, '가슴': 44, '재미': 36, '추천': 35, '하나': 35, '장면': 35, '이야기': 34, '여운': 34, '스토리': 33, '처음': 31, '기억': 30, '음악': 30, '가장': 29, '눈물': 28, '아이': 26, '한국': 26, '대박': 25, '시리즈': 24, '액션': 24, '강추': 24, '가족': 23, '인간': 23, '영상': 22, '계속': 22, '분위기': 22, '모습': 21, '주인공': 21, '나름': 21}\n"
          ]
        }
      ]
    },
    {
      "cell_type": "code",
      "source": [
        "from PIL import Image, ImageFilter"
      ],
      "metadata": {
        "id": "61nBuCzsiwRU"
      },
      "execution_count": 95,
      "outputs": []
    },
    {
      "cell_type": "code",
      "source": [
        "Image.open(\"/content/drive/MyDrive/YBIGTA/과제/word/데이터/제목 없음.jpg\") # 부정리뷰 워드클라우드에서는 원하는 이미지로 대체할 것"
      ],
      "metadata": {
        "colab": {
          "base_uri": "https://localhost:8080/",
          "height": 284
        },
        "id": "uhpEY13Fi5cq",
        "outputId": "ac2282f8-e1dc-47e0-a308-2289aef7756b"
      },
      "execution_count": 96,
      "outputs": [
        {
          "output_type": "execute_result",
          "data": {
            "text/plain": [
              "<PIL.JpegImagePlugin.JpegImageFile image mode=RGB size=536x267 at 0x7FD2CF811F50>"
            ],
            "image/png": "[encoded data removed]"
          },
          "metadata": {},
          "execution_count": 96
        }
      ]
    },
    {
      "cell_type": "code",
      "source": [
        "import numpy as np\n",
        "mask_array = np.array(Image.open(\"/content/drive/MyDrive/YBIGTA/과제/word/데이터/제목 없음.jpg\"))\n",
        "mask_array"
      ],
      "metadata": {
        "colab": {
          "base_uri": "https://localhost:8080/"
        },
        "id": "Abo3heX8i7gm",
        "outputId": "d51ce685-3b3c-47dd-be8a-8538263d7d53"
      },
      "execution_count": 97,
      "outputs": [
        {
          "output_type": "execute_result",
          "data": {
            "text/plain": [
              "array([[[255, 255, 255],\n",
              "        [255, 255, 255],\n",
              "        [255, 255, 255],\n",
              "        ...,\n",
              "        [255, 255, 255],\n",
              "        [255, 255, 255],\n",
              "        [255, 255, 255]],\n",
              "\n",
              "       [[255, 255, 255],\n",
              "        [255, 255, 255],\n",
              "        [255, 255, 255],\n",
              "        ...,\n",
              "        [255, 255, 255],\n",
              "        [255, 255, 255],\n",
              "        [255, 255, 255]],\n",
              "\n",
              "       [[255, 255, 255],\n",
              "        [255, 255, 255],\n",
              "        [255, 255, 255],\n",
              "        ...,\n",
              "        [255, 255, 255],\n",
              "        [255, 255, 255],\n",
              "        [255, 255, 255]],\n",
              "\n",
              "       ...,\n",
              "\n",
              "       [[255, 255, 255],\n",
              "        [255, 255, 255],\n",
              "        [255, 255, 255],\n",
              "        ...,\n",
              "        [255, 255, 255],\n",
              "        [255, 255, 255],\n",
              "        [255, 255, 255]],\n",
              "\n",
              "       [[255, 255, 255],\n",
              "        [255, 255, 255],\n",
              "        [255, 255, 255],\n",
              "        ...,\n",
              "        [255, 255, 255],\n",
              "        [255, 255, 255],\n",
              "        [255, 255, 255]],\n",
              "\n",
              "       [[255, 255, 255],\n",
              "        [255, 255, 255],\n",
              "        [255, 255, 255],\n",
              "        ...,\n",
              "        [255, 255, 255],\n",
              "        [255, 255, 255],\n",
              "        [255, 255, 255]]], dtype=uint8)"
            ]
          },
          "metadata": {},
          "execution_count": 97
        }
      ]
    },
    {
      "cell_type": "markdown",
      "source": [
        "옵션정리\n",
        "\n",
        "alicewc = WordCloud(\n",
        "    \n",
        "    background_color = \"white\",# 배경색 설정\n",
        "\n",
        "    collocations = False, # 이때 collocations=True 이면 said King, said Hatter 같이 자주 나타나는 단어는 하나의 어구로 분류됨.\n",
        "\n",
        "    stopwords = stopwords, #불용어 지정\n",
        "\n",
        "    width = 600, height = 400, #이미지 크기 지정\n",
        "\n",
        "    colormap = \"Reds\", # 글씨 색깔 지정\n",
        "\n",
        "    #font_path = 'path입력'\n",
        "\n",
        "    min_font_size = 5, max_font_size = 100 #폰트 지정 작게할수록 더 많은 글씨가 보이고 크게하면 글자가 강조됨. \n",
        "    \n",
        "    )"
      ],
      "metadata": {
        "id": "8yi8_hsHtWYA"
      }
    },
    {
      "cell_type": "code",
      "source": [
        "mask1 = np.array(Image.open(\"/content/drive/MyDrive/YBIGTA/과제/word/데이터/제목 없음.jpg\"))\n",
        "\n",
        "wordcloud = WordCloud(font_path = '/content/drive/MyDrive/YBIGTA/과제/word/데이터/LeeSeoyun.ttf',\n",
        "    width = 800,\n",
        "    height = 800,\n",
        "    background_color=\"white\",\n",
        "    mask = mask1\n",
        ")\n",
        "\n",
        "wordcloud = wordcloud.generate_from_frequencies(posword3)\n",
        "plt.figure(figsize=(20, 20))\n",
        "plt.imshow(wordcloud, interpolation=\"bilinear\")\n",
        "plt.axis(\"off\")\n",
        "plt.show()"
      ],
      "metadata": {
        "colab": {
          "base_uri": "https://localhost:8080/",
          "height": 493
        },
        "outputId": "fb1429a9-a716-4b47-8e5f-f3c9c5196ac0",
        "id": "CPAr-FJ3tJUl"
      },
      "execution_count": 99,
      "outputs": [
        {
          "output_type": "display_data",
          "data": {
            "text/plain": [
              "<Figure size 1440x1440 with 1 Axes>"
            ],
            "image/png": "[encoded data removed]"
          },
          "metadata": {
            "needs_background": "light"
          }
        }
      ]
    },
    {
      "cell_type": "markdown",
      "source": [
        "## # To do 부정리뷰 워드클라우드"
      ],
      "metadata": {
        "id": "vpfVIfTYlgQD"
      }
    },
    {
      "cell_type": "markdown",
      "source": [
        "부정리뷰 워드클라우드를 생성해주세요!"
      ],
      "metadata": {
        "id": "A8B6ad2Glwtu"
      }
    },
    {
      "cell_type": "code",
      "source": [
        "okt = Okt()\n",
        "\n",
        "content_list = list(neg['main_pos'])\n",
        "noun_list = []\n",
        "\n",
        "for sentence in content_list:\n",
        "\n",
        "\n",
        "    sentence = re.sub('[a-zA-z0-9]','', sentence)\n",
        "    \n",
        "    for word, tag in okt.pos(sentence):\n",
        "      # 명사만 추출\n",
        "        if tag in ['Noun']:  \n",
        "\n",
        "            if len(word) == 1:\n",
        "                continue\n",
        "\n",
        "            else:\n",
        "                noun_list.append(word)\n",
        "\n",
        "count = Counter(noun_list)\n",
        "poswords = dict(count.most_common(n=50)) \n",
        "\n",
        "poswords.items()"
      ],
      "metadata": {
        "colab": {
          "base_uri": "https://localhost:8080/"
        },
        "id": "k3rhC4PxvjX5",
        "outputId": "13df7303-ce2d-4f25-97d8-46c41eb97436"
      },
      "execution_count": 100,
      "outputs": [
        {
          "output_type": "execute_result",
          "data": {
            "text/plain": [
              "dict_items([('영화', 807), ('평점', 133), ('진짜', 125), ('스토리', 115), ('시간', 108), ('재미', 102), ('내용', 98), ('감독', 88), ('그냥', 86), ('정말', 83), ('최악', 83), ('쓰레기', 78), ('배우', 74), ('이건', 70), ('별로', 67), ('액션', 60), ('연기', 58), ('정도', 52), ('사람', 47), ('생각', 45), ('연출', 44), ('처음', 41), ('느낌', 39), ('수준', 38), ('실망', 37), ('하나', 36), ('이해', 36), ('작품', 35), ('소재', 35), ('이야기', 35), ('보고', 34), ('코미디', 33), ('전개', 33), ('뭔가', 32), ('드라마', 31), ('점도', 31), ('결말', 30), ('무슨', 30), ('완전', 28), ('주인공', 28), ('보지', 28), ('이영화', 28), ('공포', 27), ('원작', 27), ('전혀', 26), ('졸작', 25), ('여자', 24), ('캐릭터', 24), ('때문', 23), ('제목', 22)])"
            ]
          },
          "metadata": {},
          "execution_count": 100
        }
      ]
    },
    {
      "cell_type": "code",
      "source": [
        "# 불용어 리스트 생성해서 제거\n",
        "stop_words = \"진짜 스토리 시간 액션 정도 생각 처음 느낌 하나 작품 소재 이야기 보고 코미디 전개 드라마 보지 원작 여자 캐릭터 제목 \"\n",
        "stop_words = stop_words.split(' ')\n",
        "\n",
        "\n",
        "# 불용어 제거 실시\n",
        "posword2 = [(i,j)for i,j in poswords.items()  if i not in stop_words]\n",
        "\n",
        "# 결과 출력\n",
        "posword3=dict(posword2)\n",
        "print(posword3)"
      ],
      "metadata": {
        "colab": {
          "base_uri": "https://localhost:8080/"
        },
        "id": "FyfTOcZQvjbz",
        "outputId": "a0b98512-6399-4763-c5f0-0607ffb2b07a"
      },
      "execution_count": 106,
      "outputs": [
        {
          "output_type": "stream",
          "name": "stdout",
          "text": [
            "{'영화': 807, '평점': 133, '재미': 102, '내용': 98, '감독': 88, '그냥': 86, '정말': 83, '최악': 83, '쓰레기': 78, '배우': 74, '이건': 70, '별로': 67, '연기': 58, '사람': 47, '연출': 44, '수준': 38, '실망': 37, '이해': 36, '뭔가': 32, '점도': 31, '결말': 30, '무슨': 30, '완전': 28, '주인공': 28, '이영화': 28, '공포': 27, '전혀': 26, '졸작': 25, '때문': 23}\n"
          ]
        }
      ]
    },
    {
      "cell_type": "code",
      "source": [
        "Image.open(\"/content/drive/MyDrive/YBIGTA/과제/word/데이터/star.PNG\")"
      ],
      "metadata": {
        "colab": {
          "base_uri": "https://localhost:8080/",
          "height": 651
        },
        "id": "M9hkFekEzIAn",
        "outputId": "8f2e5533-a1fe-4a92-8f48-4c6a65f51e6e"
      },
      "execution_count": 110,
      "outputs": [
        {
          "output_type": "execute_result",
          "data": {
            "text/plain": [
              "<PIL.PngImagePlugin.PngImageFile image mode=RGBA size=1165x783 at 0x7FD2CE2D85D0>"
            ],
            "image/png": "[encoded data removed]"
          },
          "metadata": {},
          "execution_count": 110
        }
      ]
    },
    {
      "cell_type": "code",
      "source": [
        "import numpy as np\n",
        "mask_array = np.array(Image.open(\"/content/drive/MyDrive/YBIGTA/과제/word/데이터/star.PNG\"))\n",
        "mask_array"
      ],
      "metadata": {
        "colab": {
          "base_uri": "https://localhost:8080/"
        },
        "id": "TZdpS-M2vjis",
        "outputId": "9c4c3804-aff4-4faf-8350-3ea43f002567"
      },
      "execution_count": 111,
      "outputs": [
        {
          "output_type": "execute_result",
          "data": {
            "text/plain": [
              "array([[[255, 255, 255, 255],\n",
              "        [255, 255, 255, 255],\n",
              "        [255, 255, 255, 255],\n",
              "        ...,\n",
              "        [255, 255, 255, 255],\n",
              "        [255, 255, 255, 255],\n",
              "        [255, 255, 255, 255]],\n",
              "\n",
              "       [[255, 255, 255, 255],\n",
              "        [255, 255, 255, 255],\n",
              "        [255, 255, 255, 255],\n",
              "        ...,\n",
              "        [255, 255, 255, 255],\n",
              "        [255, 255, 255, 255],\n",
              "        [255, 255, 255, 255]],\n",
              "\n",
              "       [[255, 255, 255, 255],\n",
              "        [255, 255, 255, 255],\n",
              "        [255, 255, 255, 255],\n",
              "        ...,\n",
              "        [255, 255, 255, 255],\n",
              "        [255, 255, 255, 255],\n",
              "        [255, 255, 255, 255]],\n",
              "\n",
              "       ...,\n",
              "\n",
              "       [[255, 255, 255, 255],\n",
              "        [255, 255, 255, 255],\n",
              "        [255, 255, 255, 255],\n",
              "        ...,\n",
              "        [255, 255, 255, 255],\n",
              "        [255, 255, 255, 255],\n",
              "        [255, 255, 255, 255]],\n",
              "\n",
              "       [[255, 255, 255, 255],\n",
              "        [255, 255, 255, 255],\n",
              "        [255, 255, 255, 255],\n",
              "        ...,\n",
              "        [255, 255, 255, 255],\n",
              "        [255, 255, 255, 255],\n",
              "        [255, 255, 255, 255]],\n",
              "\n",
              "       [[255, 255, 255, 255],\n",
              "        [255, 255, 255, 255],\n",
              "        [255, 255, 255, 255],\n",
              "        ...,\n",
              "        [255, 255, 255, 255],\n",
              "        [255, 255, 255, 255],\n",
              "        [255, 255, 255, 255]]], dtype=uint8)"
            ]
          },
          "metadata": {},
          "execution_count": 111
        }
      ]
    },
    {
      "cell_type": "code",
      "source": [
        "mask1 = np.array(Image.open(\"/content/drive/MyDrive/YBIGTA/과제/word/데이터/star.PNG\"))\n",
        "palettes = ['spring', 'summer', 'seismic','PuBu']\n",
        "for i in range(4):\n",
        "  wordcloud = WordCloud(font_path = '/content/drive/MyDrive/YBIGTA/과제/word/데이터/LeeSeoyun.ttf',\n",
        "      width = 700,\n",
        "      height = 700,\n",
        "      background_color=\"black\",\n",
        "      colormap = palettes[i],\n",
        "      min_font_size = 10, max_font_size = 100,\n",
        "      mask = mask1\n",
        "  )\n",
        "\n",
        "wordcloud = wordcloud.generate_from_frequencies(posword3)\n",
        "plt.figure(figsize=(30, 30))\n",
        "plt.imshow(wordcloud, interpolation=\"bilinear\")\n",
        "plt.axis(\"off\")\n",
        "plt.show()"
      ],
      "metadata": {
        "colab": {
          "base_uri": "https://localhost:8080/",
          "height": 653
        },
        "id": "Ei5GAlwpyEU4",
        "outputId": "18bd3b6a-60a3-4152-d416-7971e10ebc9c"
      },
      "execution_count": 118,
      "outputs": [
        {
          "output_type": "display_data",
          "data": {
            "text/plain": [
              "<Figure size 2160x2160 with 1 Axes>"
            ],
            "image/png": "[encoded data removed]"
          },
          "metadata": {
            "needs_background": "light"
          }
        }
      ]
    }
  ],
  "metadata": {
    "kernelspec": {
      "display_name": "eunil_py38",
      "language": "python",
      "name": "eunil_py38"
    },
    "language_info": {
      "codemirror_mode": {
        "name": "ipython",
        "version": 3
      },
      "file_extension": ".py",
      "mimetype": "text/x-python",
      "name": "python",
      "nbconvert_exporter": "python",
      "pygments_lexer": "ipython3",
      "version": "3.8.12"
    },
    "colab": {
      "name": "wordcloudkonlpy과제.ipynb",
      "provenance": [],
      "collapsed_sections": []
    }
  },
  "nbformat": 4,
  "nbformat_minor": 0
}