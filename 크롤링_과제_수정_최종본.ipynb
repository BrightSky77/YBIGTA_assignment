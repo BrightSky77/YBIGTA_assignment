{
  "cells": [
    {
      "cell_type": "markdown",
      "source": [
        "### 과제 url\n",
        "\n",
        "url => https://movie.naver.com/movie/sdb/rank/rmovie.naver \n",
        "\n",
        "평점은 관람객 평점만 하셔도 괜찮습니다!"
      ],
      "metadata": {
        "id": "KjhQLQiSabny"
      }
    },
    {
      "cell_type": "markdown",
      "source": [
        "## 실수로 import 하는 부분을 지운걸 발견해서 수정 후 다시 제출합니다"
      ],
      "metadata": {
        "id": "qOK3q8kRB7Lo"
      }
    },
    {
      "cell_type": "code",
      "source": [
        "!pip3 install requests\n",
        "!pip3 install bs4\n",
        "import requests\n",
        "import re\n",
        "from bs4 import BeautifulSoup"
      ],
      "metadata": {
        "colab": {
          "base_uri": "https://localhost:8080/"
        },
        "id": "Bq2MgSu4BLPs",
        "outputId": "a46b18d4-eef4-47f2-8781-6932619a9dfa"
      },
      "execution_count": 1,
      "outputs": [
        {
          "output_type": "stream",
          "name": "stdout",
          "text": [
            "Looking in indexes: https://pypi.org/simple, https://us-python.pkg.dev/colab-wheels/public/simple/\n",
            "Requirement already satisfied: requests in /usr/local/lib/python3.7/dist-packages (2.23.0)\n",
            "Requirement already satisfied: urllib3!=1.25.0,!=1.25.1,<1.26,>=1.21.1 in /usr/local/lib/python3.7/dist-packages (from requests) (1.24.3)\n",
            "Requirement already satisfied: idna<3,>=2.5 in /usr/local/lib/python3.7/dist-packages (from requests) (2.10)\n",
            "Requirement already satisfied: certifi>=2017.4.17 in /usr/local/lib/python3.7/dist-packages (from requests) (2022.6.15)\n",
            "Requirement already satisfied: chardet<4,>=3.0.2 in /usr/local/lib/python3.7/dist-packages (from requests) (3.0.4)\n",
            "Looking in indexes: https://pypi.org/simple, https://us-python.pkg.dev/colab-wheels/public/simple/\n",
            "Requirement already satisfied: bs4 in /usr/local/lib/python3.7/dist-packages (0.0.1)\n",
            "Requirement already satisfied: beautifulsoup4 in /usr/local/lib/python3.7/dist-packages (from bs4) (4.6.3)\n",
            "Looking in indexes: https://pypi.org/simple, https://us-python.pkg.dev/colab-wheels/public/simple/\n",
            "Collecting selenium\n",
            "  Downloading selenium-4.3.0-py3-none-any.whl (981 kB)\n",
            "\u001b[K     |████████████████████████████████| 981 kB 5.1 MB/s \n",
            "\u001b[?25hCollecting trio-websocket~=0.9\n",
            "  Downloading trio_websocket-0.9.2-py3-none-any.whl (16 kB)\n",
            "Collecting urllib3[secure,socks]~=1.26\n",
            "  Downloading urllib3-1.26.11-py2.py3-none-any.whl (139 kB)\n",
            "\u001b[K     |████████████████████████████████| 139 kB 69.0 MB/s \n",
            "\u001b[?25hCollecting trio~=0.17\n",
            "  Downloading trio-0.21.0-py3-none-any.whl (358 kB)\n",
            "\u001b[K     |████████████████████████████████| 358 kB 52.1 MB/s \n",
            "\u001b[?25hCollecting sniffio\n",
            "  Downloading sniffio-1.2.0-py3-none-any.whl (10 kB)\n",
            "Requirement already satisfied: idna in /usr/local/lib/python3.7/dist-packages (from trio~=0.17->selenium) (2.10)\n",
            "Requirement already satisfied: attrs>=19.2.0 in /usr/local/lib/python3.7/dist-packages (from trio~=0.17->selenium) (22.1.0)\n",
            "Collecting outcome\n",
            "  Downloading outcome-1.2.0-py2.py3-none-any.whl (9.7 kB)\n",
            "Requirement already satisfied: sortedcontainers in /usr/local/lib/python3.7/dist-packages (from trio~=0.17->selenium) (2.4.0)\n",
            "Collecting async-generator>=1.9\n",
            "  Downloading async_generator-1.10-py3-none-any.whl (18 kB)\n",
            "Collecting wsproto>=0.14\n",
            "  Downloading wsproto-1.1.0-py3-none-any.whl (24 kB)\n",
            "Requirement already satisfied: PySocks!=1.5.7,<2.0,>=1.5.6 in /usr/local/lib/python3.7/dist-packages (from urllib3[secure,socks]~=1.26->selenium) (1.7.1)\n",
            "Collecting cryptography>=1.3.4\n",
            "  Downloading cryptography-37.0.4-cp36-abi3-manylinux_2_24_x86_64.whl (4.1 MB)\n",
            "\u001b[K     |████████████████████████████████| 4.1 MB 31.8 MB/s \n",
            "\u001b[?25hCollecting pyOpenSSL>=0.14\n",
            "  Downloading pyOpenSSL-22.0.0-py2.py3-none-any.whl (55 kB)\n",
            "\u001b[K     |████████████████████████████████| 55 kB 4.7 MB/s \n",
            "\u001b[?25hRequirement already satisfied: certifi in /usr/local/lib/python3.7/dist-packages (from urllib3[secure,socks]~=1.26->selenium) (2022.6.15)\n",
            "Requirement already satisfied: cffi>=1.12 in /usr/local/lib/python3.7/dist-packages (from cryptography>=1.3.4->urllib3[secure,socks]~=1.26->selenium) (1.15.1)\n",
            "Requirement already satisfied: pycparser in /usr/local/lib/python3.7/dist-packages (from cffi>=1.12->cryptography>=1.3.4->urllib3[secure,socks]~=1.26->selenium) (2.21)\n",
            "Collecting h11<1,>=0.9.0\n",
            "  Downloading h11-0.13.0-py3-none-any.whl (58 kB)\n",
            "\u001b[K     |████████████████████████████████| 58 kB 6.2 MB/s \n",
            "\u001b[?25hRequirement already satisfied: typing-extensions in /usr/local/lib/python3.7/dist-packages (from h11<1,>=0.9.0->wsproto>=0.14->trio-websocket~=0.9->selenium) (4.1.1)\n",
            "Installing collected packages: sniffio, outcome, h11, cryptography, async-generator, wsproto, urllib3, trio, pyOpenSSL, trio-websocket, selenium\n",
            "  Attempting uninstall: urllib3\n",
            "    Found existing installation: urllib3 1.24.3\n",
            "    Uninstalling urllib3-1.24.3:\n",
            "      Successfully uninstalled urllib3-1.24.3\n",
            "\u001b[31mERROR: pip's dependency resolver does not currently take into account all the packages that are installed. This behaviour is the source of the following dependency conflicts.\n",
            "requests 2.23.0 requires urllib3!=1.25.0,!=1.25.1,<1.26,>=1.21.1, but you have urllib3 1.26.11 which is incompatible.\u001b[0m\n",
            "Successfully installed async-generator-1.10 cryptography-37.0.4 h11-0.13.0 outcome-1.2.0 pyOpenSSL-22.0.0 selenium-4.3.0 sniffio-1.2.0 trio-0.21.0 trio-websocket-0.9.2 urllib3-1.26.11 wsproto-1.1.0\n"
          ]
        },
        {
          "output_type": "stream",
          "name": "stderr",
          "text": [
            "/usr/local/lib/python3.7/dist-packages/requests/__init__.py:91: RequestsDependencyWarning: urllib3 (1.26.11) or chardet (3.0.4) doesn't match a supported version!\n",
            "  RequestsDependencyWarning)\n"
          ]
        }
      ]
    },
    {
      "cell_type": "code",
      "source": [
        "url = 'https://movie.naver.com/movie/sdb/rank/rmovie.naver'\n",
        "res = requests.get(url)\n",
        "soup = BeautifulSoup(res.text, 'html.parser')\n"
      ],
      "metadata": {
        "id": "OrE3_rMylpKf"
      },
      "execution_count": 2,
      "outputs": []
    },
    {
      "cell_type": "code",
      "source": [
        "movies = soup.select('table.list_ranking tbody div.tit3')\n",
        "for index, movie in enumerate(movies[0:10]):    \n",
        "    movie_link = 'https://movie.naver.com/movie' + movie.select_one('a')['href']\n",
        "    response_movie = requests.get(movie_link)\n",
        "    movie_soup = BeautifulSoup(response_movie.text, 'html.parser')\n",
        "    \n",
        "    information = []\n",
        "    \n",
        "    title = movie_soup.find('div', attrs={\"class\": 'mv_info_area'}).find('div', attrs={\"class\" : 'mv_info'}).find('h3', attrs={\"class\" : 'h_movie'}).find('a').text\n",
        "    information.append(title)\n",
        "    \n",
        "    try:\n",
        "          rating = movie_soup.find('div', class_ = \"mv_info_area\").find('div', class_='mv_info').find('div', class_='main_score').find('div', class_='star_score').find('span', class_='st_on').text\n",
        "          information.append(rating)\n",
        "            \n",
        "    except:\n",
        "          pass\n",
        "\n",
        "    summary = movie_soup.find('div', class_ = \"mv_info_area\").find('div', class_='mv_info').find('dl', class_ = \"info_spec\").find_all('dd')\n",
        "    # summary=summary.sub('<.+?>', '', str(summary), 0).strip()\n",
        "    info = summary[0].find_all('span')\n",
        "    for infos in info: \n",
        "      infos = infos.text.split()\n",
        "      information.append(infos)\n",
        "    \n",
        "    info2 = summary[1].find('p')\n",
        "    info2 = info2.text\n",
        "    information.append(info2)\n",
        "\n",
        "    info3 = summary[2].find('p')\n",
        "    info3 = info3.text\n",
        "    information.append(info3)\n",
        "\n",
        "    try:\n",
        "      info4 = summary[3].find('a')\n",
        "      info4 = info4.text\n",
        "      information.append(info4)\n",
        "    except:\n",
        "      pass\n",
        "   \n",
        "    try:\n",
        "      info5 = summary[4].find('p')\n",
        "      info5 = info5.text\n",
        "      information.append(info5)\n",
        "    except:\n",
        "      pass\n",
        "\n",
        "\n",
        "\n",
        "\n",
        "\n",
        "\n",
        "\n",
        "    print(information)"
      ],
      "metadata": {
        "colab": {
          "base_uri": "https://localhost:8080/"
        },
        "id": "2TbnMML5vjPy",
        "outputId": "95b90128-bcd5-4dbf-9adb-59d23003789a"
      },
      "execution_count": 3,
      "outputs": [
        {
          "output_type": "stream",
          "name": "stdout",
          "text": [
            "['비상선언', '관람객 평점 6.73점', ['드라마'], ['한국'], ['140분'], ['2022', '.08.03', '개봉'], '한재림', '송강호, 이병헌, 전도연', '12세 관람가', '1,495,336명(08.08 기준)']\n",
            "['한산: 용의 출현', '관람객 평점 8.52점', ['액션,', '드라마'], ['한국'], ['129분'], ['2022', '.07.27', '개봉'], '김한민', '박해일, 변요한, 안성기', '12세 관람가', '4,760,152명(08.08 기준)']\n",
            "['외계+인 1부', '관람객 평점 6.89점', ['액션,', '판타지,', 'SF'], ['한국'], ['142분'], ['2022', '.07.20', '개봉'], '최동훈', '류준열, 김우빈, 김태리', '12세 관람가', '1,501,779명(08.08 기준)']\n",
            "['탑건: 매버릭', '관람객 평점 9.59점', ['액션'], ['미국'], ['130분'], ['2022', '.06.22', '개봉'], '조셉 코신스키', '톰 크루즈(매버릭), 마일즈 텔러(루스터), 제니퍼 코넬리(페니)', '12세 관람가', '7,477,721명(08.08 기준)']\n",
            "['헤어질 결심', '관람객 평점 8.93점', ['멜로/로맨스,', '드라마,', '서스펜스'], ['한국'], ['138분'], ['2022', '.06.29', '개봉'], '박찬욱', '박해일(해준), 탕웨이(서래), 이정현(정안)', '15세 관람가', '1,783,308명(08.08 기준)']\n",
            "['헌트', ['액션,', '드라마'], ['한국'], ['125분'], ['2022', '.08.10', '개봉'], '이정재', '이정재(박평호), 정우성(김정도)', '15세 관람가']\n",
            "['카터', '관람객 평점 없음', ['액션,', '모험'], ['한국'], '정병길', '주원']\n",
            "['미니언즈2', '관람객 평점 7.86점', ['애니메이션,', '모험,', '코미디'], ['미국'], ['87분'], ['2022', '.07.20', '개봉'], '카일 발다', '스티브 카렐(그루 목소리), 타라지 P. 헨슨(벨 바텀 목소리), 양자경', '전체 관람가', '1,995,389명(08.08 기준)']\n",
            "['프레이', '관람객 평점 없음', ['액션,', '스릴러,', '드라마,', '공포,', 'SF'], ['미국'], ['99분'], '댄 트라첸버그', '엠버 미드썬더', '청소년 관람불가']\n",
            "['토르: 러브 앤 썬더', '관람객 평점 6.73점', ['액션,', '모험,', '판타지'], ['미국'], ['119분'], ['2022', '.07.06', '개봉'], '타이카 와이티티', '크리스 헴스워스(토르), 나탈리 포트만(제인 포스터), 테사 톰슨(발키리)', '12세 관람가', '2,714,787명(08.08 기준)']\n"
          ]
        }
      ]
    }
  ],
  "metadata": {
    "colab": {
      "collapsed_sections": [],
      "name": "크롤링 실습.ipynb",
      "provenance": []
    },
    "kernelspec": {
      "display_name": "Python 3",
      "language": "python",
      "name": "python3"
    },
    "language_info": {
      "codemirror_mode": {
        "name": "ipython",
        "version": 3
      },
      "file_extension": ".py",
      "mimetype": "text/x-python",
      "name": "python",
      "nbconvert_exporter": "python",
      "pygments_lexer": "ipython3",
      "version": "3.8.8"
    }
  },
  "nbformat": 4,
  "nbformat_minor": 0
}